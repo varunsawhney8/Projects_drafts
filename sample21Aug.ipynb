{
  "nbformat": 4,
  "nbformat_minor": 0,
  "metadata": {
    "colab": {
      "name": "Untitled7.ipynb",
      "provenance": [],
      "collapsed_sections": [],
      "authorship_tag": "ABX9TyOaTVCL1Lm+3Cqcq3TLOJra",
      "include_colab_link": true
    },
    "kernelspec": {
      "name": "python3",
      "display_name": "Python 3"
    },
    "language_info": {
      "name": "python"
    }
  },
  "cells": [
    {
      "cell_type": "markdown",
      "metadata": {
        "id": "view-in-github",
        "colab_type": "text"
      },
      "source": [
        "<a href=\"https://colab.research.google.com/github/varunsawhney8/Projects/blob/main/sample21Aug.ipynb\" target=\"_parent\"><img src=\"https://colab.research.google.com/assets/colab-badge.svg\" alt=\"Open In Colab\"/></a>"
      ]
    },
    {
      "cell_type": "code",
      "metadata": {
        "id": "TY87rt14CK4J"
      },
      "source": [
        "import pandas as pd\n",
        "import numpy as np\n",
        "\n",
        "\n",
        "path='/content/Reliance_Final_Ndtv_data4.xlsx'\n",
        "data=pd.read_excel(path)\n",
        "\n",
        "\n",
        "data=data[::-1].reset_index()\n",
        "data.drop(columns=['index'],axis=True,inplace=True)\n",
        "\n",
        "path='/content/Reliance_Nse_data2.csv'\n",
        "data1=pd.read_csv(path)\n",
        "\n",
        "\n",
        "data.drop(columns=['Media','Article','Keywords'],inplace=True,axis=1)"
      ],
      "execution_count": 224,
      "outputs": []
    },
    {
      "cell_type": "code",
      "metadata": {
        "colab": {
          "base_uri": "https://localhost:8080/"
        },
        "id": "yoSfs9LTf89Q",
        "outputId": "b2eab6a8-bb8b-4e59-c95c-d1b5382b0969"
      },
      "source": [
        "data.columns"
      ],
      "execution_count": 218,
      "outputs": [
        {
          "output_type": "execute_result",
          "data": {
            "text/plain": [
              "Index(['Date', 'Title'], dtype='object')"
            ]
          },
          "metadata": {},
          "execution_count": 218
        }
      ]
    },
    {
      "cell_type": "code",
      "metadata": {
        "colab": {
          "base_uri": "https://localhost:8080/"
        },
        "id": "xRT8wmzMCRZq",
        "outputId": "16688b57-d509-440e-8804-e51c4f915ead"
      },
      "source": [
        "!pip install transformers\n",
        "from transformers import pipeline\n",
        "classifier = pipeline('sentiment-analysis', model=\"ProsusAI/finbert\")\n",
        "list3=[]\n",
        "\n",
        "for i in range(len(data['Title'])):\n",
        "    a=(classifier(data['Title'][i]))\n",
        "    a=a[0]\n",
        "    a=list(a.values())[0]\n",
        "    label_f={'positive':1,'negative':2,'neutral':0}\n",
        "    list3.append(label_f[a])\n",
        "\n",
        "data['finbert']=list3\n",
        "\n",
        "del list3"
      ],
      "execution_count": 225,
      "outputs": [
        {
          "output_type": "stream",
          "text": [
            "Requirement already satisfied: transformers in /usr/local/lib/python3.7/dist-packages (4.9.2)\n",
            "Requirement already satisfied: packaging in /usr/local/lib/python3.7/dist-packages (from transformers) (21.0)\n",
            "Requirement already satisfied: tokenizers<0.11,>=0.10.1 in /usr/local/lib/python3.7/dist-packages (from transformers) (0.10.3)\n",
            "Requirement already satisfied: filelock in /usr/local/lib/python3.7/dist-packages (from transformers) (3.0.12)\n",
            "Requirement already satisfied: tqdm>=4.27 in /usr/local/lib/python3.7/dist-packages (from transformers) (4.62.0)\n",
            "Requirement already satisfied: sacremoses in /usr/local/lib/python3.7/dist-packages (from transformers) (0.0.45)\n",
            "Requirement already satisfied: numpy>=1.17 in /usr/local/lib/python3.7/dist-packages (from transformers) (1.19.5)\n",
            "Requirement already satisfied: huggingface-hub==0.0.12 in /usr/local/lib/python3.7/dist-packages (from transformers) (0.0.12)\n",
            "Requirement already satisfied: regex!=2019.12.17 in /usr/local/lib/python3.7/dist-packages (from transformers) (2019.12.20)\n",
            "Requirement already satisfied: requests in /usr/local/lib/python3.7/dist-packages (from transformers) (2.23.0)\n",
            "Requirement already satisfied: importlib-metadata in /usr/local/lib/python3.7/dist-packages (from transformers) (4.6.4)\n",
            "Requirement already satisfied: pyyaml>=5.1 in /usr/local/lib/python3.7/dist-packages (from transformers) (5.4.1)\n",
            "Requirement already satisfied: typing-extensions in /usr/local/lib/python3.7/dist-packages (from huggingface-hub==0.0.12->transformers) (3.7.4.3)\n",
            "Requirement already satisfied: pyparsing>=2.0.2 in /usr/local/lib/python3.7/dist-packages (from packaging->transformers) (2.4.7)\n",
            "Requirement already satisfied: zipp>=0.5 in /usr/local/lib/python3.7/dist-packages (from importlib-metadata->transformers) (3.5.0)\n",
            "Requirement already satisfied: urllib3!=1.25.0,!=1.25.1,<1.26,>=1.21.1 in /usr/local/lib/python3.7/dist-packages (from requests->transformers) (1.24.3)\n",
            "Requirement already satisfied: certifi>=2017.4.17 in /usr/local/lib/python3.7/dist-packages (from requests->transformers) (2021.5.30)\n",
            "Requirement already satisfied: idna<3,>=2.5 in /usr/local/lib/python3.7/dist-packages (from requests->transformers) (2.10)\n",
            "Requirement already satisfied: chardet<4,>=3.0.2 in /usr/local/lib/python3.7/dist-packages (from requests->transformers) (3.0.4)\n",
            "Requirement already satisfied: click in /usr/local/lib/python3.7/dist-packages (from sacremoses->transformers) (7.1.2)\n",
            "Requirement already satisfied: joblib in /usr/local/lib/python3.7/dist-packages (from sacremoses->transformers) (1.0.1)\n",
            "Requirement already satisfied: six in /usr/local/lib/python3.7/dist-packages (from sacremoses->transformers) (1.15.0)\n"
          ],
          "name": "stdout"
        }
      ]
    },
    {
      "cell_type": "code",
      "metadata": {
        "colab": {
          "base_uri": "https://localhost:8080/",
          "height": 204
        },
        "id": "6ajA1ccYgl2k",
        "outputId": "011a2c23-f347-4b96-9a52-993e54838f6f"
      },
      "source": [
        "data.head()"
      ],
      "execution_count": 227,
      "outputs": [
        {
          "output_type": "execute_result",
          "data": {
            "text/html": [
              "<div>\n",
              "<style scoped>\n",
              "    .dataframe tbody tr th:only-of-type {\n",
              "        vertical-align: middle;\n",
              "    }\n",
              "\n",
              "    .dataframe tbody tr th {\n",
              "        vertical-align: top;\n",
              "    }\n",
              "\n",
              "    .dataframe thead th {\n",
              "        text-align: right;\n",
              "    }\n",
              "</style>\n",
              "<table border=\"1\" class=\"dataframe\">\n",
              "  <thead>\n",
              "    <tr style=\"text-align: right;\">\n",
              "      <th></th>\n",
              "      <th>Date</th>\n",
              "      <th>Title</th>\n",
              "      <th>finbert</th>\n",
              "    </tr>\n",
              "  </thead>\n",
              "  <tbody>\n",
              "    <tr>\n",
              "      <th>0</th>\n",
              "      <td>2020-07-16</td>\n",
              "      <td>Reliance's Stake Sale Talks With Saudi Aramco ...</td>\n",
              "      <td>2</td>\n",
              "    </tr>\n",
              "    <tr>\n",
              "      <th>1</th>\n",
              "      <td>2020-07-17</td>\n",
              "      <td>Reliance To Shut Crude Refining Unit For Maint...</td>\n",
              "      <td>2</td>\n",
              "    </tr>\n",
              "    <tr>\n",
              "      <th>2</th>\n",
              "      <td>2020-07-20</td>\n",
              "      <td>Reliance-Google Smartphone Deal in India Threa...</td>\n",
              "      <td>2</td>\n",
              "    </tr>\n",
              "    <tr>\n",
              "      <th>3</th>\n",
              "      <td>2020-07-21</td>\n",
              "      <td>Netflix, Amazon, Facebook Stocks Draw In Amate...</td>\n",
              "      <td>1</td>\n",
              "    </tr>\n",
              "    <tr>\n",
              "      <th>4</th>\n",
              "      <td>2020-07-22</td>\n",
              "      <td>Reliance Industries Postpones June Quarter Res...</td>\n",
              "      <td>2</td>\n",
              "    </tr>\n",
              "  </tbody>\n",
              "</table>\n",
              "</div>"
            ],
            "text/plain": [
              "         Date                                              Title  finbert\n",
              "0  2020-07-16  Reliance's Stake Sale Talks With Saudi Aramco ...        2\n",
              "1  2020-07-17  Reliance To Shut Crude Refining Unit For Maint...        2\n",
              "2  2020-07-20  Reliance-Google Smartphone Deal in India Threa...        2\n",
              "3  2020-07-21  Netflix, Amazon, Facebook Stocks Draw In Amate...        1\n",
              "4  2020-07-22  Reliance Industries Postpones June Quarter Res...        2"
            ]
          },
          "metadata": {},
          "execution_count": 227
        }
      ]
    },
    {
      "cell_type": "code",
      "metadata": {
        "id": "AWBZdJ_uFvGD"
      },
      "source": [
        "aggregation_functions = {'Title': 'first', 'finbert': 'max'}\n",
        "data = data.groupby(data['Date']).aggregate(aggregation_functions)\n",
        "data.reset_index( inplace=True)\n",
        "data['Date']=pd.to_datetime(data['Date']).dt.date\n"
      ],
      "execution_count": 226,
      "outputs": []
    },
    {
      "cell_type": "code",
      "metadata": {
        "id": "NiyKcxjzDTh9"
      },
      "source": [
        "data['3day_sentiment'] = round(data['finbert'].ewm(span=3).mean())\n",
        "data['7day_sentiment'] = round(data['finbert'].ewm(span=7).mean())"
      ],
      "execution_count": 228,
      "outputs": []
    },
    {
      "cell_type": "code",
      "metadata": {
        "colab": {
          "base_uri": "https://localhost:8080/",
          "height": 204
        },
        "id": "nX_JDnZobKUC",
        "outputId": "2fd1ee15-853b-40d5-aab8-b06189d2fb80"
      },
      "source": [
        "data.head()"
      ],
      "execution_count": 229,
      "outputs": [
        {
          "output_type": "execute_result",
          "data": {
            "text/html": [
              "<div>\n",
              "<style scoped>\n",
              "    .dataframe tbody tr th:only-of-type {\n",
              "        vertical-align: middle;\n",
              "    }\n",
              "\n",
              "    .dataframe tbody tr th {\n",
              "        vertical-align: top;\n",
              "    }\n",
              "\n",
              "    .dataframe thead th {\n",
              "        text-align: right;\n",
              "    }\n",
              "</style>\n",
              "<table border=\"1\" class=\"dataframe\">\n",
              "  <thead>\n",
              "    <tr style=\"text-align: right;\">\n",
              "      <th></th>\n",
              "      <th>Date</th>\n",
              "      <th>Title</th>\n",
              "      <th>finbert</th>\n",
              "      <th>3day_sentiment</th>\n",
              "      <th>7day_sentiment</th>\n",
              "    </tr>\n",
              "  </thead>\n",
              "  <tbody>\n",
              "    <tr>\n",
              "      <th>0</th>\n",
              "      <td>2020-07-16</td>\n",
              "      <td>Reliance's Stake Sale Talks With Saudi Aramco ...</td>\n",
              "      <td>2</td>\n",
              "      <td>2.0</td>\n",
              "      <td>2.0</td>\n",
              "    </tr>\n",
              "    <tr>\n",
              "      <th>1</th>\n",
              "      <td>2020-07-17</td>\n",
              "      <td>Reliance To Shut Crude Refining Unit For Maint...</td>\n",
              "      <td>2</td>\n",
              "      <td>2.0</td>\n",
              "      <td>2.0</td>\n",
              "    </tr>\n",
              "    <tr>\n",
              "      <th>2</th>\n",
              "      <td>2020-07-20</td>\n",
              "      <td>Reliance-Google Smartphone Deal in India Threa...</td>\n",
              "      <td>2</td>\n",
              "      <td>2.0</td>\n",
              "      <td>2.0</td>\n",
              "    </tr>\n",
              "    <tr>\n",
              "      <th>3</th>\n",
              "      <td>2020-07-21</td>\n",
              "      <td>Netflix, Amazon, Facebook Stocks Draw In Amate...</td>\n",
              "      <td>1</td>\n",
              "      <td>1.0</td>\n",
              "      <td>2.0</td>\n",
              "    </tr>\n",
              "    <tr>\n",
              "      <th>4</th>\n",
              "      <td>2020-07-22</td>\n",
              "      <td>Reliance Industries Postpones June Quarter Res...</td>\n",
              "      <td>2</td>\n",
              "      <td>2.0</td>\n",
              "      <td>2.0</td>\n",
              "    </tr>\n",
              "  </tbody>\n",
              "</table>\n",
              "</div>"
            ],
            "text/plain": [
              "         Date  ... 7day_sentiment\n",
              "0  2020-07-16  ...            2.0\n",
              "1  2020-07-17  ...            2.0\n",
              "2  2020-07-20  ...            2.0\n",
              "3  2020-07-21  ...            2.0\n",
              "4  2020-07-22  ...            2.0\n",
              "\n",
              "[5 rows x 5 columns]"
            ]
          },
          "metadata": {},
          "execution_count": 229
        }
      ]
    },
    {
      "cell_type": "code",
      "metadata": {
        "colab": {
          "base_uri": "https://localhost:8080/",
          "height": 204
        },
        "id": "cFF7ALu7V7fI",
        "outputId": "57e32397-ce16-4278-8911-60b669f7f7f3"
      },
      "source": [
        "data1['Date']=pd.to_datetime(data1['Date']).dt.date\n",
        "data1['perc_change1'] =data1['Close'].pct_change(periods=1)*100\n",
        "data1['perc_change3'] =data1['Close'].pct_change(periods=2)*100\n",
        "data1['perc_change7'] =data1['Close'].pct_change(periods=6)*100\n",
        "data1.head()"
      ],
      "execution_count": 235,
      "outputs": [
        {
          "output_type": "execute_result",
          "data": {
            "text/html": [
              "<div>\n",
              "<style scoped>\n",
              "    .dataframe tbody tr th:only-of-type {\n",
              "        vertical-align: middle;\n",
              "    }\n",
              "\n",
              "    .dataframe tbody tr th {\n",
              "        vertical-align: top;\n",
              "    }\n",
              "\n",
              "    .dataframe thead th {\n",
              "        text-align: right;\n",
              "    }\n",
              "</style>\n",
              "<table border=\"1\" class=\"dataframe\">\n",
              "  <thead>\n",
              "    <tr style=\"text-align: right;\">\n",
              "      <th></th>\n",
              "      <th>Date</th>\n",
              "      <th>Close</th>\n",
              "      <th>perc_change1</th>\n",
              "      <th>perc_change3</th>\n",
              "      <th>perc_change7</th>\n",
              "    </tr>\n",
              "  </thead>\n",
              "  <tbody>\n",
              "    <tr>\n",
              "      <th>0</th>\n",
              "      <td>2020-07-16</td>\n",
              "      <td>1843.400024</td>\n",
              "      <td>NaN</td>\n",
              "      <td>NaN</td>\n",
              "      <td>NaN</td>\n",
              "    </tr>\n",
              "    <tr>\n",
              "      <th>1</th>\n",
              "      <td>2020-07-17</td>\n",
              "      <td>1911.699951</td>\n",
              "      <td>3.705106</td>\n",
              "      <td>NaN</td>\n",
              "      <td>NaN</td>\n",
              "    </tr>\n",
              "    <tr>\n",
              "      <th>2</th>\n",
              "      <td>2020-07-20</td>\n",
              "      <td>1919.900024</td>\n",
              "      <td>0.428941</td>\n",
              "      <td>4.149940</td>\n",
              "      <td>NaN</td>\n",
              "    </tr>\n",
              "    <tr>\n",
              "      <th>3</th>\n",
              "      <td>2020-07-21</td>\n",
              "      <td>1971.550049</td>\n",
              "      <td>2.690246</td>\n",
              "      <td>3.130727</td>\n",
              "      <td>NaN</td>\n",
              "    </tr>\n",
              "    <tr>\n",
              "      <th>4</th>\n",
              "      <td>2020-07-22</td>\n",
              "      <td>2004.000000</td>\n",
              "      <td>1.645911</td>\n",
              "      <td>4.380435</td>\n",
              "      <td>NaN</td>\n",
              "    </tr>\n",
              "  </tbody>\n",
              "</table>\n",
              "</div>"
            ],
            "text/plain": [
              "         Date        Close  perc_change1  perc_change3  perc_change7\n",
              "0  2020-07-16  1843.400024           NaN           NaN           NaN\n",
              "1  2020-07-17  1911.699951      3.705106           NaN           NaN\n",
              "2  2020-07-20  1919.900024      0.428941      4.149940           NaN\n",
              "3  2020-07-21  1971.550049      2.690246      3.130727           NaN\n",
              "4  2020-07-22  2004.000000      1.645911      4.380435           NaN"
            ]
          },
          "metadata": {},
          "execution_count": 235
        }
      ]
    },
    {
      "cell_type": "code",
      "metadata": {
        "colab": {
          "base_uri": "https://localhost:8080/"
        },
        "id": "fAdOmLTv2B-h",
        "outputId": "69748665-7b4d-485d-c12e-5cbbcc419841"
      },
      "source": [
        "import numpy as np\n",
        "\n",
        "data2=pd.DataFrame(columns=[\"Date\",\"Label\",\"perc_change1\"])\n",
        "data2['Date']=[np.nan for i in range(len(data))]\n",
        "data2['perc_change1']=[np.nan for i in range(len(data2))]\n",
        "data2['Label']=[np.nan for i in range(len(data2))]\n",
        "\n",
        "label={0: 'Neutral',1:'Positive',2:'Negative'}\n",
        "for i in range(len(data2)):\n",
        "  data2['Date'][i]=data['Date'][i]\n",
        "  data2['Label'][i]=label[data['finbert'][i]]   \n",
        "data2['Date'] = pd.to_datetime(data2['Date']).dt.date"
      ],
      "execution_count": 231,
      "outputs": [
        {
          "output_type": "stream",
          "text": [
            "/usr/local/lib/python3.7/dist-packages/ipykernel_launcher.py:11: SettingWithCopyWarning: \n",
            "A value is trying to be set on a copy of a slice from a DataFrame\n",
            "\n",
            "See the caveats in the documentation: https://pandas.pydata.org/pandas-docs/stable/user_guide/indexing.html#returning-a-view-versus-a-copy\n",
            "  # This is added back by InteractiveShellApp.init_path()\n",
            "/usr/local/lib/python3.7/dist-packages/pandas/core/indexing.py:670: SettingWithCopyWarning: \n",
            "A value is trying to be set on a copy of a slice from a DataFrame\n",
            "\n",
            "See the caveats in the documentation: https://pandas.pydata.org/pandas-docs/stable/user_guide/indexing.html#returning-a-view-versus-a-copy\n",
            "  iloc._setitem_with_indexer(indexer, value)\n",
            "/usr/local/lib/python3.7/dist-packages/ipykernel_launcher.py:10: SettingWithCopyWarning: \n",
            "A value is trying to be set on a copy of a slice from a DataFrame\n",
            "\n",
            "See the caveats in the documentation: https://pandas.pydata.org/pandas-docs/stable/user_guide/indexing.html#returning-a-view-versus-a-copy\n",
            "  # Remove the CWD from sys.path while we load stuff.\n"
          ],
          "name": "stderr"
        }
      ]
    },
    {
      "cell_type": "code",
      "metadata": {
        "colab": {
          "base_uri": "https://localhost:8080/"
        },
        "id": "EZ4CqN3OCqly",
        "outputId": "651dda31-7711-4e5f-c108-ee5a2612fdb7"
      },
      "source": [
        "for i in range(len(data2)):\n",
        "  for j in range(len(data1)):\n",
        "    if data['Date'][i]==data1['Date'][j]:\n",
        "      data2['perc_change1'][i]=data1['perc_change1'][j+1]\n",
        "  count=0\n",
        "  if type(data2['perc_change1'][i]) and pd.isna(data2['perc_change1'][i]):\n",
        "    for j in range(len(data1)):\n",
        "      if data2['Date'][i]>data1['Date'][j]:\n",
        "        count+=1\n",
        "    data2['perc_change1'][i]=data1['perc_change1'][count]\n",
        "\n",
        "data2['perc_change1'][0]=np.nan"
      ],
      "execution_count": 232,
      "outputs": [
        {
          "output_type": "stream",
          "text": [
            "/usr/local/lib/python3.7/dist-packages/ipykernel_launcher.py:4: SettingWithCopyWarning: \n",
            "A value is trying to be set on a copy of a slice from a DataFrame\n",
            "\n",
            "See the caveats in the documentation: https://pandas.pydata.org/pandas-docs/stable/user_guide/indexing.html#returning-a-view-versus-a-copy\n",
            "  after removing the cwd from sys.path.\n",
            "/usr/local/lib/python3.7/dist-packages/ipykernel_launcher.py:10: SettingWithCopyWarning: \n",
            "A value is trying to be set on a copy of a slice from a DataFrame\n",
            "\n",
            "See the caveats in the documentation: https://pandas.pydata.org/pandas-docs/stable/user_guide/indexing.html#returning-a-view-versus-a-copy\n",
            "  # Remove the CWD from sys.path while we load stuff.\n",
            "/usr/local/lib/python3.7/dist-packages/ipykernel_launcher.py:12: SettingWithCopyWarning: \n",
            "A value is trying to be set on a copy of a slice from a DataFrame\n",
            "\n",
            "See the caveats in the documentation: https://pandas.pydata.org/pandas-docs/stable/user_guide/indexing.html#returning-a-view-versus-a-copy\n",
            "  if sys.path[0] == '':\n"
          ],
          "name": "stderr"
        }
      ]
    },
    {
      "cell_type": "code",
      "metadata": {
        "colab": {
          "base_uri": "https://localhost:8080/",
          "height": 359
        },
        "id": "AW_xcnoThzxf",
        "outputId": "8c5e96d2-3bdf-4df8-8d74-1b4b83f60249"
      },
      "source": [
        "data1.head(10)"
      ],
      "execution_count": 238,
      "outputs": [
        {
          "output_type": "execute_result",
          "data": {
            "text/html": [
              "<div>\n",
              "<style scoped>\n",
              "    .dataframe tbody tr th:only-of-type {\n",
              "        vertical-align: middle;\n",
              "    }\n",
              "\n",
              "    .dataframe tbody tr th {\n",
              "        vertical-align: top;\n",
              "    }\n",
              "\n",
              "    .dataframe thead th {\n",
              "        text-align: right;\n",
              "    }\n",
              "</style>\n",
              "<table border=\"1\" class=\"dataframe\">\n",
              "  <thead>\n",
              "    <tr style=\"text-align: right;\">\n",
              "      <th></th>\n",
              "      <th>Date</th>\n",
              "      <th>Close</th>\n",
              "      <th>perc_change1</th>\n",
              "      <th>perc_change3</th>\n",
              "      <th>perc_change7</th>\n",
              "    </tr>\n",
              "  </thead>\n",
              "  <tbody>\n",
              "    <tr>\n",
              "      <th>0</th>\n",
              "      <td>2020-07-16</td>\n",
              "      <td>1843.400024</td>\n",
              "      <td>NaN</td>\n",
              "      <td>NaN</td>\n",
              "      <td>NaN</td>\n",
              "    </tr>\n",
              "    <tr>\n",
              "      <th>1</th>\n",
              "      <td>2020-07-17</td>\n",
              "      <td>1911.699951</td>\n",
              "      <td>3.705106</td>\n",
              "      <td>NaN</td>\n",
              "      <td>NaN</td>\n",
              "    </tr>\n",
              "    <tr>\n",
              "      <th>2</th>\n",
              "      <td>2020-07-20</td>\n",
              "      <td>1919.900024</td>\n",
              "      <td>0.428941</td>\n",
              "      <td>4.149940</td>\n",
              "      <td>NaN</td>\n",
              "    </tr>\n",
              "    <tr>\n",
              "      <th>3</th>\n",
              "      <td>2020-07-21</td>\n",
              "      <td>1971.550049</td>\n",
              "      <td>2.690246</td>\n",
              "      <td>3.130727</td>\n",
              "      <td>NaN</td>\n",
              "    </tr>\n",
              "    <tr>\n",
              "      <th>4</th>\n",
              "      <td>2020-07-22</td>\n",
              "      <td>2004.000000</td>\n",
              "      <td>1.645911</td>\n",
              "      <td>4.380435</td>\n",
              "      <td>NaN</td>\n",
              "    </tr>\n",
              "    <tr>\n",
              "      <th>5</th>\n",
              "      <td>2020-07-23</td>\n",
              "      <td>2057.800049</td>\n",
              "      <td>2.684633</td>\n",
              "      <td>4.374730</td>\n",
              "      <td>NaN</td>\n",
              "    </tr>\n",
              "    <tr>\n",
              "      <th>6</th>\n",
              "      <td>2020-07-24</td>\n",
              "      <td>2146.149902</td>\n",
              "      <td>4.293413</td>\n",
              "      <td>7.093308</td>\n",
              "      <td>16.423450</td>\n",
              "    </tr>\n",
              "    <tr>\n",
              "      <th>7</th>\n",
              "      <td>2020-07-27</td>\n",
              "      <td>2156.199951</td>\n",
              "      <td>0.468283</td>\n",
              "      <td>4.781801</td>\n",
              "      <td>12.789664</td>\n",
              "    </tr>\n",
              "    <tr>\n",
              "      <th>8</th>\n",
              "      <td>2020-07-28</td>\n",
              "      <td>2177.699951</td>\n",
              "      <td>0.997125</td>\n",
              "      <td>1.470077</td>\n",
              "      <td>13.427779</td>\n",
              "    </tr>\n",
              "    <tr>\n",
              "      <th>9</th>\n",
              "      <td>2020-07-29</td>\n",
              "      <td>2096.649902</td>\n",
              "      <td>-3.721819</td>\n",
              "      <td>-2.761806</td>\n",
              "      <td>6.345254</td>\n",
              "    </tr>\n",
              "  </tbody>\n",
              "</table>\n",
              "</div>"
            ],
            "text/plain": [
              "         Date        Close  perc_change1  perc_change3  perc_change7\n",
              "0  2020-07-16  1843.400024           NaN           NaN           NaN\n",
              "1  2020-07-17  1911.699951      3.705106           NaN           NaN\n",
              "2  2020-07-20  1919.900024      0.428941      4.149940           NaN\n",
              "3  2020-07-21  1971.550049      2.690246      3.130727           NaN\n",
              "4  2020-07-22  2004.000000      1.645911      4.380435           NaN\n",
              "5  2020-07-23  2057.800049      2.684633      4.374730           NaN\n",
              "6  2020-07-24  2146.149902      4.293413      7.093308     16.423450\n",
              "7  2020-07-27  2156.199951      0.468283      4.781801     12.789664\n",
              "8  2020-07-28  2177.699951      0.997125      1.470077     13.427779\n",
              "9  2020-07-29  2096.649902     -3.721819     -2.761806      6.345254"
            ]
          },
          "metadata": {},
          "execution_count": 238
        }
      ]
    },
    {
      "cell_type": "code",
      "metadata": {
        "colab": {
          "base_uri": "https://localhost:8080/",
          "height": 359
        },
        "id": "B51efzU9ha2R",
        "outputId": "a008afee-4612-4f23-8924-6554b66de1ae"
      },
      "source": [
        "data2.head(10)"
      ],
      "execution_count": 237,
      "outputs": [
        {
          "output_type": "execute_result",
          "data": {
            "text/html": [
              "<div>\n",
              "<style scoped>\n",
              "    .dataframe tbody tr th:only-of-type {\n",
              "        vertical-align: middle;\n",
              "    }\n",
              "\n",
              "    .dataframe tbody tr th {\n",
              "        vertical-align: top;\n",
              "    }\n",
              "\n",
              "    .dataframe thead th {\n",
              "        text-align: right;\n",
              "    }\n",
              "</style>\n",
              "<table border=\"1\" class=\"dataframe\">\n",
              "  <thead>\n",
              "    <tr style=\"text-align: right;\">\n",
              "      <th></th>\n",
              "      <th>Date</th>\n",
              "      <th>Label</th>\n",
              "      <th>perc_change1</th>\n",
              "    </tr>\n",
              "  </thead>\n",
              "  <tbody>\n",
              "    <tr>\n",
              "      <th>0</th>\n",
              "      <td>2020-07-16</td>\n",
              "      <td>Negative</td>\n",
              "      <td>NaN</td>\n",
              "    </tr>\n",
              "    <tr>\n",
              "      <th>1</th>\n",
              "      <td>2020-07-17</td>\n",
              "      <td>Negative</td>\n",
              "      <td>0.428941</td>\n",
              "    </tr>\n",
              "    <tr>\n",
              "      <th>2</th>\n",
              "      <td>2020-07-20</td>\n",
              "      <td>Negative</td>\n",
              "      <td>2.690246</td>\n",
              "    </tr>\n",
              "    <tr>\n",
              "      <th>3</th>\n",
              "      <td>2020-07-21</td>\n",
              "      <td>Positive</td>\n",
              "      <td>1.645911</td>\n",
              "    </tr>\n",
              "    <tr>\n",
              "      <th>4</th>\n",
              "      <td>2020-07-22</td>\n",
              "      <td>Negative</td>\n",
              "      <td>2.684633</td>\n",
              "    </tr>\n",
              "    <tr>\n",
              "      <th>5</th>\n",
              "      <td>2020-07-23</td>\n",
              "      <td>Positive</td>\n",
              "      <td>4.293413</td>\n",
              "    </tr>\n",
              "    <tr>\n",
              "      <th>6</th>\n",
              "      <td>2020-07-24</td>\n",
              "      <td>Positive</td>\n",
              "      <td>0.468283</td>\n",
              "    </tr>\n",
              "    <tr>\n",
              "      <th>7</th>\n",
              "      <td>2020-07-26</td>\n",
              "      <td>Negative</td>\n",
              "      <td>0.468283</td>\n",
              "    </tr>\n",
              "    <tr>\n",
              "      <th>8</th>\n",
              "      <td>2020-07-27</td>\n",
              "      <td>Positive</td>\n",
              "      <td>0.997125</td>\n",
              "    </tr>\n",
              "    <tr>\n",
              "      <th>9</th>\n",
              "      <td>2020-07-29</td>\n",
              "      <td>Negative</td>\n",
              "      <td>0.581890</td>\n",
              "    </tr>\n",
              "  </tbody>\n",
              "</table>\n",
              "</div>"
            ],
            "text/plain": [
              "         Date     Label  perc_change1\n",
              "0  2020-07-16  Negative           NaN\n",
              "1  2020-07-17  Negative      0.428941\n",
              "2  2020-07-20  Negative      2.690246\n",
              "3  2020-07-21  Positive      1.645911\n",
              "4  2020-07-22  Negative      2.684633\n",
              "5  2020-07-23  Positive      4.293413\n",
              "6  2020-07-24  Positive      0.468283\n",
              "7  2020-07-26  Negative      0.468283\n",
              "8  2020-07-27  Positive      0.997125\n",
              "9  2020-07-29  Negative      0.581890"
            ]
          },
          "metadata": {},
          "execution_count": 237
        }
      ]
    },
    {
      "cell_type": "code",
      "metadata": {
        "id": "Z-jbAaa3IlS9"
      },
      "source": [
        "data4=pd.DataFrame(columns=[\"Description\",\"Total No. of Investment Opportunities\",\"Profit\",\"Loss\",\"No Profit No Loss\"])"
      ],
      "execution_count": 213,
      "outputs": []
    },
    {
      "cell_type": "code",
      "metadata": {
        "colab": {
          "base_uri": "https://localhost:8080/",
          "height": 80
        },
        "id": "-oeZkAkNUdMR",
        "outputId": "d7ed5310-413d-4b03-90a4-22434776419d"
      },
      "source": [
        "profit=0\n",
        "loss=0\n",
        "npnl=0\n",
        "for i in range(len(data2)):\n",
        "\n",
        "  if data2['Label'][i]=='Negative' and  data2['perc_change1'][i]<0:\n",
        "    profit+=1\n",
        "  elif data2['Label'][i]=='Negative' and  data2['perc_change1'][i]>0:\n",
        "    loss+=1\n",
        "    \n",
        "  if data2['Label'][i]=='Positive' and  data2['perc_change1'][i]>0:\n",
        "    profit+=1\n",
        "  elif data2['Label'][i]=='Positive' and  data2['perc_change1'][i]<0:\n",
        "    loss+=1\n",
        "  if data2['Label'][i]=='Neutral':\n",
        "    npnl+=1\n",
        "\n",
        "total= profit + loss +neutral\n",
        "\n",
        "data4[\"Description\"]=[\"Rolling 1 day-News Day Event \"]\n",
        "data4[\"Total No. of Investment Opportunities\"]=len(data)-1\n",
        "data4['Profit']=profit/total*100\n",
        "data4['Loss']=loss/total*100\n",
        "data4['No Profit No Loss']=npnl/total*100\n",
        "data4.head()"
      ],
      "execution_count": 214,
      "outputs": [
        {
          "output_type": "execute_result",
          "data": {
            "text/html": [
              "<div>\n",
              "<style scoped>\n",
              "    .dataframe tbody tr th:only-of-type {\n",
              "        vertical-align: middle;\n",
              "    }\n",
              "\n",
              "    .dataframe tbody tr th {\n",
              "        vertical-align: top;\n",
              "    }\n",
              "\n",
              "    .dataframe thead th {\n",
              "        text-align: right;\n",
              "    }\n",
              "</style>\n",
              "<table border=\"1\" class=\"dataframe\">\n",
              "  <thead>\n",
              "    <tr style=\"text-align: right;\">\n",
              "      <th></th>\n",
              "      <th>Description</th>\n",
              "      <th>Total No. of Investment Opportunities</th>\n",
              "      <th>Profit</th>\n",
              "      <th>Loss</th>\n",
              "      <th>No Profit No Loss</th>\n",
              "    </tr>\n",
              "  </thead>\n",
              "  <tbody>\n",
              "    <tr>\n",
              "      <th>0</th>\n",
              "      <td>Rolling 1 day-News Day Event</td>\n",
              "      <td>174</td>\n",
              "      <td>55.797101</td>\n",
              "      <td>44.202899</td>\n",
              "      <td>26.086957</td>\n",
              "    </tr>\n",
              "  </tbody>\n",
              "</table>\n",
              "</div>"
            ],
            "text/plain": [
              "                     Description  ...  No Profit No Loss\n",
              "0  Rolling 1 day-News Day Event   ...          26.086957\n",
              "\n",
              "[1 rows x 5 columns]"
            ]
          },
          "metadata": {},
          "execution_count": 214
        }
      ]
    },
    {
      "cell_type": "code",
      "metadata": {
        "colab": {
          "base_uri": "https://localhost:8080/",
          "height": 204
        },
        "id": "zuqt_-MQfnVU",
        "outputId": "d2e143d1-f6de-4bbb-c6bd-f315d1f57c7a"
      },
      "source": [
        "data.head()"
      ],
      "execution_count": 215,
      "outputs": [
        {
          "output_type": "execute_result",
          "data": {
            "text/html": [
              "<div>\n",
              "<style scoped>\n",
              "    .dataframe tbody tr th:only-of-type {\n",
              "        vertical-align: middle;\n",
              "    }\n",
              "\n",
              "    .dataframe tbody tr th {\n",
              "        vertical-align: top;\n",
              "    }\n",
              "\n",
              "    .dataframe thead th {\n",
              "        text-align: right;\n",
              "    }\n",
              "</style>\n",
              "<table border=\"1\" class=\"dataframe\">\n",
              "  <thead>\n",
              "    <tr style=\"text-align: right;\">\n",
              "      <th></th>\n",
              "      <th>Price</th>\n",
              "      <th>Title</th>\n",
              "      <th>finbert</th>\n",
              "      <th>Date</th>\n",
              "    </tr>\n",
              "  </thead>\n",
              "  <tbody>\n",
              "    <tr>\n",
              "      <th>0</th>\n",
              "      <td>NaN</td>\n",
              "      <td>Reliance's Stake Sale Talks With Saudi Aramco ...</td>\n",
              "      <td>2</td>\n",
              "      <td>2020-07-16</td>\n",
              "    </tr>\n",
              "    <tr>\n",
              "      <th>1</th>\n",
              "      <td>NaN</td>\n",
              "      <td>Reliance To Shut Crude Refining Unit For Maint...</td>\n",
              "      <td>2</td>\n",
              "      <td>2020-07-17</td>\n",
              "    </tr>\n",
              "    <tr>\n",
              "      <th>2</th>\n",
              "      <td>NaN</td>\n",
              "      <td>Reliance-Google Smartphone Deal in India Threa...</td>\n",
              "      <td>2</td>\n",
              "      <td>2020-07-20</td>\n",
              "    </tr>\n",
              "    <tr>\n",
              "      <th>3</th>\n",
              "      <td>NaN</td>\n",
              "      <td>Netflix, Amazon, Facebook Stocks Draw In Amate...</td>\n",
              "      <td>1</td>\n",
              "      <td>2020-07-21</td>\n",
              "    </tr>\n",
              "    <tr>\n",
              "      <th>4</th>\n",
              "      <td>NaN</td>\n",
              "      <td>Reliance Industries Postpones June Quarter Res...</td>\n",
              "      <td>2</td>\n",
              "      <td>2020-07-22</td>\n",
              "    </tr>\n",
              "  </tbody>\n",
              "</table>\n",
              "</div>"
            ],
            "text/plain": [
              "   Price  ...        Date\n",
              "0    NaN  ...  2020-07-16\n",
              "1    NaN  ...  2020-07-17\n",
              "2    NaN  ...  2020-07-20\n",
              "3    NaN  ...  2020-07-21\n",
              "4    NaN  ...  2020-07-22\n",
              "\n",
              "[5 rows x 4 columns]"
            ]
          },
          "metadata": {},
          "execution_count": 215
        }
      ]
    }
  ]
}