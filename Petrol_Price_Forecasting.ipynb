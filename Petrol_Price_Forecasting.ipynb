{
  "nbformat": 4,
  "nbformat_minor": 5,
  "metadata": {
    "colab": {
      "name": "Petrol Price Forecasting.ipynb",
      "provenance": [],
      "collapsed_sections": [],
      "include_colab_link": true
    },
    "kernelspec": {
      "display_name": "Python 3",
      "language": "python",
      "name": "python3"
    },
    "language_info": {
      "codemirror_mode": {
        "name": "ipython",
        "version": 3
      },
      "file_extension": ".py",
      "mimetype": "text/x-python",
      "name": "python",
      "nbconvert_exporter": "python",
      "pygments_lexer": "ipython3",
      "version": "3.8.8"
    }
  },
  "cells": [
    {
      "cell_type": "markdown",
      "metadata": {
        "id": "view-in-github",
        "colab_type": "text"
      },
      "source": [
        "<a href=\"https://colab.research.google.com/github/varunsawhney8/Projects/blob/main/Petrol_Price_Forecasting.ipynb\" target=\"_parent\"><img src=\"https://colab.research.google.com/assets/colab-badge.svg\" alt=\"Open In Colab\"/></a>"
      ]
    },
    {
      "cell_type": "markdown",
      "metadata": {
        "id": "W7G9brFaBKTd"
      },
      "source": [
        "## **Project Name:** Petrol Price Forecasting  using Tensor Flow and Auto Keras"
      ],
      "id": "W7G9brFaBKTd"
    },
    {
      "cell_type": "markdown",
      "metadata": {
        "id": "wZGfAtd9Bd6e"
      },
      "source": [
        "###### Petrol Prices are going up continously these days and it has become very hard to predict what will be the price range in the next few months or even days.\n",
        "\n",
        "###### In this project we will try to forecast the different petrol prices for the upcoming dates given to us. \n",
        "\n",
        "###### We will use LSTM and ARIMA forecasting models to predict the prices then we will see how we can implement the same using Auto Keras, which is an Auto ML Library."
      ],
      "id": "wZGfAtd9Bd6e"
    },
    {
      "cell_type": "markdown",
      "metadata": {
        "id": "NeopOmsXCbpT"
      },
      "source": [
        "## TimeLine of the project:\n",
        "- Data Analysis\n",
        "- Model Building and predictions using ML techniques such as Arima Model\n",
        "- Model Building and predictions using DL techniques such as LSTM Model\n",
        "- Model Building and prediction using Auto Keras(Auto ML)"
      ],
      "id": "NeopOmsXCbpT"
    },
    {
      "cell_type": "markdown",
      "metadata": {
        "id": "QLg5ZonYCxh7"
      },
      "source": [
        "**Importing Libraries**"
      ],
      "id": "QLg5ZonYCxh7"
    },
    {
      "cell_type": "code",
      "metadata": {
        "id": "e315f51b"
      },
      "source": [
        "import pandas as pd\n",
        "import numpy as np\n",
        "from matplotlib import pyplot as plt\n",
        "%matplotlib inline\n",
        "import matplotlib "
      ],
      "id": "e315f51b",
      "execution_count": 6,
      "outputs": []
    },
    {
      "cell_type": "code",
      "metadata": {
        "id": "23e09038",
        "colab": {
          "base_uri": "https://localhost:8080/",
          "height": 204
        },
        "outputId": "18709ede-bbac-4783-abf4-71b934e676ad"
      },
      "source": [
        "df1 = pd.read_csv(\"/content/train_data.csv\")\n",
        "df1.head()"
      ],
      "id": "23e09038",
      "execution_count": 7,
      "outputs": [
        {
          "output_type": "execute_result",
          "data": {
            "text/html": [
              "<div>\n",
              "<style scoped>\n",
              "    .dataframe tbody tr th:only-of-type {\n",
              "        vertical-align: middle;\n",
              "    }\n",
              "\n",
              "    .dataframe tbody tr th {\n",
              "        vertical-align: top;\n",
              "    }\n",
              "\n",
              "    .dataframe thead th {\n",
              "        text-align: right;\n",
              "    }\n",
              "</style>\n",
              "<table border=\"1\" class=\"dataframe\">\n",
              "  <thead>\n",
              "    <tr style=\"text-align: right;\">\n",
              "      <th></th>\n",
              "      <th>Date</th>\n",
              "      <th>Petrol (USD)</th>\n",
              "    </tr>\n",
              "  </thead>\n",
              "  <tbody>\n",
              "    <tr>\n",
              "      <th>0</th>\n",
              "      <td>6/9/2003</td>\n",
              "      <td>74.59</td>\n",
              "    </tr>\n",
              "    <tr>\n",
              "      <th>1</th>\n",
              "      <td>6/16/2003</td>\n",
              "      <td>74.47</td>\n",
              "    </tr>\n",
              "    <tr>\n",
              "      <th>2</th>\n",
              "      <td>6/23/2003</td>\n",
              "      <td>74.42</td>\n",
              "    </tr>\n",
              "    <tr>\n",
              "      <th>3</th>\n",
              "      <td>6/30/2003</td>\n",
              "      <td>74.35</td>\n",
              "    </tr>\n",
              "    <tr>\n",
              "      <th>4</th>\n",
              "      <td>7/7/2003</td>\n",
              "      <td>74.28</td>\n",
              "    </tr>\n",
              "  </tbody>\n",
              "</table>\n",
              "</div>"
            ],
            "text/plain": [
              "        Date  Petrol (USD)\n",
              "0   6/9/2003         74.59\n",
              "1  6/16/2003         74.47\n",
              "2  6/23/2003         74.42\n",
              "3  6/30/2003         74.35\n",
              "4   7/7/2003         74.28"
            ]
          },
          "metadata": {},
          "execution_count": 7
        }
      ]
    },
    {
      "cell_type": "markdown",
      "metadata": {
        "id": "E7SE4p_WHk-v"
      },
      "source": [
        "**Data Analysis and splitting the data**"
      ],
      "id": "E7SE4p_WHk-v"
    },
    {
      "cell_type": "code",
      "metadata": {
        "colab": {
          "base_uri": "https://localhost:8080/"
        },
        "id": "dfirVJ0tY_tF",
        "outputId": "86558ec6-e06c-4c0f-8804-965b8197dcb9"
      },
      "source": [
        "df1.shape"
      ],
      "id": "dfirVJ0tY_tF",
      "execution_count": 12,
      "outputs": [
        {
          "output_type": "execute_result",
          "data": {
            "text/plain": [
              "(813, 2)"
            ]
          },
          "metadata": {},
          "execution_count": 12
        }
      ]
    },
    {
      "cell_type": "code",
      "metadata": {
        "id": "yRE7X5FfSeqt",
        "colab": {
          "base_uri": "https://localhost:8080/"
        },
        "outputId": "3a558b0b-e6d5-40d4-9516-0a09876d02ac"
      },
      "source": [
        "df1.head()\n",
        "df1.isnull().sum()"
      ],
      "id": "yRE7X5FfSeqt",
      "execution_count": 8,
      "outputs": [
        {
          "output_type": "execute_result",
          "data": {
            "text/plain": [
              "Date            0\n",
              "Petrol (USD)    2\n",
              "dtype: int64"
            ]
          },
          "metadata": {},
          "execution_count": 8
        }
      ]
    },
    {
      "cell_type": "code",
      "metadata": {
        "id": "ffb74343"
      },
      "source": [
        "df2 = df1.dropna()"
      ],
      "id": "ffb74343",
      "execution_count": 9,
      "outputs": []
    },
    {
      "cell_type": "code",
      "metadata": {
        "id": "e6c0da0d",
        "colab": {
          "base_uri": "https://localhost:8080/",
          "height": 309
        },
        "outputId": "f58858b1-0528-4ff5-81e2-30a1ae91ae98"
      },
      "source": [
        "df2.rename(columns={\"Petrol (USD)\": \"Petrol\"}, inplace = True)\n",
        "df2.head()"
      ],
      "id": "e6c0da0d",
      "execution_count": 10,
      "outputs": [
        {
          "output_type": "stream",
          "name": "stderr",
          "text": [
            "/usr/local/lib/python3.7/dist-packages/pandas/core/frame.py:4308: SettingWithCopyWarning: \n",
            "A value is trying to be set on a copy of a slice from a DataFrame\n",
            "\n",
            "See the caveats in the documentation: https://pandas.pydata.org/pandas-docs/stable/user_guide/indexing.html#returning-a-view-versus-a-copy\n",
            "  errors=errors,\n"
          ]
        },
        {
          "output_type": "execute_result",
          "data": {
            "text/html": [
              "<div>\n",
              "<style scoped>\n",
              "    .dataframe tbody tr th:only-of-type {\n",
              "        vertical-align: middle;\n",
              "    }\n",
              "\n",
              "    .dataframe tbody tr th {\n",
              "        vertical-align: top;\n",
              "    }\n",
              "\n",
              "    .dataframe thead th {\n",
              "        text-align: right;\n",
              "    }\n",
              "</style>\n",
              "<table border=\"1\" class=\"dataframe\">\n",
              "  <thead>\n",
              "    <tr style=\"text-align: right;\">\n",
              "      <th></th>\n",
              "      <th>Date</th>\n",
              "      <th>Petrol</th>\n",
              "    </tr>\n",
              "  </thead>\n",
              "  <tbody>\n",
              "    <tr>\n",
              "      <th>0</th>\n",
              "      <td>6/9/2003</td>\n",
              "      <td>74.59</td>\n",
              "    </tr>\n",
              "    <tr>\n",
              "      <th>1</th>\n",
              "      <td>6/16/2003</td>\n",
              "      <td>74.47</td>\n",
              "    </tr>\n",
              "    <tr>\n",
              "      <th>2</th>\n",
              "      <td>6/23/2003</td>\n",
              "      <td>74.42</td>\n",
              "    </tr>\n",
              "    <tr>\n",
              "      <th>3</th>\n",
              "      <td>6/30/2003</td>\n",
              "      <td>74.35</td>\n",
              "    </tr>\n",
              "    <tr>\n",
              "      <th>4</th>\n",
              "      <td>7/7/2003</td>\n",
              "      <td>74.28</td>\n",
              "    </tr>\n",
              "  </tbody>\n",
              "</table>\n",
              "</div>"
            ],
            "text/plain": [
              "        Date  Petrol\n",
              "0   6/9/2003   74.59\n",
              "1  6/16/2003   74.47\n",
              "2  6/23/2003   74.42\n",
              "3  6/30/2003   74.35\n",
              "4   7/7/2003   74.28"
            ]
          },
          "metadata": {},
          "execution_count": 10
        }
      ]
    },
    {
      "cell_type": "code",
      "metadata": {
        "id": "hqggRBHHN0QI",
        "colab": {
          "base_uri": "https://localhost:8080/",
          "height": 282
        },
        "outputId": "cb2b1343-4def-4a18-a425-7b6995d4a401"
      },
      "source": [
        "plt.scatter(df2.Date, df2.Petrol,color='red',label='Prices', s=50)"
      ],
      "id": "hqggRBHHN0QI",
      "execution_count": 11,
      "outputs": [
        {
          "output_type": "execute_result",
          "data": {
            "text/plain": [
              "<matplotlib.collections.PathCollection at 0x7f200948a510>"
            ]
          },
          "metadata": {},
          "execution_count": 11
        },
        {
          "output_type": "display_data",
          "data": {
            "image/png": "[encoded data removed]",
            "text/plain": [
              "<Figure size 432x288 with 1 Axes>"
            ]
          },
          "metadata": {
            "needs_background": "light"
          }
        }
      ]
    },
    {
      "cell_type": "code",
      "metadata": {
        "id": "538544df",
        "colab": {
          "base_uri": "https://localhost:8080/",
          "height": 282
        },
        "outputId": "f499cf3a-503c-44d9-e131-c855bc29e705"
      },
      "source": [
        "df3=df2[df2.Petrol<160]\n",
        "plt.scatter(df3.Date, df3.Petrol,color='blue',label='Prices', s=50)\n"
      ],
      "id": "538544df",
      "execution_count": 13,
      "outputs": [
        {
          "output_type": "execute_result",
          "data": {
            "text/plain": [
              "<matplotlib.collections.PathCollection at 0x7f200858af90>"
            ]
          },
          "metadata": {},
          "execution_count": 13
        },
        {
          "output_type": "display_data",
          "data": {
            "image/png": "[encoded data removed]",
            "text/plain": [
              "<Figure size 432x288 with 1 Axes>"
            ]
          },
          "metadata": {
            "needs_background": "light"
          }
        }
      ]
    },
    {
      "cell_type": "code",
      "metadata": {
        "id": "3670d115",
        "colab": {
          "base_uri": "https://localhost:8080/"
        },
        "outputId": "6074f5a2-f8d9-4d96-a1d6-8ebcac67e6d7"
      },
      "source": [
        "df4=df3.reset_index()['Petrol']\n",
        "df4.head()"
      ],
      "id": "3670d115",
      "execution_count": 14,
      "outputs": [
        {
          "output_type": "execute_result",
          "data": {
            "text/plain": [
              "0    74.59\n",
              "1    74.47\n",
              "2    74.42\n",
              "3    74.35\n",
              "4    74.28\n",
              "Name: Petrol, dtype: float64"
            ]
          },
          "metadata": {},
          "execution_count": 14
        }
      ]
    },
    {
      "cell_type": "code",
      "metadata": {
        "id": "2d8aa241"
      },
      "source": [
        "from sklearn.preprocessing import MinMaxScaler\n",
        "scaler=MinMaxScaler(feature_range=(0,1))\n",
        "df4=scaler.fit_transform(np.array(df4).reshape(-1,1))"
      ],
      "id": "2d8aa241",
      "execution_count": 15,
      "outputs": []
    },
    {
      "cell_type": "code",
      "metadata": {
        "id": "1a123c80"
      },
      "source": [
        "training_size=int(len(df4)*0.65)\n",
        "test_size=len(df4)-training_size\n",
        "train_data,test_data=df4[0:training_size,:],df4[training_size:len(df4),:1]"
      ],
      "id": "1a123c80",
      "execution_count": 16,
      "outputs": []
    },
    {
      "cell_type": "code",
      "metadata": {
        "id": "IQfKh3_yTwhE",
        "colab": {
          "base_uri": "https://localhost:8080/"
        },
        "outputId": "770547e0-87fd-4d03-82ae-79156b5fca99"
      },
      "source": [
        "train_data.shape\n",
        "test_data.shape"
      ],
      "id": "IQfKh3_yTwhE",
      "execution_count": 17,
      "outputs": [
        {
          "output_type": "execute_result",
          "data": {
            "text/plain": [
              "(284, 1)"
            ]
          },
          "metadata": {},
          "execution_count": 17
        }
      ]
    },
    {
      "cell_type": "markdown",
      "metadata": {
        "id": "tYDEjWEoZauH"
      },
      "source": [
        "**Data Preprocessing**"
      ],
      "id": "tYDEjWEoZauH"
    },
    {
      "cell_type": "code",
      "metadata": {
        "id": "0dc8a949"
      },
      "source": [
        " import numpy\n",
        "# convert an array of values into a dataset matrix\n",
        "def create_dataset(dataset, time_step=1):\n",
        "\tdataX, dataY = [], []\n",
        "\tfor i in range(len(dataset)-time_step-1):\n",
        "\t\ta = dataset[i:(i+time_step), 0]   ###i=0, 0,1,2,3-----99   100 \n",
        "\t\tdataX.append(a)\n",
        "\t\tdataY.append(dataset[i + time_step, 0])\n",
        "\treturn numpy.array(dataX), numpy.array(dataY)"
      ],
      "id": "0dc8a949",
      "execution_count": 18,
      "outputs": []
    },
    {
      "cell_type": "code",
      "metadata": {
        "id": "39785275"
      },
      "source": [
        "# reshape into X=t,t+1,t+2,t+3 and Y=t+4\n",
        "time_step = 100\n",
        "X_train, y_train = create_dataset(train_data, time_step)\n",
        "X_test, ytest = create_dataset(test_data, time_step)"
      ],
      "id": "39785275",
      "execution_count": 19,
      "outputs": []
    },
    {
      "cell_type": "code",
      "metadata": {
        "id": "005e586d",
        "colab": {
          "base_uri": "https://localhost:8080/"
        },
        "outputId": "91f73dd6-df23-4369-bf79-b171082df669"
      },
      "source": [
        "print(X_train.shape), print(y_train.shape)"
      ],
      "id": "005e586d",
      "execution_count": 20,
      "outputs": [
        {
          "output_type": "stream",
          "name": "stdout",
          "text": [
            "(424, 100)\n",
            "(424,)\n"
          ]
        },
        {
          "output_type": "execute_result",
          "data": {
            "text/plain": [
              "(None, None)"
            ]
          },
          "metadata": {},
          "execution_count": 20
        }
      ]
    },
    {
      "cell_type": "markdown",
      "metadata": {
        "id": "bJLSlRVajL9P"
      },
      "source": [
        "# LSTM "
      ],
      "id": "bJLSlRVajL9P"
    },
    {
      "cell_type": "code",
      "metadata": {
        "id": "5a9aae2a"
      },
      "source": [
        "X_train =X_train.reshape(X_train.shape[0],X_train.shape[1] , 1)\n",
        "X_test = X_test.reshape(X_test.shape[0],X_test.shape[1] , 1)"
      ],
      "id": "5a9aae2a",
      "execution_count": 19,
      "outputs": []
    },
    {
      "cell_type": "code",
      "metadata": {
        "colab": {
          "base_uri": "https://localhost:8080/"
        },
        "id": "DiOTxZpLWhBX",
        "outputId": "d9a82d90-2cda-4fde-c45c-2cf5d89c73c5"
      },
      "source": [
        "X_train.shape"
      ],
      "id": "DiOTxZpLWhBX",
      "execution_count": 20,
      "outputs": [
        {
          "output_type": "execute_result",
          "data": {
            "text/plain": [
              "(424, 100, 1)"
            ]
          },
          "metadata": {},
          "execution_count": 20
        }
      ]
    },
    {
      "cell_type": "code",
      "metadata": {
        "id": "869c9a75"
      },
      "source": [
        "from tensorflow.keras.models import Sequential\n",
        "\n",
        "from tensorflow.keras.layers import Dense\n",
        "from tensorflow.keras.layers import LSTM\n",
        "model=Sequential()\n",
        "model.add(LSTM(50,return_sequences=True,input_shape=(100,1)))\n",
        "model.add(LSTM(50,return_sequences=True))\n",
        "model.add(LSTM(50))\n",
        "model.add(Dense(1))\n",
        "model.compile(loss='mean_squared_error',optimizer='adam')"
      ],
      "id": "869c9a75",
      "execution_count": 21,
      "outputs": []
    },
    {
      "cell_type": "code",
      "metadata": {
        "id": "baa8cd08",
        "colab": {
          "base_uri": "https://localhost:8080/"
        },
        "outputId": "b3e35391-fb9c-4f11-8be3-d15c42098c0e"
      },
      "source": [
        "model.fit(X_train,y_train,validation_data=(X_test,ytest),epochs=100,batch_size=64,verbose=1)"
      ],
      "id": "baa8cd08",
      "execution_count": 22,
      "outputs": [
        {
          "output_type": "stream",
          "name": "stdout",
          "text": [
            "Epoch 1/100\n",
            "7/7 [==============================] - 7s 358ms/step - loss: 0.2207 - val_loss: 0.0365\n",
            "Epoch 2/100\n",
            "7/7 [==============================] - 1s 178ms/step - loss: 0.0396 - val_loss: 0.0173\n",
            "Epoch 3/100\n",
            "7/7 [==============================] - 1s 180ms/step - loss: 0.0261 - val_loss: 0.0049\n",
            "Epoch 4/100\n",
            "7/7 [==============================] - 1s 176ms/step - loss: 0.0140 - val_loss: 0.0095\n",
            "Epoch 5/100\n",
            "7/7 [==============================] - 1s 178ms/step - loss: 0.0113 - val_loss: 0.0051\n",
            "Epoch 6/100\n",
            "7/7 [==============================] - 1s 176ms/step - loss: 0.0089 - val_loss: 0.0064\n",
            "Epoch 7/100\n",
            "7/7 [==============================] - 1s 179ms/step - loss: 0.0077 - val_loss: 0.0038\n",
            "Epoch 8/100\n",
            "7/7 [==============================] - 1s 180ms/step - loss: 0.0071 - val_loss: 0.0043\n",
            "Epoch 9/100\n",
            "7/7 [==============================] - 1s 179ms/step - loss: 0.0070 - val_loss: 0.0035\n",
            "Epoch 10/100\n",
            "7/7 [==============================] - 1s 178ms/step - loss: 0.0067 - val_loss: 0.0035\n",
            "Epoch 11/100\n",
            "7/7 [==============================] - 1s 176ms/step - loss: 0.0066 - val_loss: 0.0034\n",
            "Epoch 12/100\n",
            "7/7 [==============================] - 1s 177ms/step - loss: 0.0064 - val_loss: 0.0034\n",
            "Epoch 13/100\n",
            "7/7 [==============================] - 1s 176ms/step - loss: 0.0063 - val_loss: 0.0032\n",
            "Epoch 14/100\n",
            "7/7 [==============================] - 1s 181ms/step - loss: 0.0061 - val_loss: 0.0033\n",
            "Epoch 15/100\n",
            "7/7 [==============================] - 1s 177ms/step - loss: 0.0059 - val_loss: 0.0030\n",
            "Epoch 16/100\n",
            "7/7 [==============================] - 1s 179ms/step - loss: 0.0058 - val_loss: 0.0030\n",
            "Epoch 17/100\n",
            "7/7 [==============================] - 1s 181ms/step - loss: 0.0056 - val_loss: 0.0029\n",
            "Epoch 18/100\n",
            "7/7 [==============================] - 1s 179ms/step - loss: 0.0056 - val_loss: 0.0032\n",
            "Epoch 19/100\n",
            "7/7 [==============================] - 1s 178ms/step - loss: 0.0052 - val_loss: 0.0027\n",
            "Epoch 20/100\n",
            "7/7 [==============================] - 1s 177ms/step - loss: 0.0051 - val_loss: 0.0027\n",
            "Epoch 21/100\n",
            "7/7 [==============================] - 1s 179ms/step - loss: 0.0048 - val_loss: 0.0025\n",
            "Epoch 22/100\n",
            "7/7 [==============================] - 1s 177ms/step - loss: 0.0047 - val_loss: 0.0024\n",
            "Epoch 23/100\n",
            "7/7 [==============================] - 1s 177ms/step - loss: 0.0045 - val_loss: 0.0023\n",
            "Epoch 24/100\n",
            "7/7 [==============================] - 1s 177ms/step - loss: 0.0043 - val_loss: 0.0024\n",
            "Epoch 25/100\n",
            "7/7 [==============================] - 1s 179ms/step - loss: 0.0043 - val_loss: 0.0034\n",
            "Epoch 26/100\n",
            "7/7 [==============================] - 1s 180ms/step - loss: 0.0050 - val_loss: 0.0026\n",
            "Epoch 27/100\n",
            "7/7 [==============================] - 1s 180ms/step - loss: 0.0042 - val_loss: 0.0022\n",
            "Epoch 28/100\n",
            "7/7 [==============================] - 1s 183ms/step - loss: 0.0037 - val_loss: 0.0020\n",
            "Epoch 29/100\n",
            "7/7 [==============================] - 1s 181ms/step - loss: 0.0036 - val_loss: 0.0019\n",
            "Epoch 30/100\n",
            "7/7 [==============================] - 1s 177ms/step - loss: 0.0035 - val_loss: 0.0021\n",
            "Epoch 31/100\n",
            "7/7 [==============================] - 1s 179ms/step - loss: 0.0036 - val_loss: 0.0019\n",
            "Epoch 32/100\n",
            "7/7 [==============================] - 1s 178ms/step - loss: 0.0033 - val_loss: 0.0017\n",
            "Epoch 33/100\n",
            "7/7 [==============================] - 1s 177ms/step - loss: 0.0032 - val_loss: 0.0018\n",
            "Epoch 34/100\n",
            "7/7 [==============================] - 1s 178ms/step - loss: 0.0032 - val_loss: 0.0015\n",
            "Epoch 35/100\n",
            "7/7 [==============================] - 1s 181ms/step - loss: 0.0029 - val_loss: 0.0016\n",
            "Epoch 36/100\n",
            "7/7 [==============================] - 1s 180ms/step - loss: 0.0027 - val_loss: 0.0015\n",
            "Epoch 37/100\n",
            "7/7 [==============================] - 1s 182ms/step - loss: 0.0027 - val_loss: 0.0015\n",
            "Epoch 38/100\n",
            "7/7 [==============================] - 1s 180ms/step - loss: 0.0025 - val_loss: 0.0014\n",
            "Epoch 39/100\n",
            "7/7 [==============================] - 1s 179ms/step - loss: 0.0024 - val_loss: 0.0013\n",
            "Epoch 40/100\n",
            "7/7 [==============================] - 1s 182ms/step - loss: 0.0023 - val_loss: 0.0014\n",
            "Epoch 41/100\n",
            "7/7 [==============================] - 1s 184ms/step - loss: 0.0023 - val_loss: 0.0013\n",
            "Epoch 42/100\n",
            "7/7 [==============================] - 1s 183ms/step - loss: 0.0023 - val_loss: 0.0013\n",
            "Epoch 43/100\n",
            "7/7 [==============================] - 1s 185ms/step - loss: 0.0021 - val_loss: 0.0021\n",
            "Epoch 44/100\n",
            "7/7 [==============================] - 1s 180ms/step - loss: 0.0029 - val_loss: 0.0012\n",
            "Epoch 45/100\n",
            "7/7 [==============================] - 1s 180ms/step - loss: 0.0025 - val_loss: 0.0015\n",
            "Epoch 46/100\n",
            "7/7 [==============================] - 1s 177ms/step - loss: 0.0023 - val_loss: 0.0016\n",
            "Epoch 47/100\n",
            "7/7 [==============================] - 1s 181ms/step - loss: 0.0020 - val_loss: 0.0013\n",
            "Epoch 48/100\n",
            "7/7 [==============================] - 1s 180ms/step - loss: 0.0018 - val_loss: 0.0015\n",
            "Epoch 49/100\n",
            "7/7 [==============================] - 1s 178ms/step - loss: 0.0018 - val_loss: 0.0016\n",
            "Epoch 50/100\n",
            "7/7 [==============================] - 1s 178ms/step - loss: 0.0018 - val_loss: 0.0014\n",
            "Epoch 51/100\n",
            "7/7 [==============================] - 1s 178ms/step - loss: 0.0018 - val_loss: 0.0012\n",
            "Epoch 52/100\n",
            "7/7 [==============================] - 1s 184ms/step - loss: 0.0017 - val_loss: 0.0012\n",
            "Epoch 53/100\n",
            "7/7 [==============================] - 1s 179ms/step - loss: 0.0017 - val_loss: 0.0013\n",
            "Epoch 54/100\n",
            "7/7 [==============================] - 1s 181ms/step - loss: 0.0016 - val_loss: 0.0011\n",
            "Epoch 55/100\n",
            "7/7 [==============================] - 1s 177ms/step - loss: 0.0015 - val_loss: 0.0011\n",
            "Epoch 56/100\n",
            "7/7 [==============================] - 1s 180ms/step - loss: 0.0016 - val_loss: 0.0012\n",
            "Epoch 57/100\n",
            "7/7 [==============================] - 1s 181ms/step - loss: 0.0014 - val_loss: 0.0011\n",
            "Epoch 58/100\n",
            "7/7 [==============================] - 1s 180ms/step - loss: 0.0014 - val_loss: 0.0015\n",
            "Epoch 59/100\n",
            "7/7 [==============================] - 1s 180ms/step - loss: 0.0015 - val_loss: 0.0012\n",
            "Epoch 60/100\n",
            "7/7 [==============================] - 1s 179ms/step - loss: 0.0014 - val_loss: 0.0012\n",
            "Epoch 61/100\n",
            "7/7 [==============================] - 1s 181ms/step - loss: 0.0016 - val_loss: 0.0011\n",
            "Epoch 62/100\n",
            "7/7 [==============================] - 1s 181ms/step - loss: 0.0015 - val_loss: 0.0017\n",
            "Epoch 63/100\n",
            "7/7 [==============================] - 1s 180ms/step - loss: 0.0014 - val_loss: 0.0014\n",
            "Epoch 64/100\n",
            "7/7 [==============================] - 1s 178ms/step - loss: 0.0015 - val_loss: 9.9844e-04\n",
            "Epoch 65/100\n",
            "7/7 [==============================] - 1s 180ms/step - loss: 0.0014 - val_loss: 0.0010\n",
            "Epoch 66/100\n",
            "7/7 [==============================] - 1s 179ms/step - loss: 0.0013 - val_loss: 0.0010\n",
            "Epoch 67/100\n",
            "7/7 [==============================] - 1s 181ms/step - loss: 0.0012 - val_loss: 0.0010\n",
            "Epoch 68/100\n",
            "7/7 [==============================] - 1s 180ms/step - loss: 0.0012 - val_loss: 0.0010\n",
            "Epoch 69/100\n",
            "7/7 [==============================] - 1s 180ms/step - loss: 0.0012 - val_loss: 0.0011\n",
            "Epoch 70/100\n",
            "7/7 [==============================] - 1s 180ms/step - loss: 0.0013 - val_loss: 9.9491e-04\n",
            "Epoch 71/100\n",
            "7/7 [==============================] - 1s 180ms/step - loss: 0.0012 - val_loss: 0.0021\n",
            "Epoch 72/100\n",
            "7/7 [==============================] - 1s 177ms/step - loss: 0.0014 - val_loss: 0.0013\n",
            "Epoch 73/100\n",
            "7/7 [==============================] - 1s 180ms/step - loss: 0.0012 - val_loss: 8.8293e-04\n",
            "Epoch 74/100\n",
            "7/7 [==============================] - 1s 180ms/step - loss: 0.0011 - val_loss: 0.0010\n",
            "Epoch 75/100\n",
            "7/7 [==============================] - 1s 181ms/step - loss: 0.0011 - val_loss: 0.0011\n",
            "Epoch 76/100\n",
            "7/7 [==============================] - 1s 180ms/step - loss: 0.0011 - val_loss: 0.0013\n",
            "Epoch 77/100\n",
            "7/7 [==============================] - 1s 184ms/step - loss: 0.0011 - val_loss: 9.3192e-04\n",
            "Epoch 78/100\n",
            "7/7 [==============================] - 1s 180ms/step - loss: 0.0010 - val_loss: 0.0010\n",
            "Epoch 79/100\n",
            "7/7 [==============================] - 1s 180ms/step - loss: 9.8870e-04 - val_loss: 9.4067e-04\n",
            "Epoch 80/100\n",
            "7/7 [==============================] - 1s 180ms/step - loss: 0.0010 - val_loss: 9.5086e-04\n",
            "Epoch 81/100\n",
            "7/7 [==============================] - 1s 181ms/step - loss: 0.0010 - val_loss: 9.0187e-04\n",
            "Epoch 82/100\n",
            "7/7 [==============================] - 1s 179ms/step - loss: 0.0010 - val_loss: 0.0014\n",
            "Epoch 83/100\n",
            "7/7 [==============================] - 1s 180ms/step - loss: 0.0011 - val_loss: 9.5084e-04\n",
            "Epoch 84/100\n",
            "7/7 [==============================] - 1s 179ms/step - loss: 0.0012 - val_loss: 9.2285e-04\n",
            "Epoch 85/100\n",
            "7/7 [==============================] - 1s 181ms/step - loss: 9.6201e-04 - val_loss: 9.9770e-04\n",
            "Epoch 86/100\n",
            "7/7 [==============================] - 1s 185ms/step - loss: 9.4802e-04 - val_loss: 0.0015\n",
            "Epoch 87/100\n",
            "7/7 [==============================] - 1s 181ms/step - loss: 0.0010 - val_loss: 0.0011\n",
            "Epoch 88/100\n",
            "7/7 [==============================] - 1s 183ms/step - loss: 0.0011 - val_loss: 8.4240e-04\n",
            "Epoch 89/100\n",
            "7/7 [==============================] - 1s 184ms/step - loss: 9.6264e-04 - val_loss: 8.7585e-04\n",
            "Epoch 90/100\n",
            "7/7 [==============================] - 1s 182ms/step - loss: 9.0040e-04 - val_loss: 0.0011\n",
            "Epoch 91/100\n",
            "7/7 [==============================] - 1s 184ms/step - loss: 9.7406e-04 - val_loss: 9.9360e-04\n",
            "Epoch 92/100\n",
            "7/7 [==============================] - 1s 180ms/step - loss: 9.4277e-04 - val_loss: 9.1963e-04\n",
            "Epoch 93/100\n",
            "7/7 [==============================] - 1s 182ms/step - loss: 9.4480e-04 - val_loss: 8.5960e-04\n",
            "Epoch 94/100\n",
            "7/7 [==============================] - 1s 183ms/step - loss: 8.8688e-04 - val_loss: 0.0010\n",
            "Epoch 95/100\n",
            "7/7 [==============================] - 1s 180ms/step - loss: 8.4940e-04 - val_loss: 9.2036e-04\n",
            "Epoch 96/100\n",
            "7/7 [==============================] - 1s 178ms/step - loss: 8.3729e-04 - val_loss: 8.6841e-04\n",
            "Epoch 97/100\n",
            "7/7 [==============================] - 1s 181ms/step - loss: 8.8289e-04 - val_loss: 0.0011\n",
            "Epoch 98/100\n",
            "7/7 [==============================] - 1s 181ms/step - loss: 8.6815e-04 - val_loss: 9.3810e-04\n",
            "Epoch 99/100\n",
            "7/7 [==============================] - 1s 181ms/step - loss: 8.3228e-04 - val_loss: 8.1403e-04\n",
            "Epoch 100/100\n",
            "7/7 [==============================] - 1s 179ms/step - loss: 8.6050e-04 - val_loss: 0.0013\n"
          ]
        },
        {
          "output_type": "execute_result",
          "data": {
            "text/plain": [
              "<keras.callbacks.History at 0x7f8db4614d90>"
            ]
          },
          "metadata": {},
          "execution_count": 22
        }
      ]
    },
    {
      "cell_type": "code",
      "metadata": {
        "id": "62dabcc0"
      },
      "source": [
        "### Lets Do the prediction and check performance metrics\n",
        "train_predict=model.predict(X_train)\n",
        "test_predict=model.predict(X_test)"
      ],
      "id": "62dabcc0",
      "execution_count": 23,
      "outputs": []
    },
    {
      "cell_type": "code",
      "metadata": {
        "id": "b9fccd41"
      },
      "source": [
        "##Transformback to original form\n",
        "train_predict=scaler.inverse_transform(train_predict)\n",
        "test_predict=scaler.inverse_transform(test_predict)"
      ],
      "id": "b9fccd41",
      "execution_count": 24,
      "outputs": []
    },
    {
      "cell_type": "code",
      "metadata": {
        "id": "be5b24de",
        "colab": {
          "base_uri": "https://localhost:8080/",
          "height": 265
        },
        "outputId": "afbfa89e-2f7b-4624-d67d-0577de469449"
      },
      "source": [
        "### Plotting \n",
        "# shift train predictions for plotting\n",
        "look_back=100\n",
        "trainPredictPlot = numpy.empty_like(df4)\n",
        "trainPredictPlot[:, :] = np.nan\n",
        "trainPredictPlot[look_back:len(train_predict)+look_back, :] = train_predict\n",
        "# shift test predictions for plotting\n",
        "testPredictPlot = numpy.empty_like(df4)\n",
        "testPredictPlot[:, :] = numpy.nan\n",
        "testPredictPlot[len(train_predict)+(look_back*2)+1:len(df4)-1, :] = test_predict\n",
        "# plot baseline and predictions\n",
        "plt.plot(scaler.inverse_transform(df4))\n",
        "plt.plot(trainPredictPlot)\n",
        "plt.plot(testPredictPlot)\n",
        "plt.show()"
      ],
      "id": "be5b24de",
      "execution_count": 25,
      "outputs": [
        {
          "output_type": "display_data",
          "data": {
            "image/png": "[encoded data removed]",
            "text/plain": [
              "<Figure size 432x288 with 1 Axes>"
            ]
          },
          "metadata": {
            "needs_background": "light"
          }
        }
      ]
    },
    {
      "cell_type": "code",
      "metadata": {
        "id": "7b036aac",
        "colab": {
          "base_uri": "https://localhost:8080/",
          "height": 204
        },
        "outputId": "028cd45c-a2a7-4563-8300-087978238fa5"
      },
      "source": [
        "df_test=pd.read_csv(\"test_data.csv\")\n",
        "df_test.head()"
      ],
      "id": "7b036aac",
      "execution_count": 26,
      "outputs": [
        {
          "output_type": "execute_result",
          "data": {
            "text/html": [
              "<div>\n",
              "<style scoped>\n",
              "    .dataframe tbody tr th:only-of-type {\n",
              "        vertical-align: middle;\n",
              "    }\n",
              "\n",
              "    .dataframe tbody tr th {\n",
              "        vertical-align: top;\n",
              "    }\n",
              "\n",
              "    .dataframe thead th {\n",
              "        text-align: right;\n",
              "    }\n",
              "</style>\n",
              "<table border=\"1\" class=\"dataframe\">\n",
              "  <thead>\n",
              "    <tr style=\"text-align: right;\">\n",
              "      <th></th>\n",
              "      <th>Date</th>\n",
              "      <th>Prediction</th>\n",
              "    </tr>\n",
              "  </thead>\n",
              "  <tbody>\n",
              "    <tr>\n",
              "      <th>0</th>\n",
              "      <td>1/1/2019</td>\n",
              "      <td>NaN</td>\n",
              "    </tr>\n",
              "    <tr>\n",
              "      <th>1</th>\n",
              "      <td>1/2/2019</td>\n",
              "      <td>NaN</td>\n",
              "    </tr>\n",
              "    <tr>\n",
              "      <th>2</th>\n",
              "      <td>1/3/2019</td>\n",
              "      <td>NaN</td>\n",
              "    </tr>\n",
              "    <tr>\n",
              "      <th>3</th>\n",
              "      <td>1/4/2019</td>\n",
              "      <td>NaN</td>\n",
              "    </tr>\n",
              "    <tr>\n",
              "      <th>4</th>\n",
              "      <td>1/5/2019</td>\n",
              "      <td>NaN</td>\n",
              "    </tr>\n",
              "  </tbody>\n",
              "</table>\n",
              "</div>"
            ],
            "text/plain": [
              "       Date  Prediction\n",
              "0  1/1/2019         NaN\n",
              "1  1/2/2019         NaN\n",
              "2  1/3/2019         NaN\n",
              "3  1/4/2019         NaN\n",
              "4  1/5/2019         NaN"
            ]
          },
          "metadata": {},
          "execution_count": 26
        }
      ]
    },
    {
      "cell_type": "code",
      "metadata": {
        "id": "00d514c6",
        "colab": {
          "base_uri": "https://localhost:8080/"
        },
        "outputId": "f9080c2f-2405-4545-fcb0-24830ff28b42"
      },
      "source": [
        "model.save(\"prtrol price prediction\")"
      ],
      "id": "00d514c6",
      "execution_count": 27,
      "outputs": [
        {
          "output_type": "stream",
          "name": "stderr",
          "text": [
            "WARNING:absl:Found untraced functions such as lstm_cell_layer_call_fn, lstm_cell_layer_call_and_return_conditional_losses, lstm_cell_1_layer_call_fn, lstm_cell_1_layer_call_and_return_conditional_losses, lstm_cell_2_layer_call_fn while saving (showing 5 of 15). These functions will not be directly callable after loading.\n"
          ]
        },
        {
          "output_type": "stream",
          "name": "stdout",
          "text": [
            "INFO:tensorflow:Assets written to: prtrol price prediction/assets\n"
          ]
        },
        {
          "output_type": "stream",
          "name": "stderr",
          "text": [
            "INFO:tensorflow:Assets written to: prtrol price prediction/assets\n"
          ]
        }
      ]
    },
    {
      "cell_type": "markdown",
      "metadata": {
        "id": "hpAqppG-OFe7"
      },
      "source": [
        "## **Using ARIMA**"
      ],
      "id": "hpAqppG-OFe7"
    },
    {
      "cell_type": "code",
      "metadata": {
        "id": "RZPU8JPWnZSy",
        "colab": {
          "base_uri": "https://localhost:8080/"
        },
        "outputId": "c6e7e711-3fed-423f-d058-f62db9203aa0"
      },
      "source": [
        "!pip install --upgrade patsy"
      ],
      "id": "RZPU8JPWnZSy",
      "execution_count": 28,
      "outputs": [
        {
          "output_type": "stream",
          "name": "stdout",
          "text": [
            "Requirement already satisfied: patsy in /usr/local/lib/python3.7/dist-packages (0.5.2)\n",
            "Requirement already satisfied: six in /usr/local/lib/python3.7/dist-packages (from patsy) (1.15.0)\n",
            "Requirement already satisfied: numpy>=1.4 in /usr/local/lib/python3.7/dist-packages (from patsy) (1.19.5)\n"
          ]
        }
      ]
    },
    {
      "cell_type": "code",
      "metadata": {
        "id": "gD6Y2IDNl0os",
        "colab": {
          "base_uri": "https://localhost:8080/"
        },
        "outputId": "8d28d3e5-a3a9-48e3-8e2e-5e3335b97ab4"
      },
      "source": [
        "!pip install statsmodels"
      ],
      "id": "gD6Y2IDNl0os",
      "execution_count": 29,
      "outputs": [
        {
          "output_type": "stream",
          "name": "stdout",
          "text": [
            "Requirement already satisfied: statsmodels in /usr/local/lib/python3.7/dist-packages (0.10.2)\n",
            "Requirement already satisfied: scipy>=0.18 in /usr/local/lib/python3.7/dist-packages (from statsmodels) (1.4.1)\n",
            "Requirement already satisfied: pandas>=0.19 in /usr/local/lib/python3.7/dist-packages (from statsmodels) (1.1.5)\n",
            "Requirement already satisfied: numpy>=1.11 in /usr/local/lib/python3.7/dist-packages (from statsmodels) (1.19.5)\n",
            "Requirement already satisfied: patsy>=0.4.0 in /usr/local/lib/python3.7/dist-packages (from statsmodels) (0.5.2)\n",
            "Requirement already satisfied: python-dateutil>=2.7.3 in /usr/local/lib/python3.7/dist-packages (from pandas>=0.19->statsmodels) (2.8.2)\n",
            "Requirement already satisfied: pytz>=2017.2 in /usr/local/lib/python3.7/dist-packages (from pandas>=0.19->statsmodels) (2018.9)\n",
            "Requirement already satisfied: six in /usr/local/lib/python3.7/dist-packages (from patsy>=0.4.0->statsmodels) (1.15.0)\n"
          ]
        }
      ]
    },
    {
      "cell_type": "code",
      "metadata": {
        "id": "Y5dPBU9Enk85",
        "colab": {
          "base_uri": "https://localhost:8080/"
        },
        "outputId": "479e1238-5aea-410f-f7a1-79fed860cc3e"
      },
      "source": [
        "!pip install --upgrade --no-deps statsmodels"
      ],
      "id": "Y5dPBU9Enk85",
      "execution_count": 30,
      "outputs": [
        {
          "output_type": "stream",
          "name": "stdout",
          "text": [
            "Requirement already satisfied: statsmodels in /usr/local/lib/python3.7/dist-packages (0.10.2)\n",
            "Collecting statsmodels\n",
            "  Downloading statsmodels-0.13.0-cp37-cp37m-manylinux_2_17_x86_64.manylinux2014_x86_64.whl (9.8 MB)\n",
            "\u001b[K     |████████████████████████████████| 9.8 MB 7.8 MB/s \n",
            "\u001b[?25hInstalling collected packages: statsmodels\n",
            "  Attempting uninstall: statsmodels\n",
            "    Found existing installation: statsmodels 0.10.2\n",
            "    Uninstalling statsmodels-0.10.2:\n",
            "      Successfully uninstalled statsmodels-0.10.2\n",
            "Successfully installed statsmodels-0.13.0\n"
          ]
        }
      ]
    },
    {
      "cell_type": "code",
      "metadata": {
        "id": "ajeghoPZDx7C",
        "colab": {
          "base_uri": "https://localhost:8080/"
        },
        "outputId": "3310018c-3dd9-4662-b2b3-301512d32710"
      },
      "source": [
        "import pandas as pd\n",
        "from statsmodels.tsa.arima.model import ARIMA\n",
        "from matplotlib import pyplot as plt\n",
        "from pandas import read_csv\n",
        "from pandas import datetime \n",
        "from matplotlib import pyplot\n",
        "\n",
        "from sklearn.metrics import mean_squared_error\n",
        "from math import sqrt"
      ],
      "id": "ajeghoPZDx7C",
      "execution_count": 31,
      "outputs": [
        {
          "output_type": "stream",
          "name": "stderr",
          "text": [
            "/usr/local/lib/python3.7/dist-packages/ipykernel_launcher.py:5: FutureWarning: The pandas.datetime class is deprecated and will be removed from pandas in a future version. Import from datetime module instead.\n",
            "  \"\"\"\n"
          ]
        }
      ]
    },
    {
      "cell_type": "code",
      "metadata": {
        "id": "vks4TdPaD6OS",
        "colab": {
          "base_uri": "https://localhost:8080/"
        },
        "outputId": "9ea64853-064a-42e5-a0fd-f5652c13570e"
      },
      "source": [
        "model1 = ARIMA(df4.values, order=(5,1,0))\n",
        "model_fit1 = model1.fit()\n",
        "output1= model_fit1.forecast(steps=30)\n",
        "output1"
      ],
      "id": "vks4TdPaD6OS",
      "execution_count": 36,
      "outputs": [
        {
          "output_type": "execute_result",
          "data": {
            "text/plain": [
              "array([119.80670595, 119.52143346, 119.30634687, 119.14818591,\n",
              "       119.02925476, 118.93899197, 118.87071704, 118.81917608,\n",
              "       118.78030427, 118.75097698, 118.72883999, 118.71212989,\n",
              "       118.69951735, 118.68999809, 118.68281349, 118.67739086,\n",
              "       118.67329807, 118.67020899, 118.66787749, 118.66611776,\n",
              "       118.66478959, 118.66378715, 118.66303054, 118.66245949,\n",
              "       118.66202848, 118.66170318, 118.66145765, 118.66127233,\n",
              "       118.66113246, 118.6610269 ])"
            ]
          },
          "metadata": {},
          "execution_count": 36
        }
      ]
    },
    {
      "cell_type": "markdown",
      "metadata": {
        "id": "iVKwRTmDnxwd"
      },
      "source": [
        "# Using Auto ML"
      ],
      "id": "iVKwRTmDnxwd"
    },
    {
      "cell_type": "markdown",
      "metadata": {
        "id": "uNVmRVGun23V"
      },
      "source": [
        " ![download.png](data:image/png;base64,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)"
      ],
      "id": "uNVmRVGun23V"
    },
    {
      "cell_type": "markdown",
      "metadata": {
        "id": "5nEy2U0hoGEZ"
      },
      "source": [
        "## AutoKeras: An AutoML system based on Keras. It is developed by DATA Lab at Texas A&M University"
      ],
      "id": "5nEy2U0hoGEZ"
    },
    {
      "cell_type": "markdown",
      "metadata": {
        "id": "lThRUPGnoIZZ"
      },
      "source": [
        "## Installing Auto Keras"
      ],
      "id": "lThRUPGnoIZZ"
    },
    {
      "cell_type": "code",
      "metadata": {
        "id": "dfe88bcc",
        "colab": {
          "base_uri": "https://localhost:8080/"
        },
        "outputId": "1391a8fc-dd5f-418c-f328-848a1ebb0572"
      },
      "source": [
        "!pip install git+https://github.com/keras-team/keras-tuner.git@1.0.2rc1\n"
      ],
      "id": "dfe88bcc",
      "execution_count": 37,
      "outputs": [
        {
          "output_type": "stream",
          "name": "stdout",
          "text": [
            "Collecting git+https://github.com/keras-team/keras-tuner.git@1.0.2rc1\n",
            "  Cloning https://github.com/keras-team/keras-tuner.git (to revision 1.0.2rc1) to /tmp/pip-req-build-irj67f2n\n",
            "  Running command git clone -q https://github.com/keras-team/keras-tuner.git /tmp/pip-req-build-irj67f2n\n",
            "  Running command git checkout -q 0fb69434a132093518e0e53d40020145ae192629\n",
            "Requirement already satisfied: packaging in /usr/local/lib/python3.7/dist-packages (from keras-tuner==1.0.2rc1) (21.0)\n",
            "Requirement already satisfied: future in /usr/local/lib/python3.7/dist-packages (from keras-tuner==1.0.2rc1) (0.16.0)\n",
            "Requirement already satisfied: numpy in /usr/local/lib/python3.7/dist-packages (from keras-tuner==1.0.2rc1) (1.19.5)\n",
            "Requirement already satisfied: tabulate in /usr/local/lib/python3.7/dist-packages (from keras-tuner==1.0.2rc1) (0.8.9)\n",
            "Collecting terminaltables\n",
            "  Downloading terminaltables-3.1.0.tar.gz (12 kB)\n",
            "Collecting colorama\n",
            "  Downloading colorama-0.4.4-py2.py3-none-any.whl (16 kB)\n",
            "Requirement already satisfied: tqdm in /usr/local/lib/python3.7/dist-packages (from keras-tuner==1.0.2rc1) (4.62.3)\n",
            "Requirement already satisfied: requests in /usr/local/lib/python3.7/dist-packages (from keras-tuner==1.0.2rc1) (2.23.0)\n",
            "Requirement already satisfied: scipy in /usr/local/lib/python3.7/dist-packages (from keras-tuner==1.0.2rc1) (1.4.1)\n",
            "Requirement already satisfied: scikit-learn in /usr/local/lib/python3.7/dist-packages (from keras-tuner==1.0.2rc1) (0.22.2.post1)\n",
            "Requirement already satisfied: pyparsing>=2.0.2 in /usr/local/lib/python3.7/dist-packages (from packaging->keras-tuner==1.0.2rc1) (2.4.7)\n",
            "Requirement already satisfied: urllib3!=1.25.0,!=1.25.1,<1.26,>=1.21.1 in /usr/local/lib/python3.7/dist-packages (from requests->keras-tuner==1.0.2rc1) (1.24.3)\n",
            "Requirement already satisfied: certifi>=2017.4.17 in /usr/local/lib/python3.7/dist-packages (from requests->keras-tuner==1.0.2rc1) (2021.5.30)\n",
            "Requirement already satisfied: idna<3,>=2.5 in /usr/local/lib/python3.7/dist-packages (from requests->keras-tuner==1.0.2rc1) (2.10)\n",
            "Requirement already satisfied: chardet<4,>=3.0.2 in /usr/local/lib/python3.7/dist-packages (from requests->keras-tuner==1.0.2rc1) (3.0.4)\n",
            "Requirement already satisfied: joblib>=0.11 in /usr/local/lib/python3.7/dist-packages (from scikit-learn->keras-tuner==1.0.2rc1) (1.0.1)\n",
            "Building wheels for collected packages: keras-tuner, terminaltables\n",
            "  Building wheel for keras-tuner (setup.py) ... \u001b[?25l\u001b[?25hdone\n",
            "  Created wheel for keras-tuner: filename=keras_tuner-1.0.2rc1-py3-none-any.whl size=85445 sha256=336e5b631f5377de5f465c59c33fb9fc08af188ed4ab8eb72b0ba17699d65c65\n",
            "  Stored in directory: /tmp/pip-ephem-wheel-cache-edjboih0/wheels/44/e5/92/e83049ca00432aec622a4fa0200e254d88aefae9d74aa86941\n",
            "  Building wheel for terminaltables (setup.py) ... \u001b[?25l\u001b[?25hdone\n",
            "  Created wheel for terminaltables: filename=terminaltables-3.1.0-py3-none-any.whl size=15354 sha256=6aa4e3da392a9592b1fbd299a78e40faa4caa1cac7046dd00895d51df03adf42\n",
            "  Stored in directory: /root/.cache/pip/wheels/ba/ad/c8/2d98360791161cd3db6daf6b5e730f34021fc9367d5879f497\n",
            "Successfully built keras-tuner terminaltables\n",
            "Installing collected packages: terminaltables, colorama, keras-tuner\n",
            "Successfully installed colorama-0.4.4 keras-tuner-1.0.2rc1 terminaltables-3.1.0\n"
          ]
        }
      ]
    },
    {
      "cell_type": "code",
      "metadata": {
        "id": "b1ea1595",
        "colab": {
          "base_uri": "https://localhost:8080/"
        },
        "outputId": "a542bbba-43cc-4297-e8be-f4542fd647e1"
      },
      "source": [
        "!pip install autokeras"
      ],
      "id": "b1ea1595",
      "execution_count": 1,
      "outputs": [
        {
          "output_type": "stream",
          "name": "stdout",
          "text": [
            "Requirement already satisfied: autokeras in /usr/local/lib/python3.7/dist-packages (1.0.16)\n",
            "Requirement already satisfied: packaging in /usr/local/lib/python3.7/dist-packages (from autokeras) (21.0)\n",
            "Requirement already satisfied: tensorflow<=2.5.0,>=2.3.0 in /usr/local/lib/python3.7/dist-packages (from autokeras) (2.5.0)\n",
            "Requirement already satisfied: pandas in /usr/local/lib/python3.7/dist-packages (from autokeras) (1.1.5)\n",
            "Requirement already satisfied: scikit-learn in /usr/local/lib/python3.7/dist-packages (from autokeras) (0.22.2.post1)\n",
            "Requirement already satisfied: keras-tuner>=1.0.2 in /usr/local/lib/python3.7/dist-packages (from autokeras) (1.0.4)\n",
            "Requirement already satisfied: kt-legacy in /usr/local/lib/python3.7/dist-packages (from keras-tuner>=1.0.2->autokeras) (1.0.4)\n",
            "Requirement already satisfied: requests in /usr/local/lib/python3.7/dist-packages (from keras-tuner>=1.0.2->autokeras) (2.23.0)\n",
            "Requirement already satisfied: numpy in /usr/local/lib/python3.7/dist-packages (from keras-tuner>=1.0.2->autokeras) (1.19.5)\n",
            "Requirement already satisfied: scipy in /usr/local/lib/python3.7/dist-packages (from keras-tuner>=1.0.2->autokeras) (1.4.1)\n",
            "Requirement already satisfied: ipython in /usr/local/lib/python3.7/dist-packages (from keras-tuner>=1.0.2->autokeras) (5.5.0)\n",
            "Requirement already satisfied: tensorboard in /usr/local/lib/python3.7/dist-packages (from keras-tuner>=1.0.2->autokeras) (2.6.0)\n",
            "Requirement already satisfied: google-pasta~=0.2 in /usr/local/lib/python3.7/dist-packages (from tensorflow<=2.5.0,>=2.3.0->autokeras) (0.2.0)\n",
            "Requirement already satisfied: wrapt~=1.12.1 in /usr/local/lib/python3.7/dist-packages (from tensorflow<=2.5.0,>=2.3.0->autokeras) (1.12.1)\n",
            "Requirement already satisfied: protobuf>=3.9.2 in /usr/local/lib/python3.7/dist-packages (from tensorflow<=2.5.0,>=2.3.0->autokeras) (3.17.3)\n",
            "Requirement already satisfied: astunparse~=1.6.3 in /usr/local/lib/python3.7/dist-packages (from tensorflow<=2.5.0,>=2.3.0->autokeras) (1.6.3)\n",
            "Requirement already satisfied: grpcio~=1.34.0 in /usr/local/lib/python3.7/dist-packages (from tensorflow<=2.5.0,>=2.3.0->autokeras) (1.34.1)\n",
            "Requirement already satisfied: flatbuffers~=1.12.0 in /usr/local/lib/python3.7/dist-packages (from tensorflow<=2.5.0,>=2.3.0->autokeras) (1.12)\n",
            "Requirement already satisfied: six~=1.15.0 in /usr/local/lib/python3.7/dist-packages (from tensorflow<=2.5.0,>=2.3.0->autokeras) (1.15.0)\n",
            "Requirement already satisfied: gast==0.4.0 in /usr/local/lib/python3.7/dist-packages (from tensorflow<=2.5.0,>=2.3.0->autokeras) (0.4.0)\n",
            "Requirement already satisfied: absl-py~=0.10 in /usr/local/lib/python3.7/dist-packages (from tensorflow<=2.5.0,>=2.3.0->autokeras) (0.12.0)\n",
            "Requirement already satisfied: keras-nightly~=2.5.0.dev in /usr/local/lib/python3.7/dist-packages (from tensorflow<=2.5.0,>=2.3.0->autokeras) (2.5.0.dev2021032900)\n",
            "Requirement already satisfied: tensorflow-estimator<2.6.0,>=2.5.0rc0 in /usr/local/lib/python3.7/dist-packages (from tensorflow<=2.5.0,>=2.3.0->autokeras) (2.5.0)\n",
            "Requirement already satisfied: wheel~=0.35 in /usr/local/lib/python3.7/dist-packages (from tensorflow<=2.5.0,>=2.3.0->autokeras) (0.37.0)\n",
            "Requirement already satisfied: keras-preprocessing~=1.1.2 in /usr/local/lib/python3.7/dist-packages (from tensorflow<=2.5.0,>=2.3.0->autokeras) (1.1.2)\n",
            "Requirement already satisfied: opt-einsum~=3.3.0 in /usr/local/lib/python3.7/dist-packages (from tensorflow<=2.5.0,>=2.3.0->autokeras) (3.3.0)\n",
            "Requirement already satisfied: typing-extensions~=3.7.4 in /usr/local/lib/python3.7/dist-packages (from tensorflow<=2.5.0,>=2.3.0->autokeras) (3.7.4.3)\n",
            "Requirement already satisfied: h5py~=3.1.0 in /usr/local/lib/python3.7/dist-packages (from tensorflow<=2.5.0,>=2.3.0->autokeras) (3.1.0)\n",
            "Requirement already satisfied: termcolor~=1.1.0 in /usr/local/lib/python3.7/dist-packages (from tensorflow<=2.5.0,>=2.3.0->autokeras) (1.1.0)\n",
            "Requirement already satisfied: cached-property in /usr/local/lib/python3.7/dist-packages (from h5py~=3.1.0->tensorflow<=2.5.0,>=2.3.0->autokeras) (1.5.2)\n",
            "Requirement already satisfied: markdown>=2.6.8 in /usr/local/lib/python3.7/dist-packages (from tensorboard->keras-tuner>=1.0.2->autokeras) (3.3.4)\n",
            "Requirement already satisfied: werkzeug>=0.11.15 in /usr/local/lib/python3.7/dist-packages (from tensorboard->keras-tuner>=1.0.2->autokeras) (1.0.1)\n",
            "Requirement already satisfied: setuptools>=41.0.0 in /usr/local/lib/python3.7/dist-packages (from tensorboard->keras-tuner>=1.0.2->autokeras) (57.4.0)\n",
            "Requirement already satisfied: google-auth-oauthlib<0.5,>=0.4.1 in /usr/local/lib/python3.7/dist-packages (from tensorboard->keras-tuner>=1.0.2->autokeras) (0.4.6)\n",
            "Requirement already satisfied: google-auth<2,>=1.6.3 in /usr/local/lib/python3.7/dist-packages (from tensorboard->keras-tuner>=1.0.2->autokeras) (1.35.0)\n",
            "Requirement already satisfied: tensorboard-data-server<0.7.0,>=0.6.0 in /usr/local/lib/python3.7/dist-packages (from tensorboard->keras-tuner>=1.0.2->autokeras) (0.6.1)\n",
            "Requirement already satisfied: tensorboard-plugin-wit>=1.6.0 in /usr/local/lib/python3.7/dist-packages (from tensorboard->keras-tuner>=1.0.2->autokeras) (1.8.0)\n",
            "Requirement already satisfied: pyasn1-modules>=0.2.1 in /usr/local/lib/python3.7/dist-packages (from google-auth<2,>=1.6.3->tensorboard->keras-tuner>=1.0.2->autokeras) (0.2.8)\n",
            "Requirement already satisfied: cachetools<5.0,>=2.0.0 in /usr/local/lib/python3.7/dist-packages (from google-auth<2,>=1.6.3->tensorboard->keras-tuner>=1.0.2->autokeras) (4.2.4)\n",
            "Requirement already satisfied: rsa<5,>=3.1.4 in /usr/local/lib/python3.7/dist-packages (from google-auth<2,>=1.6.3->tensorboard->keras-tuner>=1.0.2->autokeras) (4.7.2)\n",
            "Requirement already satisfied: requests-oauthlib>=0.7.0 in /usr/local/lib/python3.7/dist-packages (from google-auth-oauthlib<0.5,>=0.4.1->tensorboard->keras-tuner>=1.0.2->autokeras) (1.3.0)\n",
            "Requirement already satisfied: importlib-metadata in /usr/local/lib/python3.7/dist-packages (from markdown>=2.6.8->tensorboard->keras-tuner>=1.0.2->autokeras) (4.8.1)\n",
            "Requirement already satisfied: pyasn1<0.5.0,>=0.4.6 in /usr/local/lib/python3.7/dist-packages (from pyasn1-modules>=0.2.1->google-auth<2,>=1.6.3->tensorboard->keras-tuner>=1.0.2->autokeras) (0.4.8)\n",
            "Requirement already satisfied: urllib3!=1.25.0,!=1.25.1,<1.26,>=1.21.1 in /usr/local/lib/python3.7/dist-packages (from requests->keras-tuner>=1.0.2->autokeras) (1.24.3)\n",
            "Requirement already satisfied: certifi>=2017.4.17 in /usr/local/lib/python3.7/dist-packages (from requests->keras-tuner>=1.0.2->autokeras) (2021.5.30)\n",
            "Requirement already satisfied: idna<3,>=2.5 in /usr/local/lib/python3.7/dist-packages (from requests->keras-tuner>=1.0.2->autokeras) (2.10)\n",
            "Requirement already satisfied: chardet<4,>=3.0.2 in /usr/local/lib/python3.7/dist-packages (from requests->keras-tuner>=1.0.2->autokeras) (3.0.4)\n",
            "Requirement already satisfied: oauthlib>=3.0.0 in /usr/local/lib/python3.7/dist-packages (from requests-oauthlib>=0.7.0->google-auth-oauthlib<0.5,>=0.4.1->tensorboard->keras-tuner>=1.0.2->autokeras) (3.1.1)\n",
            "Requirement already satisfied: zipp>=0.5 in /usr/local/lib/python3.7/dist-packages (from importlib-metadata->markdown>=2.6.8->tensorboard->keras-tuner>=1.0.2->autokeras) (3.6.0)\n",
            "Requirement already satisfied: pygments in /usr/local/lib/python3.7/dist-packages (from ipython->keras-tuner>=1.0.2->autokeras) (2.6.1)\n",
            "Requirement already satisfied: traitlets>=4.2 in /usr/local/lib/python3.7/dist-packages (from ipython->keras-tuner>=1.0.2->autokeras) (5.1.0)\n",
            "Requirement already satisfied: simplegeneric>0.8 in /usr/local/lib/python3.7/dist-packages (from ipython->keras-tuner>=1.0.2->autokeras) (0.8.1)\n",
            "Requirement already satisfied: pickleshare in /usr/local/lib/python3.7/dist-packages (from ipython->keras-tuner>=1.0.2->autokeras) (0.7.5)\n",
            "Requirement already satisfied: pexpect in /usr/local/lib/python3.7/dist-packages (from ipython->keras-tuner>=1.0.2->autokeras) (4.8.0)\n",
            "Requirement already satisfied: decorator in /usr/local/lib/python3.7/dist-packages (from ipython->keras-tuner>=1.0.2->autokeras) (4.4.2)\n",
            "Requirement already satisfied: prompt-toolkit<2.0.0,>=1.0.4 in /usr/local/lib/python3.7/dist-packages (from ipython->keras-tuner>=1.0.2->autokeras) (1.0.18)\n",
            "Requirement already satisfied: wcwidth in /usr/local/lib/python3.7/dist-packages (from prompt-toolkit<2.0.0,>=1.0.4->ipython->keras-tuner>=1.0.2->autokeras) (0.2.5)\n",
            "Requirement already satisfied: pyparsing>=2.0.2 in /usr/local/lib/python3.7/dist-packages (from packaging->autokeras) (2.4.7)\n",
            "Requirement already satisfied: python-dateutil>=2.7.3 in /usr/local/lib/python3.7/dist-packages (from pandas->autokeras) (2.8.2)\n",
            "Requirement already satisfied: pytz>=2017.2 in /usr/local/lib/python3.7/dist-packages (from pandas->autokeras) (2018.9)\n",
            "Requirement already satisfied: ptyprocess>=0.5 in /usr/local/lib/python3.7/dist-packages (from pexpect->ipython->keras-tuner>=1.0.2->autokeras) (0.7.0)\n",
            "Requirement already satisfied: joblib>=0.11 in /usr/local/lib/python3.7/dist-packages (from scikit-learn->autokeras) (1.0.1)\n"
          ]
        }
      ]
    },
    {
      "cell_type": "code",
      "metadata": {
        "id": "3A0tyai90XP4",
        "colab": {
          "base_uri": "https://localhost:8080/"
        },
        "outputId": "30809a54-751a-4514-d0d1-3a81e0f5f011"
      },
      "source": [
        "!pip show autokeras"
      ],
      "id": "3A0tyai90XP4",
      "execution_count": 2,
      "outputs": [
        {
          "output_type": "stream",
          "name": "stdout",
          "text": [
            "Name: autokeras\n",
            "Version: 1.0.16\n",
            "Summary: AutoML for deep learning\n",
            "Home-page: http://autokeras.com\n",
            "Author: Data Analytics at Texas A&M (DATA) Lab, Keras Team\n",
            "Author-email: jhfjhfj1@gmail.com\n",
            "License: MIT\n",
            "Location: /usr/local/lib/python3.7/dist-packages\n",
            "Requires: keras-tuner, scikit-learn, tensorflow, packaging, pandas\n",
            "Required-by: \n"
          ]
        }
      ]
    },
    {
      "cell_type": "code",
      "metadata": {
        "id": "jE_IvaIs1O3z"
      },
      "source": [
        "import numpy as np\n",
        "import pandas as pd\n",
        "import tensorflow as tf\n",
        "import autokeras as ak"
      ],
      "id": "jE_IvaIs1O3z",
      "execution_count": 3,
      "outputs": []
    },
    {
      "cell_type": "code",
      "metadata": {
        "id": "OdAi99490vlO"
      },
      "source": [
        "reg = ak.StructuredDataRegressor(\n",
        "    overwrite=True, max_trials=3\n",
        ")"
      ],
      "id": "OdAi99490vlO",
      "execution_count": 4,
      "outputs": []
    },
    {
      "cell_type": "code",
      "metadata": {
        "id": "CR_u8_2uYdla"
      },
      "source": [
        "X_train,y_train"
      ],
      "id": "CR_u8_2uYdla",
      "execution_count": null,
      "outputs": []
    },
    {
      "cell_type": "code",
      "metadata": {
        "id": "yaD54ZIB05_N",
        "colab": {
          "base_uri": "https://localhost:8080/"
        },
        "outputId": "23f1a52e-6032-43e1-9cce-6e39e686be11"
      },
      "source": [
        "reg.fit(x=X_train, y=y_train, verbose=0)"
      ],
      "id": "yaD54ZIB05_N",
      "execution_count": 21,
      "outputs": [
        {
          "output_type": "stream",
          "name": "stdout",
          "text": [
            "INFO:tensorflow:Oracle triggered exit\n",
            "Epoch 1/47\n",
            "14/14 [==============================] - 1s 3ms/step - loss: 0.0155 - mean_squared_error: 0.0155\n",
            "Epoch 2/47\n",
            "14/14 [==============================] - 0s 2ms/step - loss: 0.0138 - mean_squared_error: 0.0138\n",
            "Epoch 3/47\n",
            "14/14 [==============================] - 0s 2ms/step - loss: 0.0154 - mean_squared_error: 0.0154\n",
            "Epoch 4/47\n",
            "14/14 [==============================] - 0s 3ms/step - loss: 0.0087 - mean_squared_error: 0.0087\n",
            "Epoch 5/47\n",
            "14/14 [==============================] - 0s 3ms/step - loss: 0.0115 - mean_squared_error: 0.0115\n",
            "Epoch 6/47\n",
            "14/14 [==============================] - 0s 2ms/step - loss: 0.0040 - mean_squared_error: 0.0040\n",
            "Epoch 7/47\n",
            "14/14 [==============================] - 0s 3ms/step - loss: 0.0065 - mean_squared_error: 0.0065\n",
            "Epoch 8/47\n",
            "14/14 [==============================] - 0s 3ms/step - loss: 0.0038 - mean_squared_error: 0.0038\n",
            "Epoch 9/47\n",
            "14/14 [==============================] - 0s 2ms/step - loss: 0.0042 - mean_squared_error: 0.0042\n",
            "Epoch 10/47\n",
            "14/14 [==============================] - 0s 2ms/step - loss: 0.0039 - mean_squared_error: 0.0039\n",
            "Epoch 11/47\n",
            "14/14 [==============================] - 0s 2ms/step - loss: 0.0025 - mean_squared_error: 0.0025\n",
            "Epoch 12/47\n",
            "14/14 [==============================] - 0s 2ms/step - loss: 0.0040 - mean_squared_error: 0.0040\n",
            "Epoch 13/47\n",
            "14/14 [==============================] - 0s 3ms/step - loss: 0.0095 - mean_squared_error: 0.0095\n",
            "Epoch 14/47\n",
            "14/14 [==============================] - 0s 3ms/step - loss: 0.0160 - mean_squared_error: 0.0160    \n",
            "Epoch 15/47\n",
            "14/14 [==============================] - 0s 3ms/step - loss: 0.0067 - mean_squared_error: 0.0067\n",
            "Epoch 16/47\n",
            "14/14 [==============================] - 0s 3ms/step - loss: 0.0078 - mean_squared_error: 0.0078\n",
            "Epoch 17/47\n",
            "14/14 [==============================] - 0s 3ms/step - loss: 0.0033 - mean_squared_error: 0.0033\n",
            "Epoch 18/47\n",
            "14/14 [==============================] - 0s 2ms/step - loss: 0.0068 - mean_squared_error: 0.0068    \n",
            "Epoch 19/47\n",
            "14/14 [==============================] - 0s 2ms/step - loss: 0.0044 - mean_squared_error: 0.0044\n",
            "Epoch 20/47\n",
            "14/14 [==============================] - 0s 2ms/step - loss: 0.0065 - mean_squared_error: 0.0065\n",
            "Epoch 21/47\n",
            "14/14 [==============================] - 0s 3ms/step - loss: 0.0040 - mean_squared_error: 0.0040\n",
            "Epoch 22/47\n",
            "14/14 [==============================] - 0s 2ms/step - loss: 0.0035 - mean_squared_error: 0.0035\n",
            "Epoch 23/47\n",
            "14/14 [==============================] - 0s 3ms/step - loss: 0.0037 - mean_squared_error: 0.0037    \n",
            "Epoch 24/47\n",
            "14/14 [==============================] - 0s 2ms/step - loss: 0.0026 - mean_squared_error: 0.0026\n",
            "Epoch 25/47\n",
            "14/14 [==============================] - 0s 3ms/step - loss: 0.0031 - mean_squared_error: 0.0031\n",
            "Epoch 26/47\n",
            "14/14 [==============================] - 0s 3ms/step - loss: 0.0026 - mean_squared_error: 0.0026    \n",
            "Epoch 27/47\n",
            "14/14 [==============================] - 0s 2ms/step - loss: 0.0020 - mean_squared_error: 0.0020\n",
            "Epoch 28/47\n",
            "14/14 [==============================] - 0s 2ms/step - loss: 0.0039 - mean_squared_error: 0.0039\n",
            "Epoch 29/47\n",
            "14/14 [==============================] - 0s 3ms/step - loss: 0.0038 - mean_squared_error: 0.0038    \n",
            "Epoch 30/47\n",
            "14/14 [==============================] - 0s 3ms/step - loss: 0.0029 - mean_squared_error: 0.0029\n",
            "Epoch 31/47\n",
            "14/14 [==============================] - 0s 3ms/step - loss: 0.0042 - mean_squared_error: 0.0042\n",
            "Epoch 32/47\n",
            "14/14 [==============================] - 0s 2ms/step - loss: 0.0049 - mean_squared_error: 0.0049\n",
            "Epoch 33/47\n",
            "14/14 [==============================] - 0s 3ms/step - loss: 0.0024 - mean_squared_error: 0.0024\n",
            "Epoch 34/47\n",
            "14/14 [==============================] - 0s 2ms/step - loss: 0.0045 - mean_squared_error: 0.0045\n",
            "Epoch 35/47\n",
            "14/14 [==============================] - 0s 2ms/step - loss: 0.0071 - mean_squared_error: 0.0071\n",
            "Epoch 36/47\n",
            "14/14 [==============================] - 0s 3ms/step - loss: 0.0032 - mean_squared_error: 0.0032    \n",
            "Epoch 37/47\n",
            "14/14 [==============================] - 0s 3ms/step - loss: 0.0043 - mean_squared_error: 0.0043\n",
            "Epoch 38/47\n",
            "14/14 [==============================] - 0s 3ms/step - loss: 0.0047 - mean_squared_error: 0.0047\n",
            "Epoch 39/47\n",
            "14/14 [==============================] - 0s 3ms/step - loss: 0.0024 - mean_squared_error: 0.0024\n",
            "Epoch 40/47\n",
            "14/14 [==============================] - 0s 2ms/step - loss: 0.0062 - mean_squared_error: 0.0062\n",
            "Epoch 41/47\n",
            "14/14 [==============================] - 0s 3ms/step - loss: 0.0034 - mean_squared_error: 0.0034    \n",
            "Epoch 42/47\n",
            "14/14 [==============================] - 0s 3ms/step - loss: 0.0027 - mean_squared_error: 0.0027\n",
            "Epoch 43/47\n",
            "14/14 [==============================] - 0s 3ms/step - loss: 0.0033 - mean_squared_error: 0.0033\n",
            "Epoch 44/47\n",
            "14/14 [==============================] - 0s 2ms/step - loss: 0.0018 - mean_squared_error: 0.0018    \n",
            "Epoch 45/47\n",
            "14/14 [==============================] - 0s 3ms/step - loss: 0.0029 - mean_squared_error: 0.0029\n",
            "Epoch 46/47\n",
            "14/14 [==============================] - 0s 2ms/step - loss: 0.0021 - mean_squared_error: 0.0021    \n",
            "Epoch 47/47\n",
            "14/14 [==============================] - 0s 3ms/step - loss: 0.0019 - mean_squared_error: 0.0019\n",
            "INFO:tensorflow:Assets written to: ./structured_data_regressor/best_model/assets\n"
          ]
        },
        {
          "output_type": "execute_result",
          "data": {
            "text/plain": [
              "<tensorflow.python.keras.callbacks.History at 0x7f200332cfd0>"
            ]
          },
          "metadata": {},
          "execution_count": 21
        }
      ]
    },
    {
      "cell_type": "code",
      "metadata": {
        "id": "_EAR0zb41keP",
        "colab": {
          "base_uri": "https://localhost:8080/"
        },
        "outputId": "2c411ab8-8c5a-4159-ccd9-bbefd7e3cc80"
      },
      "source": [
        "\n",
        "# evaluate the model\n",
        "mae, _  = reg.evaluate(X_test, ytest, verbose=0)\n",
        "print('MAE: %.3f' % mae)\n",
        "# use the model to make a prediction\n",
        "yhat_test = reg.predict(X_test)\n",
        "\n",
        "# get the best performing model\n",
        "model = reg.export_model()\n"
      ],
      "id": "_EAR0zb41keP",
      "execution_count": 22,
      "outputs": [
        {
          "output_type": "stream",
          "name": "stdout",
          "text": [
            "MAE: 0.002\n",
            "6/6 [==============================] - 0s 4ms/step\n"
          ]
        }
      ]
    },
    {
      "cell_type": "code",
      "metadata": {
        "id": "XFyX-Bur2SgJ",
        "colab": {
          "base_uri": "https://localhost:8080/"
        },
        "outputId": "3c7ba6dc-e7dc-4d09-e404-8157f07d1807"
      },
      "source": [
        "# summarize the loaded model\n",
        "model.summary()"
      ],
      "id": "XFyX-Bur2SgJ",
      "execution_count": 23,
      "outputs": [
        {
          "output_type": "stream",
          "name": "stdout",
          "text": [
            "Model: \"model\"\n",
            "_________________________________________________________________\n",
            "Layer (type)                 Output Shape              Param #   \n",
            "=================================================================\n",
            "input_1 (InputLayer)         [(None, 100)]             0         \n",
            "_________________________________________________________________\n",
            "multi_category_encoding (Mul (None, 100)               0         \n",
            "_________________________________________________________________\n",
            "dense (Dense)                (None, 32)                3232      \n",
            "_________________________________________________________________\n",
            "re_lu (ReLU)                 (None, 32)                0         \n",
            "_________________________________________________________________\n",
            "dense_1 (Dense)              (None, 32)                1056      \n",
            "_________________________________________________________________\n",
            "re_lu_1 (ReLU)               (None, 32)                0         \n",
            "_________________________________________________________________\n",
            "regression_head_1 (Dense)    (None, 1)                 33        \n",
            "=================================================================\n",
            "Total params: 4,321\n",
            "Trainable params: 4,321\n",
            "Non-trainable params: 0\n",
            "_________________________________________________________________\n"
          ]
        }
      ]
    },
    {
      "cell_type": "code",
      "metadata": {
        "id": "VWny4-JW2pKW",
        "colab": {
          "base_uri": "https://localhost:8080/"
        },
        "outputId": "e7b2924b-7e8a-474a-a6a9-4e7afd781763"
      },
      "source": [
        "yhat_train= reg.predict(X_train)"
      ],
      "id": "VWny4-JW2pKW",
      "execution_count": 24,
      "outputs": [
        {
          "output_type": "stream",
          "name": "stdout",
          "text": [
            "14/14 [==============================] - 0s 2ms/step\n"
          ]
        }
      ]
    },
    {
      "cell_type": "code",
      "metadata": {
        "id": "KIjUsMMz2r1Z"
      },
      "source": [
        "train_predict=scaler.inverse_transform(yhat_train)\n",
        "test_predict=scaler.inverse_transform(yhat_test)"
      ],
      "id": "KIjUsMMz2r1Z",
      "execution_count": 25,
      "outputs": []
    },
    {
      "cell_type": "code",
      "metadata": {
        "id": "0zK6AKcq3aZp"
      },
      "source": [
        "from sklearn.metrics import mean_squared_error\n",
        "import numpy as np"
      ],
      "id": "0zK6AKcq3aZp",
      "execution_count": 26,
      "outputs": []
    },
    {
      "cell_type": "code",
      "metadata": {
        "id": "4EknM_n43gSF",
        "colab": {
          "base_uri": "https://localhost:8080/"
        },
        "outputId": "44f48595-d0e8-49cc-d470-fb4607b79fec"
      },
      "source": [
        "print(\"MSE error for test data: \",np.sqrt(mean_squared_error(ytest,yhat_test)))\n",
        "print(\"MSE error for traindata: \",np.sqrt(mean_squared_error(y_train,yhat_train)))"
      ],
      "id": "4EknM_n43gSF",
      "execution_count": 28,
      "outputs": [
        {
          "output_type": "stream",
          "name": "stdout",
          "text": [
            "MSE error for test data:  0.04859831646424905\n",
            "MSE error for traindata:  0.04811952603511415\n"
          ]
        }
      ]
    }
  ]
}