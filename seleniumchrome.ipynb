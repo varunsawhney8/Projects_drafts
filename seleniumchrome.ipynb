{
  "nbformat": 4,
  "nbformat_minor": 0,
  "metadata": {
    "colab": {
      "name": "Untitled8.ipynb",
      "provenance": [],
      "authorship_tag": "ABX9TyOjdaXDDsT+Rk47IMZXOLfN",
      "include_colab_link": true
    },
    "kernelspec": {
      "name": "python3",
      "display_name": "Python 3"
    },
    "language_info": {
      "name": "python"
    }
  },
  "cells": [
    {
      "cell_type": "markdown",
      "metadata": {
        "id": "view-in-github",
        "colab_type": "text"
      },
      "source": [
        "<a href=\"https://colab.research.google.com/github/varunsawhney8/Projects/blob/main/seleniumchrome.ipynb\" target=\"_parent\"><img src=\"https://colab.research.google.com/assets/colab-badge.svg\" alt=\"Open In Colab\"/></a>"
      ]
    },
    {
      "cell_type": "code",
      "metadata": {
        "colab": {
          "base_uri": "https://localhost:8080/"
        },
        "id": "SSqLjjmUTxc-",
        "outputId": "22957614-86c8-4841-b529-6caa64a43324"
      },
      "source": [
        "!pip install kora -q\n",
        "from kora.selenium import wd\n",
        "browser=wd"
      ],
      "execution_count": 1,
      "outputs": [
        {
          "output_type": "stream",
          "name": "stdout",
          "text": [
            "\u001b[?25l\r\u001b[K     |█████▊                          | 10 kB 25.5 MB/s eta 0:00:01\r\u001b[K     |███████████▍                    | 20 kB 11.0 MB/s eta 0:00:01\r\u001b[K     |█████████████████               | 30 kB 8.9 MB/s eta 0:00:01\r\u001b[K     |██████████████████████▊         | 40 kB 8.0 MB/s eta 0:00:01\r\u001b[K     |████████████████████████████▍   | 51 kB 3.4 MB/s eta 0:00:01\r\u001b[K     |████████████████████████████████| 57 kB 2.2 MB/s \n",
            "\u001b[?25h\u001b[?25l\r\u001b[K     |█████▉                          | 10 kB 27.5 MB/s eta 0:00:01\r\u001b[K     |███████████▊                    | 20 kB 37.8 MB/s eta 0:00:01\r\u001b[K     |█████████████████▌              | 30 kB 14.7 MB/s eta 0:00:01\r\u001b[K     |███████████████████████▍        | 40 kB 10.1 MB/s eta 0:00:01\r\u001b[K     |█████████████████████████████▎  | 51 kB 12.1 MB/s eta 0:00:01\r\u001b[K     |████████████████████████████████| 56 kB 3.1 MB/s \n",
            "\u001b[?25h"
          ]
        }
      ]
    },
    {
      "cell_type": "code",
      "metadata": {
        "colab": {
          "base_uri": "https://localhost:8080/",
          "height": 408
        },
        "id": "G1tSnq8nUO7f",
        "outputId": "e105f96a-5c3f-4298-abbd-b3a513d9cee2"
      },
      "source": [
        "import pandas as pd\n",
        "import string\n",
        "import re\n",
        "from os import listdir\n",
        "from nltk.corpus import stopwords\n",
        "import numpy as np\n",
        "import nltk\n",
        "import requests\n",
        "import os\n",
        "#import streamlit as st\n",
        "import altair as alt\n",
        "#from newspaper import Article\n",
        "from bs4 import BeautifulSoup as bs\n",
        "import requests\n",
        "#from newspaper import Config\n",
        "from selenium import webdriver\n",
        "import time\n",
        "company={1: ['INFOSYS','INFY.NS'], 2:['TATA CONSULTANCY SERVICES','TCS.NS'] , 3: ['RELIANCE INDUSTRIES','RELIANCE.NS'],\n",
        " 4: ['ICICI BANK','ICICIBANK.NS'] , 5: ['HDFC BANK','HDFCBANK.NS'], 6:[ 'HCL TECHNOLOGIES','HCLTECH.NS'],\n",
        " 7:['BHARTI AIRTEL','BHARTIARTL.NS'], 8: ['INDUSIND BANK','INDUSINDBK.NS'], 9: ['STATE BANK OF INDIA','SBIN.NS'],\n",
        "10: ['LARSEN & TOUBRO','LTI.NS'], 11: ['TECH MAHINDRA','TECHM.NS'], 12: ['AXIS BANK','AXISBANK.NS'],\n",
        "13: ['ITC','ITC.NS'], 14: ['BAJAJ AUTO','BAJAJ-AUTO.NS'], 15:['OIL AND NATURAL GAS CORPORATION','ONGC.NS'],\n",
        "16: ['TATA STEEL','TATASTEEL.NS'], 17: ['NTPC','NTPC.NS'], 18: ['MAHINDRA & MAHINDRA','M&M.NS'],\n",
        "19: ['ASIAN PAINTS','ASIANPAINT.NS'], 20:[ 'POWER GRID CORPORATION OF INDIA','POWERGRID.NS'],\n",
        "21: ['BAJAJ FINSERV','BAJAJFINSV.NS'], 22: ['TITAN COMPANY','TITAN.NS'],23: ['NESTLE INDIA','NESTLEIND.NS'],\n",
        "24:['ULTRATECH CEMENT','ULTRACEMCO.NS'], 25: ['SUN PHARMACEUTICAL INDUSTRIES','SUNPHARMA.NS'],\n",
        "26:['BAJAJ FINANCE','BAJFINANCE.NS'], 27: ['MARUTI SUZUKI INDIA','MARUTI.NS'], 28: ['HOUSING DEVELOPMENT FINANCE CORP.','HDFC.NS'],\n",
        "29: [ 'HINDUSTAN UNILEVER','HINDUNILVR.NS'], 30: ['KOTAK MAHINDRA BANK','KOTAKBANK.NS'] }\n",
        "\n",
        "x=input(\"Enter any company code: \")\n",
        "x=int(x)\n",
        "url = \"https://www.ndtv.com/search?searchtext=\"+str(f\"{company[x][0]}\")\n",
        "\n",
        "browser.get(url)\n",
        "\n",
        "for i in range(0,1):\n",
        "    browser.find_element_by_xpath(\"//a[@class= 'src_mre-btn']\").click()\n",
        "    time.sleep(10)\n",
        "\n",
        "browser.find_element_by_xpath(\"//a[@class='notnow']\").click()\n",
        "time.sleep(5)\n",
        "\n",
        "for i in range(0,7):\n",
        "    browser.find_element_by_xpath(\"//a[@class= 'src_mre-btn']\").click()\n",
        "    time.sleep(10)\n",
        "\n",
        "soup = bs(browser.page_source,\"html.parser\")\n",
        "news = soup.find_all(\"article\", class_ = \"col-650 ml-auto\")\n",
        "\n",
        "title_data = []  \n",
        "title_content = []\n",
        "\n",
        "for news_1 in news:\n",
        "    news_message = news_1.find_all(\"div\", class_ = \"src_itm-ttl\")\n",
        "    for i in range(0,len(news_message)):\n",
        "        title_content.append(news_message[i].get_text())\n",
        "        title_content[:] = [titles.lstrip('\\n') for titles in title_content]\n",
        "        title_content[:] = [titles.rstrip('\\n') for titles in title_content]\n",
        "        title_data = title_data + title_content\n",
        "\n",
        "date_data = []  \n",
        "date_content = []\n",
        "\n",
        "for date_1 in news:\n",
        "    date_publish = date_1.find_all(\"span\", class_ = \"src_itm-stx\")\n",
        "    for i in range(0,len(date_publish)):\n",
        "        date_content.append(date_publish[i].get_text())\n",
        "        date_content[:] = [dates.lstrip('\\n') for dates in date_content]\n",
        "        date_content[:] = [dates.rstrip('\\n') for dates in date_content]\n",
        "        date_data = date_data + date_content\n",
        "\n",
        "############ converting into dataframe \n",
        "\n",
        "ndtv_data = pd.DataFrame(columns = [\"Date\", \"Title\"])\n",
        "\n",
        "ndtv_data[\"Title\"] = title_data\n",
        "ndtv_data[\"Date\"] = date_data\n",
        "\n",
        "ndtv_data.drop_duplicates(subset=None, inplace=True)\n",
        "\n",
        "#### Changing date format\n",
        "\n",
        "ndtv_data[\"Date\"]= ndtv_data[\"Date\"].str.replace('January', \"01\") \\\n",
        ".str.replace('February', \"02\") \\\n",
        "    .str.replace('March', \"03,\") \\\n",
        "        .str.replace('April', \"04,\") \\\n",
        "            .str.replace('May', \"05,\") \\\n",
        "                .str.replace('June', \"06,\") \\\n",
        "                    .str.replace('July', \"07,\") \\\n",
        "                        .str.replace('August', \"08,\") \\\n",
        "                            .str.replace('September', \"09,\") \\\n",
        "                                .str.replace('October', \"10,\") \\\n",
        "                                    .str.replace('November', \"11,\") \\\n",
        "                                        .str.replace('December', \"12,\")\n",
        "\n",
        "ndtv_data['Date'] = ndtv_data['Date'].str[5:]\n",
        "\n",
        "\n",
        "def find_number(text):\n",
        "    num = re.findall(r'[0-9]+',text)\n",
        "    return \" \".join(num)\n",
        "\n",
        "ndtv_data['Date']=ndtv_data['Date'].apply(lambda x: find_number(x))\n",
        "\n",
        "ndtv_data['Date'] = ndtv_data['Date'].str[-10:]\n",
        "\n",
        "ndtv_data['Date'] = ndtv_data['Date'].str.replace(r'\\D', '')\n",
        "\n",
        "ndtv_data[\"Date\"] = pd.to_datetime(ndtv_data['Date'], format = '%m%d%Y')\n",
        "\n",
        "#st.write(ndtv_data.head())\n",
        "#st.write(ndtv_data.tail())\n",
        "\n",
        "# Yahoo Finance Data\n",
        "\n",
        "import yfinance as yf \n",
        "\n",
        "company_nse = yf.download(f'{company[x][1]}',start=ndtv_data['Date'][ndtv_data.index[-1]] ,end=ndtv_data['Date'][ndtv_data.index[0]])\n",
        "\n",
        "################### Merging data ##############################################\n",
        "## company\n",
        "## Replacing column name with spaces into underscores\n",
        "\n",
        "company_nse.columns = company_nse.columns.str.replace(\" \", \"_\")\n",
        "\n",
        "company_nse_2 =company_nse[[\"Close\"]]\n",
        "\n",
        "#st.write(company_nse_2.head())\n",
        "#st.write(company_nse_2.tail())\n",
        "\n"
      ],
      "execution_count": 5,
      "outputs": [
        {
          "name": "stdout",
          "output_type": "stream",
          "text": [
            "Enter any company code: 5\n"
          ]
        },
        {
          "output_type": "error",
          "ename": "NoSuchElementException",
          "evalue": "ignored",
          "traceback": [
            "\u001b[0;31m---------------------------------------------------------------------------\u001b[0m",
            "\u001b[0;31mNoSuchElementException\u001b[0m                    Traceback (most recent call last)",
            "\u001b[0;32m<ipython-input-5-ef527d536e50>\u001b[0m in \u001b[0;36m<module>\u001b[0;34m()\u001b[0m\n\u001b[1;32m     38\u001b[0m     \u001b[0mtime\u001b[0m\u001b[0;34m.\u001b[0m\u001b[0msleep\u001b[0m\u001b[0;34m(\u001b[0m\u001b[0;36m10\u001b[0m\u001b[0;34m)\u001b[0m\u001b[0;34m\u001b[0m\u001b[0;34m\u001b[0m\u001b[0m\n\u001b[1;32m     39\u001b[0m \u001b[0;34m\u001b[0m\u001b[0m\n\u001b[0;32m---> 40\u001b[0;31m \u001b[0mbrowser\u001b[0m\u001b[0;34m.\u001b[0m\u001b[0mfind_element_by_xpath\u001b[0m\u001b[0;34m(\u001b[0m\u001b[0;34m\"//a[@class='notnow']\"\u001b[0m\u001b[0;34m)\u001b[0m\u001b[0;34m.\u001b[0m\u001b[0mclick\u001b[0m\u001b[0;34m(\u001b[0m\u001b[0;34m)\u001b[0m\u001b[0;34m\u001b[0m\u001b[0;34m\u001b[0m\u001b[0m\n\u001b[0m\u001b[1;32m     41\u001b[0m \u001b[0mtime\u001b[0m\u001b[0;34m.\u001b[0m\u001b[0msleep\u001b[0m\u001b[0;34m(\u001b[0m\u001b[0;36m5\u001b[0m\u001b[0;34m)\u001b[0m\u001b[0;34m\u001b[0m\u001b[0;34m\u001b[0m\u001b[0m\n\u001b[1;32m     42\u001b[0m \u001b[0;34m\u001b[0m\u001b[0m\n",
            "\u001b[0;32m/usr/local/lib/python3.7/dist-packages/selenium/webdriver/remote/webdriver.py\u001b[0m in \u001b[0;36mfind_element_by_xpath\u001b[0;34m(self, xpath)\u001b[0m\n\u001b[1;32m    392\u001b[0m             \u001b[0melement\u001b[0m \u001b[0;34m=\u001b[0m \u001b[0mdriver\u001b[0m\u001b[0;34m.\u001b[0m\u001b[0mfind_element_by_xpath\u001b[0m\u001b[0;34m(\u001b[0m\u001b[0;34m'//div/td[1]'\u001b[0m\u001b[0;34m)\u001b[0m\u001b[0;34m\u001b[0m\u001b[0;34m\u001b[0m\u001b[0m\n\u001b[1;32m    393\u001b[0m         \"\"\"\n\u001b[0;32m--> 394\u001b[0;31m         \u001b[0;32mreturn\u001b[0m \u001b[0mself\u001b[0m\u001b[0;34m.\u001b[0m\u001b[0mfind_element\u001b[0m\u001b[0;34m(\u001b[0m\u001b[0mby\u001b[0m\u001b[0;34m=\u001b[0m\u001b[0mBy\u001b[0m\u001b[0;34m.\u001b[0m\u001b[0mXPATH\u001b[0m\u001b[0;34m,\u001b[0m \u001b[0mvalue\u001b[0m\u001b[0;34m=\u001b[0m\u001b[0mxpath\u001b[0m\u001b[0;34m)\u001b[0m\u001b[0;34m\u001b[0m\u001b[0;34m\u001b[0m\u001b[0m\n\u001b[0m\u001b[1;32m    395\u001b[0m \u001b[0;34m\u001b[0m\u001b[0m\n\u001b[1;32m    396\u001b[0m     \u001b[0;32mdef\u001b[0m \u001b[0mfind_elements_by_xpath\u001b[0m\u001b[0;34m(\u001b[0m\u001b[0mself\u001b[0m\u001b[0;34m,\u001b[0m \u001b[0mxpath\u001b[0m\u001b[0;34m)\u001b[0m\u001b[0;34m:\u001b[0m\u001b[0;34m\u001b[0m\u001b[0;34m\u001b[0m\u001b[0m\n",
            "\u001b[0;32m/usr/local/lib/python3.7/dist-packages/selenium/webdriver/remote/webdriver.py\u001b[0m in \u001b[0;36mfind_element\u001b[0;34m(self, by, value)\u001b[0m\n\u001b[1;32m    976\u001b[0m         return self.execute(Command.FIND_ELEMENT, {\n\u001b[1;32m    977\u001b[0m             \u001b[0;34m'using'\u001b[0m\u001b[0;34m:\u001b[0m \u001b[0mby\u001b[0m\u001b[0;34m,\u001b[0m\u001b[0;34m\u001b[0m\u001b[0;34m\u001b[0m\u001b[0m\n\u001b[0;32m--> 978\u001b[0;31m             'value': value})['value']\n\u001b[0m\u001b[1;32m    979\u001b[0m \u001b[0;34m\u001b[0m\u001b[0m\n\u001b[1;32m    980\u001b[0m     \u001b[0;32mdef\u001b[0m \u001b[0mfind_elements\u001b[0m\u001b[0;34m(\u001b[0m\u001b[0mself\u001b[0m\u001b[0;34m,\u001b[0m \u001b[0mby\u001b[0m\u001b[0;34m=\u001b[0m\u001b[0mBy\u001b[0m\u001b[0;34m.\u001b[0m\u001b[0mID\u001b[0m\u001b[0;34m,\u001b[0m \u001b[0mvalue\u001b[0m\u001b[0;34m=\u001b[0m\u001b[0;32mNone\u001b[0m\u001b[0;34m)\u001b[0m\u001b[0;34m:\u001b[0m\u001b[0;34m\u001b[0m\u001b[0;34m\u001b[0m\u001b[0m\n",
            "\u001b[0;32m/usr/local/lib/python3.7/dist-packages/selenium/webdriver/remote/webdriver.py\u001b[0m in \u001b[0;36mexecute\u001b[0;34m(self, driver_command, params)\u001b[0m\n\u001b[1;32m    319\u001b[0m         \u001b[0mresponse\u001b[0m \u001b[0;34m=\u001b[0m \u001b[0mself\u001b[0m\u001b[0;34m.\u001b[0m\u001b[0mcommand_executor\u001b[0m\u001b[0;34m.\u001b[0m\u001b[0mexecute\u001b[0m\u001b[0;34m(\u001b[0m\u001b[0mdriver_command\u001b[0m\u001b[0;34m,\u001b[0m \u001b[0mparams\u001b[0m\u001b[0;34m)\u001b[0m\u001b[0;34m\u001b[0m\u001b[0;34m\u001b[0m\u001b[0m\n\u001b[1;32m    320\u001b[0m         \u001b[0;32mif\u001b[0m \u001b[0mresponse\u001b[0m\u001b[0;34m:\u001b[0m\u001b[0;34m\u001b[0m\u001b[0;34m\u001b[0m\u001b[0m\n\u001b[0;32m--> 321\u001b[0;31m             \u001b[0mself\u001b[0m\u001b[0;34m.\u001b[0m\u001b[0merror_handler\u001b[0m\u001b[0;34m.\u001b[0m\u001b[0mcheck_response\u001b[0m\u001b[0;34m(\u001b[0m\u001b[0mresponse\u001b[0m\u001b[0;34m)\u001b[0m\u001b[0;34m\u001b[0m\u001b[0;34m\u001b[0m\u001b[0m\n\u001b[0m\u001b[1;32m    322\u001b[0m             response['value'] = self._unwrap_value(\n\u001b[1;32m    323\u001b[0m                 response.get('value', None))\n",
            "\u001b[0;32m/usr/local/lib/python3.7/dist-packages/selenium/webdriver/remote/errorhandler.py\u001b[0m in \u001b[0;36mcheck_response\u001b[0;34m(self, response)\u001b[0m\n\u001b[1;32m    240\u001b[0m                 \u001b[0malert_text\u001b[0m \u001b[0;34m=\u001b[0m \u001b[0mvalue\u001b[0m\u001b[0;34m[\u001b[0m\u001b[0;34m'alert'\u001b[0m\u001b[0;34m]\u001b[0m\u001b[0;34m.\u001b[0m\u001b[0mget\u001b[0m\u001b[0;34m(\u001b[0m\u001b[0;34m'text'\u001b[0m\u001b[0;34m)\u001b[0m\u001b[0;34m\u001b[0m\u001b[0;34m\u001b[0m\u001b[0m\n\u001b[1;32m    241\u001b[0m             \u001b[0;32mraise\u001b[0m \u001b[0mexception_class\u001b[0m\u001b[0;34m(\u001b[0m\u001b[0mmessage\u001b[0m\u001b[0;34m,\u001b[0m \u001b[0mscreen\u001b[0m\u001b[0;34m,\u001b[0m \u001b[0mstacktrace\u001b[0m\u001b[0;34m,\u001b[0m \u001b[0malert_text\u001b[0m\u001b[0;34m)\u001b[0m\u001b[0;34m\u001b[0m\u001b[0;34m\u001b[0m\u001b[0m\n\u001b[0;32m--> 242\u001b[0;31m         \u001b[0;32mraise\u001b[0m \u001b[0mexception_class\u001b[0m\u001b[0;34m(\u001b[0m\u001b[0mmessage\u001b[0m\u001b[0;34m,\u001b[0m \u001b[0mscreen\u001b[0m\u001b[0;34m,\u001b[0m \u001b[0mstacktrace\u001b[0m\u001b[0;34m)\u001b[0m\u001b[0;34m\u001b[0m\u001b[0;34m\u001b[0m\u001b[0m\n\u001b[0m\u001b[1;32m    243\u001b[0m \u001b[0;34m\u001b[0m\u001b[0m\n\u001b[1;32m    244\u001b[0m     \u001b[0;32mdef\u001b[0m \u001b[0m_value_or_default\u001b[0m\u001b[0;34m(\u001b[0m\u001b[0mself\u001b[0m\u001b[0;34m,\u001b[0m \u001b[0mobj\u001b[0m\u001b[0;34m,\u001b[0m \u001b[0mkey\u001b[0m\u001b[0;34m,\u001b[0m \u001b[0mdefault\u001b[0m\u001b[0;34m)\u001b[0m\u001b[0;34m:\u001b[0m\u001b[0;34m\u001b[0m\u001b[0;34m\u001b[0m\u001b[0m\n",
            "\u001b[0;31mNoSuchElementException\u001b[0m: Message: no such element: Unable to locate element: {\"method\":\"xpath\",\"selector\":\"//a[@class='notnow']\"}\n  (Session info: headless chrome=92.0.4515.159)\n"
          ]
        }
      ]
    },
    {
      "cell_type": "code",
      "metadata": {
        "id": "gT13F08hcoF6",
        "outputId": "507bfe59-bed2-40cf-d1a4-4b1bcb7a5918",
        "colab": {
          "base_uri": "https://localhost:8080/",
          "height": 561
        }
      },
      "source": [
        "!pip install yfinance"
      ],
      "execution_count": 4,
      "outputs": [
        {
          "output_type": "stream",
          "name": "stdout",
          "text": [
            "Collecting yfinance\n",
            "  Downloading yfinance-0.1.63.tar.gz (26 kB)\n",
            "Requirement already satisfied: pandas>=0.24 in /usr/local/lib/python3.7/dist-packages (from yfinance) (1.1.5)\n",
            "Requirement already satisfied: numpy>=1.15 in /usr/local/lib/python3.7/dist-packages (from yfinance) (1.19.5)\n",
            "Requirement already satisfied: requests>=2.20 in /usr/local/lib/python3.7/dist-packages (from yfinance) (2.23.0)\n",
            "Requirement already satisfied: multitasking>=0.0.7 in /usr/local/lib/python3.7/dist-packages (from yfinance) (0.0.9)\n",
            "Collecting lxml>=4.5.1\n",
            "  Downloading lxml-4.6.3-cp37-cp37m-manylinux2014_x86_64.whl (6.3 MB)\n",
            "\u001b[K     |████████████████████████████████| 6.3 MB 5.1 MB/s \n",
            "\u001b[?25hRequirement already satisfied: python-dateutil>=2.7.3 in /usr/local/lib/python3.7/dist-packages (from pandas>=0.24->yfinance) (2.8.2)\n",
            "Requirement already satisfied: pytz>=2017.2 in /usr/local/lib/python3.7/dist-packages (from pandas>=0.24->yfinance) (2018.9)\n",
            "Requirement already satisfied: six>=1.5 in /usr/local/lib/python3.7/dist-packages (from python-dateutil>=2.7.3->pandas>=0.24->yfinance) (1.15.0)\n",
            "Requirement already satisfied: certifi>=2017.4.17 in /usr/local/lib/python3.7/dist-packages (from requests>=2.20->yfinance) (2021.5.30)\n",
            "Requirement already satisfied: chardet<4,>=3.0.2 in /usr/local/lib/python3.7/dist-packages (from requests>=2.20->yfinance) (3.0.4)\n",
            "Requirement already satisfied: idna<3,>=2.5 in /usr/local/lib/python3.7/dist-packages (from requests>=2.20->yfinance) (2.10)\n",
            "Requirement already satisfied: urllib3!=1.25.0,!=1.25.1,<1.26,>=1.21.1 in /usr/local/lib/python3.7/dist-packages (from requests>=2.20->yfinance) (1.24.3)\n",
            "Building wheels for collected packages: yfinance\n",
            "  Building wheel for yfinance (setup.py) ... \u001b[?25l\u001b[?25hdone\n",
            "  Created wheel for yfinance: filename=yfinance-0.1.63-py2.py3-none-any.whl size=23918 sha256=e91fd5325592099b4b96cce14d8c02d11d7a7af030216c24ecac26b8b2f833b5\n",
            "  Stored in directory: /root/.cache/pip/wheels/fe/87/8b/7ec24486e001d3926537f5f7801f57a74d181be25b11157983\n",
            "Successfully built yfinance\n",
            "Installing collected packages: lxml, yfinance\n",
            "  Attempting uninstall: lxml\n",
            "    Found existing installation: lxml 4.2.6\n",
            "    Uninstalling lxml-4.2.6:\n",
            "      Successfully uninstalled lxml-4.2.6\n",
            "Successfully installed lxml-4.6.3 yfinance-0.1.63\n"
          ]
        },
        {
          "output_type": "display_data",
          "data": {
            "application/vnd.colab-display-data+json": {
              "pip_warning": {
                "packages": [
                  "lxml"
                ]
              }
            }
          },
          "metadata": {}
        }
      ]
    },
    {
      "cell_type": "code",
      "metadata": {
        "id": "mKFnbEdacT-v",
        "outputId": "c58769f9-63f7-4784-dd3a-3b113ed92e74",
        "colab": {
          "base_uri": "https://localhost:8080/",
          "height": 204
        }
      },
      "source": [
        "ndtv_data.head()"
      ],
      "execution_count": 3,
      "outputs": [
        {
          "output_type": "execute_result",
          "data": {
            "text/html": [
              "<div>\n",
              "<style scoped>\n",
              "    .dataframe tbody tr th:only-of-type {\n",
              "        vertical-align: middle;\n",
              "    }\n",
              "\n",
              "    .dataframe tbody tr th {\n",
              "        vertical-align: top;\n",
              "    }\n",
              "\n",
              "    .dataframe thead th {\n",
              "        text-align: right;\n",
              "    }\n",
              "</style>\n",
              "<table border=\"1\" class=\"dataframe\">\n",
              "  <thead>\n",
              "    <tr style=\"text-align: right;\">\n",
              "      <th></th>\n",
              "      <th>Date</th>\n",
              "      <th>Title</th>\n",
              "    </tr>\n",
              "  </thead>\n",
              "  <tbody>\n",
              "    <tr>\n",
              "      <th>0</th>\n",
              "      <td>2021-09-02</td>\n",
              "      <td>Nifty Resumes Record-Breaking Rally After A Da...</td>\n",
              "    </tr>\n",
              "    <tr>\n",
              "      <th>2</th>\n",
              "      <td>2021-09-02</td>\n",
              "      <td>Sensex, Nifty Edge Higher Led By Gains In TCS,...</td>\n",
              "    </tr>\n",
              "    <tr>\n",
              "      <th>5</th>\n",
              "      <td>2021-09-01</td>\n",
              "      <td>Sensex, Nifty Snap Three-Day Record-Breaking S...</td>\n",
              "    </tr>\n",
              "    <tr>\n",
              "      <th>9</th>\n",
              "      <td>2021-08-17</td>\n",
              "      <td>Sensex, Nifty Extend Record-Breaking Streak, L...</td>\n",
              "    </tr>\n",
              "    <tr>\n",
              "      <th>14</th>\n",
              "      <td>2021-08-09</td>\n",
              "      <td>Sensex, Nifty Edge Higher Led By Gains In IT, ...</td>\n",
              "    </tr>\n",
              "  </tbody>\n",
              "</table>\n",
              "</div>"
            ],
            "text/plain": [
              "         Date                                              Title\n",
              "0  2021-09-02  Nifty Resumes Record-Breaking Rally After A Da...\n",
              "2  2021-09-02  Sensex, Nifty Edge Higher Led By Gains In TCS,...\n",
              "5  2021-09-01  Sensex, Nifty Snap Three-Day Record-Breaking S...\n",
              "9  2021-08-17  Sensex, Nifty Extend Record-Breaking Streak, L...\n",
              "14 2021-08-09  Sensex, Nifty Edge Higher Led By Gains In IT, ..."
            ]
          },
          "metadata": {},
          "execution_count": 3
        }
      ]
    },
    {
      "cell_type": "code",
      "metadata": {
        "id": "RWLzRJacgb7C",
        "outputId": "2c50bb4c-f2db-4ac4-ca6f-79d6e9fb62bb",
        "colab": {
          "base_uri": "https://localhost:8080/",
          "height": 204
        }
      },
      "source": [
        "\n",
        "import numpy as np\n",
        "import pandas as pd\n",
        "# List of Tuples\n",
        "matrix = [(10, 56, 17),\n",
        "          (np.NaN, 23, 11),\n",
        "          (49, 36, 55),\n",
        "          (75, np.NaN, 34),\n",
        "          (89, 21, 44)\n",
        "          ]\n",
        "# Create a DataFrame\n",
        "abc = pd.DataFrame(matrix, index = list('abcde'), columns = list('xyz'))\n",
        " \n",
        "# output\n",
        "abc"
      ],
      "execution_count": 6,
      "outputs": [
        {
          "output_type": "execute_result",
          "data": {
            "text/html": [
              "<div>\n",
              "<style scoped>\n",
              "    .dataframe tbody tr th:only-of-type {\n",
              "        vertical-align: middle;\n",
              "    }\n",
              "\n",
              "    .dataframe tbody tr th {\n",
              "        vertical-align: top;\n",
              "    }\n",
              "\n",
              "    .dataframe thead th {\n",
              "        text-align: right;\n",
              "    }\n",
              "</style>\n",
              "<table border=\"1\" class=\"dataframe\">\n",
              "  <thead>\n",
              "    <tr style=\"text-align: right;\">\n",
              "      <th></th>\n",
              "      <th>x</th>\n",
              "      <th>y</th>\n",
              "      <th>z</th>\n",
              "    </tr>\n",
              "  </thead>\n",
              "  <tbody>\n",
              "    <tr>\n",
              "      <th>a</th>\n",
              "      <td>10.0</td>\n",
              "      <td>56.0</td>\n",
              "      <td>17</td>\n",
              "    </tr>\n",
              "    <tr>\n",
              "      <th>b</th>\n",
              "      <td>NaN</td>\n",
              "      <td>23.0</td>\n",
              "      <td>11</td>\n",
              "    </tr>\n",
              "    <tr>\n",
              "      <th>c</th>\n",
              "      <td>49.0</td>\n",
              "      <td>36.0</td>\n",
              "      <td>55</td>\n",
              "    </tr>\n",
              "    <tr>\n",
              "      <th>d</th>\n",
              "      <td>75.0</td>\n",
              "      <td>NaN</td>\n",
              "      <td>34</td>\n",
              "    </tr>\n",
              "    <tr>\n",
              "      <th>e</th>\n",
              "      <td>89.0</td>\n",
              "      <td>21.0</td>\n",
              "      <td>44</td>\n",
              "    </tr>\n",
              "  </tbody>\n",
              "</table>\n",
              "</div>"
            ],
            "text/plain": [
              "      x     y   z\n",
              "a  10.0  56.0  17\n",
              "b   NaN  23.0  11\n",
              "c  49.0  36.0  55\n",
              "d  75.0   NaN  34\n",
              "e  89.0  21.0  44"
            ]
          },
          "metadata": {},
          "execution_count": 6
        }
      ]
    },
    {
      "cell_type": "code",
      "metadata": {
        "id": "wzoeqoa7kV8R",
        "outputId": "7fe7ac9b-0fd5-4ba7-a2c8-4bb78c7a9ac6",
        "colab": {
          "base_uri": "https://localhost:8080/",
          "height": 235
        }
      },
      "source": [
        "abc.set_index('x')"
      ],
      "execution_count": 16,
      "outputs": [
        {
          "output_type": "execute_result",
          "data": {
            "text/html": [
              "<div>\n",
              "<style scoped>\n",
              "    .dataframe tbody tr th:only-of-type {\n",
              "        vertical-align: middle;\n",
              "    }\n",
              "\n",
              "    .dataframe tbody tr th {\n",
              "        vertical-align: top;\n",
              "    }\n",
              "\n",
              "    .dataframe thead th {\n",
              "        text-align: right;\n",
              "    }\n",
              "</style>\n",
              "<table border=\"1\" class=\"dataframe\">\n",
              "  <thead>\n",
              "    <tr style=\"text-align: right;\">\n",
              "      <th></th>\n",
              "      <th>y</th>\n",
              "      <th>z</th>\n",
              "    </tr>\n",
              "    <tr>\n",
              "      <th>x</th>\n",
              "      <th></th>\n",
              "      <th></th>\n",
              "    </tr>\n",
              "  </thead>\n",
              "  <tbody>\n",
              "    <tr>\n",
              "      <th>10.0</th>\n",
              "      <td>56.0</td>\n",
              "      <td>17</td>\n",
              "    </tr>\n",
              "    <tr>\n",
              "      <th>NaN</th>\n",
              "      <td>23.0</td>\n",
              "      <td>11</td>\n",
              "    </tr>\n",
              "    <tr>\n",
              "      <th>49.0</th>\n",
              "      <td>36.0</td>\n",
              "      <td>55</td>\n",
              "    </tr>\n",
              "    <tr>\n",
              "      <th>75.0</th>\n",
              "      <td>NaN</td>\n",
              "      <td>34</td>\n",
              "    </tr>\n",
              "    <tr>\n",
              "      <th>89.0</th>\n",
              "      <td>21.0</td>\n",
              "      <td>44</td>\n",
              "    </tr>\n",
              "  </tbody>\n",
              "</table>\n",
              "</div>"
            ],
            "text/plain": [
              "         y   z\n",
              "x             \n",
              "10.0  56.0  17\n",
              "NaN   23.0  11\n",
              "49.0  36.0  55\n",
              "75.0   NaN  34\n",
              "89.0  21.0  44"
            ]
          },
          "metadata": {},
          "execution_count": 16
        }
      ]
    },
    {
      "cell_type": "code",
      "metadata": {
        "id": "k0g2qa_2ge2P",
        "outputId": "2fd52464-19a9-46b4-ffe5-adb4fc4dd1c5",
        "colab": {
          "base_uri": "https://localhost:8080/"
        }
      },
      "source": [
        "\n",
        "# find maximum value of each row\n",
        "maxValues = abc.max(axis = 1)\n",
        "print(maxValues)"
      ],
      "execution_count": 8,
      "outputs": [
        {
          "output_type": "stream",
          "name": "stdout",
          "text": [
            "a    56.0\n",
            "b    23.0\n",
            "c    55.0\n",
            "d    75.0\n",
            "e    89.0\n",
            "dtype: float64\n"
          ]
        }
      ]
    },
    {
      "cell_type": "code",
      "metadata": {
        "id": "bbvPHHmeg_XF",
        "outputId": "9bbd8d7c-8481-49a8-e073-c961a0abd774",
        "colab": {
          "base_uri": "https://localhost:8080/"
        }
      },
      "source": [
        "\n",
        "# find maximum value of each column without skipping NaN\n",
        "maxValues = abc.max(skipna = False)\n",
        " \n",
        "print(maxValues)"
      ],
      "execution_count": 9,
      "outputs": [
        {
          "output_type": "stream",
          "name": "stdout",
          "text": [
            "x     NaN\n",
            "y     NaN\n",
            "z    55.0\n",
            "dtype: float64\n"
          ]
        }
      ]
    },
    {
      "cell_type": "code",
      "metadata": {
        "id": "jLSkItqZhQh9",
        "outputId": "d0b7921e-c890-4219-bb2e-e3d15e234e06",
        "colab": {
          "base_uri": "https://localhost:8080/"
        }
      },
      "source": [
        "\n",
        "# find maximum value of a\n",
        "# single column 'x'\n",
        "maxClm = abc['x'].max()\n",
        " \n",
        "print(\"Maximum value in column 'x': \" )\n",
        "print(maxClm)"
      ],
      "execution_count": 11,
      "outputs": [
        {
          "output_type": "stream",
          "name": "stdout",
          "text": [
            "Maximum value in column 'x': \n",
            "89.0\n"
          ]
        }
      ]
    },
    {
      "cell_type": "code",
      "metadata": {
        "id": "62tIpsgShd2q",
        "outputId": "08dc04ce-802c-48ba-a122-ff67c227ef14",
        "colab": {
          "base_uri": "https://localhost:8080/"
        }
      },
      "source": [
        "\n",
        "# find maximum values of a list of columns\n",
        "maxValues = abc[['x', 'z']].max()\n",
        " \n",
        "print(\"Maximum value in column 'x' & 'z': \")\n",
        "print(maxValues)"
      ],
      "execution_count": 13,
      "outputs": [
        {
          "output_type": "stream",
          "name": "stdout",
          "text": [
            "Maximum value in column 'x' & 'z': \n",
            "x    89.0\n",
            "z    55.0\n",
            "dtype: float64\n"
          ]
        }
      ]
    },
    {
      "cell_type": "code",
      "metadata": {
        "id": "q8UnH_U5hkBU",
        "outputId": "8fbac2fa-5fb3-4474-e9b0-a8cfff9a3682",
        "colab": {
          "base_uri": "https://localhost:8080/"
        }
      },
      "source": [
        "\n",
        "# find the index position of maximum\n",
        "# values in every column\n",
        "maxValueIndex = abc.idxmax()\n",
        " \n",
        "print(\"Maximum values of columns are at row index position :\")\n",
        "print(maxValueIndex)"
      ],
      "execution_count": 14,
      "outputs": [
        {
          "output_type": "stream",
          "name": "stdout",
          "text": [
            "Maximum values of columns are at row index position :\n",
            "x    e\n",
            "y    a\n",
            "z    c\n",
            "dtype: object\n"
          ]
        }
      ]
    },
    {
      "cell_type": "code",
      "metadata": {
        "id": "QtvFWxWrhmxT",
        "outputId": "d61cab74-2b20-47a9-e70e-c451e3e646ec",
        "colab": {
          "base_uri": "https://localhost:8080/"
        }
      },
      "source": [
        "# find the index position of maximum\n",
        "# values in every column\n",
        "maxValueIndex = abc['x'].idxmax()\n",
        " \n",
        "print(\"Maximum values of columns are at row index position :\")\n",
        "print(maxValueIndex)"
      ],
      "execution_count": 18,
      "outputs": [
        {
          "output_type": "stream",
          "name": "stdout",
          "text": [
            "Maximum values of columns are at row index position :\n",
            "e\n"
          ]
        }
      ]
    }
  ]
}