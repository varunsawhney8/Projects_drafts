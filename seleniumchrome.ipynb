{
  "nbformat": 4,
  "nbformat_minor": 0,
  "metadata": {
    "colab": {
      "name": "Untitled8.ipynb",
      "provenance": [],
      "authorship_tag": "ABX9TyPc74k6mHBrIFMgIuKXbtyD",
      "include_colab_link": true
    },
    "kernelspec": {
      "name": "python3",
      "display_name": "Python 3"
    },
    "language_info": {
      "name": "python"
    }
  },
  "cells": [
    {
      "cell_type": "markdown",
      "metadata": {
        "id": "view-in-github",
        "colab_type": "text"
      },
      "source": [
        "<a href=\"https://colab.research.google.com/github/varunsawhney8/Projects/blob/main/seleniumchrome.ipynb\" target=\"_parent\"><img src=\"https://colab.research.google.com/assets/colab-badge.svg\" alt=\"Open In Colab\"/></a>"
      ]
    },
    {
      "cell_type": "code",
      "metadata": {
        "colab": {
          "base_uri": "https://localhost:8080/"
        },
        "id": "SSqLjjmUTxc-",
        "outputId": "193d8e50-fbb8-4402-d9a7-22200103d264"
      },
      "source": [
        "!pip install selenium\n",
        "!apt-get update # to update ubuntu to correctly run apt install\n",
        "!apt install chromium-chromedriver\n",
        "!cp /usr/lib/chromium-browser/chromedriver /usr/bin\n",
        "import sys\n",
        "sys.path.insert(0,'/usr/lib/chromium-browser/chromedriver')\n",
        "from selenium import webdriver\n",
        "chrome_options = webdriver.ChromeOptions()\n",
        "chrome_options.add_argument('--headless')\n",
        "chrome_options.add_argument('--no-sandbox')\n",
        "chrome_options.add_argument('--disable-dev-shm-usage')\n",
        "browser = webdriver.Chrome('chromedriver',chrome_options=chrome_options)"
      ],
      "execution_count": 4,
      "outputs": [
        {
          "output_type": "stream",
          "name": "stderr",
          "text": [
            "/usr/local/lib/python3.7/dist-packages/ipykernel_launcher.py:12: DeprecationWarning: use options instead of chrome_options\n",
            "  if sys.path[0] == '':\n"
          ]
        }
      ]
    },
    {
      "cell_type": "code",
      "metadata": {
        "colab": {
          "base_uri": "https://localhost:8080/",
          "height": 425
        },
        "id": "G1tSnq8nUO7f",
        "outputId": "b6c6d402-8309-43ef-e681-8ac6696e7379"
      },
      "source": [
        "import pandas as pd\n",
        "import string\n",
        "import re\n",
        "from os import listdir\n",
        "from nltk.corpus import stopwords\n",
        "import numpy as np\n",
        "import nltk\n",
        "import requests\n",
        "import os\n",
        "#import streamlit as st\n",
        "import altair as alt\n",
        "#from newspaper import Article\n",
        "from bs4 import BeautifulSoup as bs\n",
        "import requests\n",
        "#from newspaper import Config\n",
        "from selenium import webdriver\n",
        "import time\n",
        "company={1: ['INFOSYS','INFY.NS'], 2:['TATA CONSULTANCY SERVICES','TCS.NS'] , 3: ['RELIANCE INDUSTRIES','RELIANCE.NS'],\n",
        " 4: ['ICICI BANK','ICICIBANK.NS'] , 5: ['HDFC BANK','HDFCBANK.NS'], 6:[ 'HCL TECHNOLOGIES','HCLTECH.NS'],\n",
        " 7:['BHARTI AIRTEL','BHARTIARTL.NS'], 8: ['INDUSIND BANK','INDUSINDBK.NS'], 9: ['STATE BANK OF INDIA','SBIN.NS'],\n",
        "10: ['LARSEN & TOUBRO','LTI.NS'], 11: ['TECH MAHINDRA','TECHM.NS'], 12: ['AXIS BANK','AXISBANK.NS'],\n",
        "13: ['ITC','ITC.NS'], 14: ['BAJAJ AUTO','BAJAJ-AUTO.NS'], 15:['OIL AND NATURAL GAS CORPORATION','ONGC.NS'],\n",
        "16: ['TATA STEEL','TATASTEEL.NS'], 17: ['NTPC','NTPC.NS'], 18: ['MAHINDRA & MAHINDRA','M&M.NS'],\n",
        "19: ['ASIAN PAINTS','ASIANPAINT.NS'], 20:[ 'POWER GRID CORPORATION OF INDIA','POWERGRID.NS'],\n",
        "21: ['BAJAJ FINSERV','BAJAJFINSV.NS'], 22: ['TITAN COMPANY','TITAN.NS'],23: ['NESTLE INDIA','NESTLEIND.NS'],\n",
        "24:['ULTRATECH CEMENT','ULTRACEMCO.NS'], 25: ['SUN PHARMACEUTICAL INDUSTRIES','SUNPHARMA.NS'],\n",
        "26:['BAJAJ FINANCE','BAJFINANCE.NS'], 27: ['MARUTI SUZUKI INDIA','MARUTI.NS'], 28: ['HOUSING DEVELOPMENT FINANCE CORP.','HDFC.NS'],\n",
        "29: [ 'HINDUSTAN UNILEVER','HINDUNILVR.NS'], 30: ['KOTAK MAHINDRA BANK','KOTAKBANK.NS'] }\n",
        "\n",
        "x=input(\"Enter any company code: \")\n",
        "x=int(x)\n",
        "url = \"https://www.ndtv.com/search?searchtext=\"+str(f\"{company[x][0]}\")\n",
        "\n",
        "browser.get(url)\n",
        "\n",
        "for i in range(0,1):\n",
        "    browser.find_element_by_xpath(\"//a[@class= 'src_mre-btn']\").click()\n",
        "    time.sleep(10)\n",
        "\n",
        "browser.find_element_by_xpath(\"//a[@class='notnow']\").click()\n",
        "time.sleep(5)\n",
        "\n",
        "for i in range(0,7):\n",
        "    browser.find_element_by_xpath(\"//a[@class= 'src_mre-btn']\").click()\n",
        "    time.sleep(10)\n",
        "\n",
        "soup = bs(browser.page_source,\"html.parser\")\n",
        "news = soup.find_all(\"article\", class_ = \"col-650 ml-auto\")\n",
        "\n",
        "title_data = []  \n",
        "title_content = []\n",
        "\n",
        "for news_1 in news:\n",
        "    news_message = news_1.find_all(\"div\", class_ = \"src_itm-ttl\")\n",
        "    for i in range(0,len(news_message)):\n",
        "        title_content.append(news_message[i].get_text())\n",
        "        title_content[:] = [titles.lstrip('\\n') for titles in title_content]\n",
        "        title_content[:] = [titles.rstrip('\\n') for titles in title_content]\n",
        "        title_data = title_data + title_content\n",
        "\n",
        "date_data = []  \n",
        "date_content = []\n",
        "\n",
        "for date_1 in news:\n",
        "    date_publish = date_1.find_all(\"span\", class_ = \"src_itm-stx\")\n",
        "    for i in range(0,len(date_publish)):\n",
        "        date_content.append(date_publish[i].get_text())\n",
        "        date_content[:] = [dates.lstrip('\\n') for dates in date_content]\n",
        "        date_content[:] = [dates.rstrip('\\n') for dates in date_content]\n",
        "        date_data = date_data + date_content\n",
        "\n",
        "############ converting into dataframe \n",
        "\n",
        "ndtv_data = pd.DataFrame(columns = [\"Date\", \"Title\"])\n",
        "\n",
        "ndtv_data[\"Title\"] = title_data\n",
        "ndtv_data[\"Date\"] = date_data\n",
        "\n",
        "ndtv_data.drop_duplicates(subset=None, inplace=True)\n",
        "\n",
        "#### Changing date format\n",
        "\n",
        "ndtv_data[\"Date\"]= ndtv_data[\"Date\"].str.replace('January', \"01\") \\\n",
        ".str.replace('February', \"02\") \\\n",
        "    .str.replace('March', \"03,\") \\\n",
        "        .str.replace('April', \"04,\") \\\n",
        "            .str.replace('May', \"05,\") \\\n",
        "                .str.replace('June', \"06,\") \\\n",
        "                    .str.replace('July', \"07,\") \\\n",
        "                        .str.replace('August', \"08,\") \\\n",
        "                            .str.replace('September', \"09,\") \\\n",
        "                                .str.replace('October', \"10,\") \\\n",
        "                                    .str.replace('November', \"11,\") \\\n",
        "                                        .str.replace('December', \"12,\")\n",
        "\n",
        "ndtv_data['Date'] = ndtv_data['Date'].str[5:]\n",
        "\n",
        "\n",
        "def find_number(text):\n",
        "    num = re.findall(r'[0-9]+',text)\n",
        "    return \" \".join(num)\n",
        "\n",
        "ndtv_data['Date']=ndtv_data['Date'].apply(lambda x: find_number(x))\n",
        "\n",
        "ndtv_data['Date'] = ndtv_data['Date'].str[-10:]\n",
        "\n",
        "ndtv_data['Date'] = ndtv_data['Date'].str.replace(r'\\D', '')\n",
        "\n",
        "ndtv_data[\"Date\"] = pd.to_datetime(ndtv_data['Date'], format = '%m%d%Y')\n",
        "\n",
        "#st.write(ndtv_data.head())\n",
        "#st.write(ndtv_data.tail())\n",
        "\n",
        "# Yahoo Finance Data\n",
        "\n",
        "import yfinance as yf \n",
        "\n",
        "company_nse = yf.download(f'{company[x][1]}',start=ndtv_data['Date'][ndtv_data.index[-1]] ,end=ndtv_data['Date'][ndtv_data.index[0]])\n",
        "\n",
        "################### Merging data ##############################################\n",
        "## company\n",
        "## Replacing column name with spaces into underscores\n",
        "\n",
        "company_nse.columns = company_nse.columns.str.replace(\" \", \"_\")\n",
        "\n",
        "company_nse_2 =company_nse[[\"Close\"]]\n",
        "\n",
        "#st.write(company_nse_2.head())\n",
        "#st.write(company_nse_2.tail())\n",
        "\n"
      ],
      "execution_count": 9,
      "outputs": [
        {
          "name": "stdout",
          "output_type": "stream",
          "text": [
            "Enter any company code: 1\n"
          ]
        },
        {
          "output_type": "error",
          "ename": "ElementClickInterceptedException",
          "evalue": "ignored",
          "traceback": [
            "\u001b[0;31m---------------------------------------------------------------------------\u001b[0m",
            "\u001b[0;31mElementClickInterceptedException\u001b[0m          Traceback (most recent call last)",
            "\u001b[0;32m<ipython-input-9-ef527d536e50>\u001b[0m in \u001b[0;36m<module>\u001b[0;34m()\u001b[0m\n\u001b[1;32m     42\u001b[0m \u001b[0;34m\u001b[0m\u001b[0m\n\u001b[1;32m     43\u001b[0m \u001b[0;32mfor\u001b[0m \u001b[0mi\u001b[0m \u001b[0;32min\u001b[0m \u001b[0mrange\u001b[0m\u001b[0;34m(\u001b[0m\u001b[0;36m0\u001b[0m\u001b[0;34m,\u001b[0m\u001b[0;36m7\u001b[0m\u001b[0;34m)\u001b[0m\u001b[0;34m:\u001b[0m\u001b[0;34m\u001b[0m\u001b[0;34m\u001b[0m\u001b[0m\n\u001b[0;32m---> 44\u001b[0;31m     \u001b[0mbrowser\u001b[0m\u001b[0;34m.\u001b[0m\u001b[0mfind_element_by_xpath\u001b[0m\u001b[0;34m(\u001b[0m\u001b[0;34m\"//a[@class= 'src_mre-btn']\"\u001b[0m\u001b[0;34m)\u001b[0m\u001b[0;34m.\u001b[0m\u001b[0mclick\u001b[0m\u001b[0;34m(\u001b[0m\u001b[0;34m)\u001b[0m\u001b[0;34m\u001b[0m\u001b[0;34m\u001b[0m\u001b[0m\n\u001b[0m\u001b[1;32m     45\u001b[0m     \u001b[0mtime\u001b[0m\u001b[0;34m.\u001b[0m\u001b[0msleep\u001b[0m\u001b[0;34m(\u001b[0m\u001b[0;36m10\u001b[0m\u001b[0;34m)\u001b[0m\u001b[0;34m\u001b[0m\u001b[0;34m\u001b[0m\u001b[0m\n\u001b[1;32m     46\u001b[0m \u001b[0;34m\u001b[0m\u001b[0m\n",
            "\u001b[0;32m/usr/local/lib/python3.7/dist-packages/selenium/webdriver/remote/webelement.py\u001b[0m in \u001b[0;36mclick\u001b[0;34m(self)\u001b[0m\n\u001b[1;32m     78\u001b[0m     \u001b[0;32mdef\u001b[0m \u001b[0mclick\u001b[0m\u001b[0;34m(\u001b[0m\u001b[0mself\u001b[0m\u001b[0;34m)\u001b[0m\u001b[0;34m:\u001b[0m\u001b[0;34m\u001b[0m\u001b[0;34m\u001b[0m\u001b[0m\n\u001b[1;32m     79\u001b[0m         \u001b[0;34m\"\"\"Clicks the element.\"\"\"\u001b[0m\u001b[0;34m\u001b[0m\u001b[0;34m\u001b[0m\u001b[0m\n\u001b[0;32m---> 80\u001b[0;31m         \u001b[0mself\u001b[0m\u001b[0;34m.\u001b[0m\u001b[0m_execute\u001b[0m\u001b[0;34m(\u001b[0m\u001b[0mCommand\u001b[0m\u001b[0;34m.\u001b[0m\u001b[0mCLICK_ELEMENT\u001b[0m\u001b[0;34m)\u001b[0m\u001b[0;34m\u001b[0m\u001b[0;34m\u001b[0m\u001b[0m\n\u001b[0m\u001b[1;32m     81\u001b[0m \u001b[0;34m\u001b[0m\u001b[0m\n\u001b[1;32m     82\u001b[0m     \u001b[0;32mdef\u001b[0m \u001b[0msubmit\u001b[0m\u001b[0;34m(\u001b[0m\u001b[0mself\u001b[0m\u001b[0;34m)\u001b[0m\u001b[0;34m:\u001b[0m\u001b[0;34m\u001b[0m\u001b[0;34m\u001b[0m\u001b[0m\n",
            "\u001b[0;32m/usr/local/lib/python3.7/dist-packages/selenium/webdriver/remote/webelement.py\u001b[0m in \u001b[0;36m_execute\u001b[0;34m(self, command, params)\u001b[0m\n\u001b[1;32m    631\u001b[0m             \u001b[0mparams\u001b[0m \u001b[0;34m=\u001b[0m \u001b[0;34m{\u001b[0m\u001b[0;34m}\u001b[0m\u001b[0;34m\u001b[0m\u001b[0;34m\u001b[0m\u001b[0m\n\u001b[1;32m    632\u001b[0m         \u001b[0mparams\u001b[0m\u001b[0;34m[\u001b[0m\u001b[0;34m'id'\u001b[0m\u001b[0;34m]\u001b[0m \u001b[0;34m=\u001b[0m \u001b[0mself\u001b[0m\u001b[0;34m.\u001b[0m\u001b[0m_id\u001b[0m\u001b[0;34m\u001b[0m\u001b[0;34m\u001b[0m\u001b[0m\n\u001b[0;32m--> 633\u001b[0;31m         \u001b[0;32mreturn\u001b[0m \u001b[0mself\u001b[0m\u001b[0;34m.\u001b[0m\u001b[0m_parent\u001b[0m\u001b[0;34m.\u001b[0m\u001b[0mexecute\u001b[0m\u001b[0;34m(\u001b[0m\u001b[0mcommand\u001b[0m\u001b[0;34m,\u001b[0m \u001b[0mparams\u001b[0m\u001b[0;34m)\u001b[0m\u001b[0;34m\u001b[0m\u001b[0;34m\u001b[0m\u001b[0m\n\u001b[0m\u001b[1;32m    634\u001b[0m \u001b[0;34m\u001b[0m\u001b[0m\n\u001b[1;32m    635\u001b[0m     \u001b[0;32mdef\u001b[0m \u001b[0mfind_element\u001b[0m\u001b[0;34m(\u001b[0m\u001b[0mself\u001b[0m\u001b[0;34m,\u001b[0m \u001b[0mby\u001b[0m\u001b[0;34m=\u001b[0m\u001b[0mBy\u001b[0m\u001b[0;34m.\u001b[0m\u001b[0mID\u001b[0m\u001b[0;34m,\u001b[0m \u001b[0mvalue\u001b[0m\u001b[0;34m=\u001b[0m\u001b[0;32mNone\u001b[0m\u001b[0;34m)\u001b[0m\u001b[0;34m:\u001b[0m\u001b[0;34m\u001b[0m\u001b[0;34m\u001b[0m\u001b[0m\n",
            "\u001b[0;32m/usr/local/lib/python3.7/dist-packages/selenium/webdriver/remote/webdriver.py\u001b[0m in \u001b[0;36mexecute\u001b[0;34m(self, driver_command, params)\u001b[0m\n\u001b[1;32m    319\u001b[0m         \u001b[0mresponse\u001b[0m \u001b[0;34m=\u001b[0m \u001b[0mself\u001b[0m\u001b[0;34m.\u001b[0m\u001b[0mcommand_executor\u001b[0m\u001b[0;34m.\u001b[0m\u001b[0mexecute\u001b[0m\u001b[0;34m(\u001b[0m\u001b[0mdriver_command\u001b[0m\u001b[0;34m,\u001b[0m \u001b[0mparams\u001b[0m\u001b[0;34m)\u001b[0m\u001b[0;34m\u001b[0m\u001b[0;34m\u001b[0m\u001b[0m\n\u001b[1;32m    320\u001b[0m         \u001b[0;32mif\u001b[0m \u001b[0mresponse\u001b[0m\u001b[0;34m:\u001b[0m\u001b[0;34m\u001b[0m\u001b[0;34m\u001b[0m\u001b[0m\n\u001b[0;32m--> 321\u001b[0;31m             \u001b[0mself\u001b[0m\u001b[0;34m.\u001b[0m\u001b[0merror_handler\u001b[0m\u001b[0;34m.\u001b[0m\u001b[0mcheck_response\u001b[0m\u001b[0;34m(\u001b[0m\u001b[0mresponse\u001b[0m\u001b[0;34m)\u001b[0m\u001b[0;34m\u001b[0m\u001b[0;34m\u001b[0m\u001b[0m\n\u001b[0m\u001b[1;32m    322\u001b[0m             response['value'] = self._unwrap_value(\n\u001b[1;32m    323\u001b[0m                 response.get('value', None))\n",
            "\u001b[0;32m/usr/local/lib/python3.7/dist-packages/selenium/webdriver/remote/errorhandler.py\u001b[0m in \u001b[0;36mcheck_response\u001b[0;34m(self, response)\u001b[0m\n\u001b[1;32m    240\u001b[0m                 \u001b[0malert_text\u001b[0m \u001b[0;34m=\u001b[0m \u001b[0mvalue\u001b[0m\u001b[0;34m[\u001b[0m\u001b[0;34m'alert'\u001b[0m\u001b[0;34m]\u001b[0m\u001b[0;34m.\u001b[0m\u001b[0mget\u001b[0m\u001b[0;34m(\u001b[0m\u001b[0;34m'text'\u001b[0m\u001b[0;34m)\u001b[0m\u001b[0;34m\u001b[0m\u001b[0;34m\u001b[0m\u001b[0m\n\u001b[1;32m    241\u001b[0m             \u001b[0;32mraise\u001b[0m \u001b[0mexception_class\u001b[0m\u001b[0;34m(\u001b[0m\u001b[0mmessage\u001b[0m\u001b[0;34m,\u001b[0m \u001b[0mscreen\u001b[0m\u001b[0;34m,\u001b[0m \u001b[0mstacktrace\u001b[0m\u001b[0;34m,\u001b[0m \u001b[0malert_text\u001b[0m\u001b[0;34m)\u001b[0m\u001b[0;34m\u001b[0m\u001b[0;34m\u001b[0m\u001b[0m\n\u001b[0;32m--> 242\u001b[0;31m         \u001b[0;32mraise\u001b[0m \u001b[0mexception_class\u001b[0m\u001b[0;34m(\u001b[0m\u001b[0mmessage\u001b[0m\u001b[0;34m,\u001b[0m \u001b[0mscreen\u001b[0m\u001b[0;34m,\u001b[0m \u001b[0mstacktrace\u001b[0m\u001b[0;34m)\u001b[0m\u001b[0;34m\u001b[0m\u001b[0;34m\u001b[0m\u001b[0m\n\u001b[0m\u001b[1;32m    243\u001b[0m \u001b[0;34m\u001b[0m\u001b[0m\n\u001b[1;32m    244\u001b[0m     \u001b[0;32mdef\u001b[0m \u001b[0m_value_or_default\u001b[0m\u001b[0;34m(\u001b[0m\u001b[0mself\u001b[0m\u001b[0;34m,\u001b[0m \u001b[0mobj\u001b[0m\u001b[0;34m,\u001b[0m \u001b[0mkey\u001b[0m\u001b[0;34m,\u001b[0m \u001b[0mdefault\u001b[0m\u001b[0;34m)\u001b[0m\u001b[0;34m:\u001b[0m\u001b[0;34m\u001b[0m\u001b[0;34m\u001b[0m\u001b[0m\n",
            "\u001b[0;31mElementClickInterceptedException\u001b[0m: Message: element click intercepted: Element <a class=\"src_mre-btn\" href=\"javascript:void(0);\" onclick=\"allloadNews();\">...</a> is not clickable at point (719, 563). Other element would receive the click: <div class=\"blocker\" id=\"__dragN\"></div>\n  (Session info: headless chrome=92.0.4515.159)\n"
          ]
        }
      ]
    }
  ]
}