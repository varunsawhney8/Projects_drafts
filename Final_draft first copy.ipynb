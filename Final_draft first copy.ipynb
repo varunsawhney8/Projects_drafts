{
  "nbformat": 4,
  "nbformat_minor": 0,
  "metadata": {
    "colab": {
      "name": "Untitled7.ipynb",
      "provenance": [],
      "collapsed_sections": [],
      "authorship_tag": "ABX9TyOS/oiSmDg1lSNpGAWyaZ9g",
      "include_colab_link": true
    },
    "kernelspec": {
      "name": "python3",
      "display_name": "Python 3"
    },
    "language_info": {
      "name": "python"
    }
  },
  "cells": [
    {
      "cell_type": "markdown",
      "metadata": {
        "id": "view-in-github",
        "colab_type": "text"
      },
      "source": [
        "<a href=\"https://colab.research.google.com/github/varunsawhney8/Projects/blob/main/Final_draft%20first%20copy.ipynb\" target=\"_parent\"><img src=\"https://colab.research.google.com/assets/colab-badge.svg\" alt=\"Open In Colab\"/></a>"
      ]
    },
    {
      "cell_type": "code",
      "metadata": {
        "id": "TY87rt14CK4J"
      },
      "source": [
        "import pandas as pd\n",
        "import numpy as np\n",
        "\n",
        "\n",
        "path='/content/Reliance_Final_Ndtv_data4 (1).xlsx'\n",
        "data=pd.read_excel(path)\n",
        "\n",
        "\n",
        "data=data[::-1].reset_index()\n",
        "data.drop(columns=['index'],axis=True,inplace=True)\n",
        "\n",
        "path='/content/Reliance_Nse_data2.csv'\n",
        "data1=pd.read_csv(path)\n",
        "\n",
        "\n",
        "data.drop(columns=['Media','Article','Keywords'],inplace=True,axis=1)"
      ],
      "execution_count": 74,
      "outputs": []
    },
    {
      "cell_type": "code",
      "metadata": {
        "colab": {
          "base_uri": "https://localhost:8080/"
        },
        "id": "yoSfs9LTf89Q",
        "outputId": "3a15e6a3-4dd3-41cb-8faa-1fe0e04837c9"
      },
      "source": [
        "data.columns"
      ],
      "execution_count": 49,
      "outputs": [
        {
          "output_type": "execute_result",
          "data": {
            "text/plain": [
              "Index(['Date', 'Title'], dtype='object')"
            ]
          },
          "metadata": {},
          "execution_count": 49
        }
      ]
    },
    {
      "cell_type": "code",
      "metadata": {
        "colab": {
          "base_uri": "https://localhost:8080/"
        },
        "id": "xRT8wmzMCRZq",
        "outputId": "dc3fd476-31d0-40e0-d41d-79f0d508f5bf"
      },
      "source": [
        "!pip install transformers\n",
        "from transformers import pipeline\n",
        "classifier = pipeline('sentiment-analysis', model=\"ProsusAI/finbert\")\n",
        "list3=[]\n",
        "\n",
        "for i in range(len(data['Title'])):\n",
        "    a=(classifier(data['Title'][i]))\n",
        "    a=a[0]\n",
        "    a=list(a.values())[0]\n",
        "    label_f={'positive':1,'negative':2,'neutral':0}\n",
        "    list3.append(label_f[a])\n",
        "\n",
        "data['1day_sentiment']=list3\n",
        "\n",
        "del list3"
      ],
      "execution_count": 75,
      "outputs": [
        {
          "output_type": "stream",
          "text": [
            "Requirement already satisfied: transformers in /usr/local/lib/python3.7/dist-packages (4.9.2)\n",
            "Requirement already satisfied: regex!=2019.12.17 in /usr/local/lib/python3.7/dist-packages (from transformers) (2019.12.20)\n",
            "Requirement already satisfied: requests in /usr/local/lib/python3.7/dist-packages (from transformers) (2.23.0)\n",
            "Requirement already satisfied: importlib-metadata in /usr/local/lib/python3.7/dist-packages (from transformers) (4.6.4)\n",
            "Requirement already satisfied: filelock in /usr/local/lib/python3.7/dist-packages (from transformers) (3.0.12)\n",
            "Requirement already satisfied: tqdm>=4.27 in /usr/local/lib/python3.7/dist-packages (from transformers) (4.62.0)\n",
            "Requirement already satisfied: sacremoses in /usr/local/lib/python3.7/dist-packages (from transformers) (0.0.45)\n",
            "Requirement already satisfied: huggingface-hub==0.0.12 in /usr/local/lib/python3.7/dist-packages (from transformers) (0.0.12)\n",
            "Requirement already satisfied: numpy>=1.17 in /usr/local/lib/python3.7/dist-packages (from transformers) (1.19.5)\n",
            "Requirement already satisfied: pyyaml>=5.1 in /usr/local/lib/python3.7/dist-packages (from transformers) (5.4.1)\n",
            "Requirement already satisfied: packaging in /usr/local/lib/python3.7/dist-packages (from transformers) (21.0)\n",
            "Requirement already satisfied: tokenizers<0.11,>=0.10.1 in /usr/local/lib/python3.7/dist-packages (from transformers) (0.10.3)\n",
            "Requirement already satisfied: typing-extensions in /usr/local/lib/python3.7/dist-packages (from huggingface-hub==0.0.12->transformers) (3.7.4.3)\n",
            "Requirement already satisfied: pyparsing>=2.0.2 in /usr/local/lib/python3.7/dist-packages (from packaging->transformers) (2.4.7)\n",
            "Requirement already satisfied: zipp>=0.5 in /usr/local/lib/python3.7/dist-packages (from importlib-metadata->transformers) (3.5.0)\n",
            "Requirement already satisfied: certifi>=2017.4.17 in /usr/local/lib/python3.7/dist-packages (from requests->transformers) (2021.5.30)\n",
            "Requirement already satisfied: chardet<4,>=3.0.2 in /usr/local/lib/python3.7/dist-packages (from requests->transformers) (3.0.4)\n",
            "Requirement already satisfied: idna<3,>=2.5 in /usr/local/lib/python3.7/dist-packages (from requests->transformers) (2.10)\n",
            "Requirement already satisfied: urllib3!=1.25.0,!=1.25.1,<1.26,>=1.21.1 in /usr/local/lib/python3.7/dist-packages (from requests->transformers) (1.24.3)\n",
            "Requirement already satisfied: click in /usr/local/lib/python3.7/dist-packages (from sacremoses->transformers) (7.1.2)\n",
            "Requirement already satisfied: joblib in /usr/local/lib/python3.7/dist-packages (from sacremoses->transformers) (1.0.1)\n",
            "Requirement already satisfied: six in /usr/local/lib/python3.7/dist-packages (from sacremoses->transformers) (1.15.0)\n"
          ],
          "name": "stdout"
        }
      ]
    },
    {
      "cell_type": "code",
      "metadata": {
        "id": "AWBZdJ_uFvGD"
      },
      "source": [
        "aggregation_functions = {'Title': 'first', '1day_sentiment': 'max'}\n",
        "data = data.groupby(data['Date']).aggregate(aggregation_functions)\n",
        "data.reset_index( inplace=True)\n",
        "data['Date']=pd.to_datetime(data['Date']).dt.date\n",
        "data['1day_sentiment']=data['1day_sentiment'].astype('float')"
      ],
      "execution_count": 76,
      "outputs": []
    },
    {
      "cell_type": "code",
      "metadata": {
        "id": "NiyKcxjzDTh9",
        "outputId": "41d9121f-59cd-49ff-96b3-21338aa8788d",
        "colab": {
          "base_uri": "https://localhost:8080/",
          "height": 204
        }
      },
      "source": [
        "data['3day_sentiment'] = round(data['1day_sentiment'].ewm(span=3).mean())\n",
        "data['7day_sentiment'] = round(data['1day_sentiment'].ewm(span=7).mean())\n",
        "data['15day_sentiment'] = round(data['1day_sentiment'].ewm(span=15).mean())\n",
        "data.head()"
      ],
      "execution_count": 77,
      "outputs": [
        {
          "output_type": "execute_result",
          "data": {
            "text/html": [
              "<div>\n",
              "<style scoped>\n",
              "    .dataframe tbody tr th:only-of-type {\n",
              "        vertical-align: middle;\n",
              "    }\n",
              "\n",
              "    .dataframe tbody tr th {\n",
              "        vertical-align: top;\n",
              "    }\n",
              "\n",
              "    .dataframe thead th {\n",
              "        text-align: right;\n",
              "    }\n",
              "</style>\n",
              "<table border=\"1\" class=\"dataframe\">\n",
              "  <thead>\n",
              "    <tr style=\"text-align: right;\">\n",
              "      <th></th>\n",
              "      <th>Date</th>\n",
              "      <th>Title</th>\n",
              "      <th>1day_sentiment</th>\n",
              "      <th>3day_sentiment</th>\n",
              "      <th>7day_sentiment</th>\n",
              "      <th>15day_sentiment</th>\n",
              "    </tr>\n",
              "  </thead>\n",
              "  <tbody>\n",
              "    <tr>\n",
              "      <th>0</th>\n",
              "      <td>2020-07-16</td>\n",
              "      <td>Reliance's Stake Sale Talks With Saudi Aramco ...</td>\n",
              "      <td>2.0</td>\n",
              "      <td>2.0</td>\n",
              "      <td>2.0</td>\n",
              "      <td>2.0</td>\n",
              "    </tr>\n",
              "    <tr>\n",
              "      <th>1</th>\n",
              "      <td>2020-07-17</td>\n",
              "      <td>Reliance To Shut Crude Refining Unit For Maint...</td>\n",
              "      <td>2.0</td>\n",
              "      <td>2.0</td>\n",
              "      <td>2.0</td>\n",
              "      <td>2.0</td>\n",
              "    </tr>\n",
              "    <tr>\n",
              "      <th>2</th>\n",
              "      <td>2020-07-20</td>\n",
              "      <td>Reliance-Google Smartphone Deal in India Threa...</td>\n",
              "      <td>2.0</td>\n",
              "      <td>2.0</td>\n",
              "      <td>2.0</td>\n",
              "      <td>2.0</td>\n",
              "    </tr>\n",
              "    <tr>\n",
              "      <th>3</th>\n",
              "      <td>2020-07-21</td>\n",
              "      <td>Netflix, Amazon, Facebook Stocks Draw In Amate...</td>\n",
              "      <td>1.0</td>\n",
              "      <td>1.0</td>\n",
              "      <td>2.0</td>\n",
              "      <td>2.0</td>\n",
              "    </tr>\n",
              "    <tr>\n",
              "      <th>4</th>\n",
              "      <td>2020-07-22</td>\n",
              "      <td>Reliance Industries Postpones June Quarter Res...</td>\n",
              "      <td>2.0</td>\n",
              "      <td>2.0</td>\n",
              "      <td>2.0</td>\n",
              "      <td>2.0</td>\n",
              "    </tr>\n",
              "  </tbody>\n",
              "</table>\n",
              "</div>"
            ],
            "text/plain": [
              "         Date  ... 15day_sentiment\n",
              "0  2020-07-16  ...             2.0\n",
              "1  2020-07-17  ...             2.0\n",
              "2  2020-07-20  ...             2.0\n",
              "3  2020-07-21  ...             2.0\n",
              "4  2020-07-22  ...             2.0\n",
              "\n",
              "[5 rows x 6 columns]"
            ]
          },
          "metadata": {},
          "execution_count": 77
        }
      ]
    },
    {
      "cell_type": "code",
      "metadata": {
        "id": "ML-2YnVk08Fy",
        "outputId": "cdc3652c-0c01-4262-c05a-bdfe44f35dcd",
        "colab": {
          "base_uri": "https://localhost:8080/"
        }
      },
      "source": [
        "data.columns"
      ],
      "execution_count": 46,
      "outputs": [
        {
          "output_type": "execute_result",
          "data": {
            "text/plain": [
              "Index(['Date', 'Title', 'finbert', '3day_sentiment', '7day_sentiment',\n",
              "       '15day_sentiment'],\n",
              "      dtype='object')"
            ]
          },
          "metadata": {},
          "execution_count": 46
        }
      ]
    },
    {
      "cell_type": "code",
      "metadata": {
        "colab": {
          "base_uri": "https://localhost:8080/",
          "height": 204
        },
        "id": "cFF7ALu7V7fI",
        "outputId": "1a16892b-7a04-48fd-82a7-4a0800426e2c"
      },
      "source": [
        "data1['Date']=pd.to_datetime(data1['Date']).dt.date\n",
        "data1['perc_change1'] =data1['Close'].pct_change(periods=1)*100\n",
        "#data1['perc_change3'] =data1['Close'].pct_change(periods=2)*100\n",
        "#data1['perc_change7'] =data1['Close'].pct_change(periods=6)*100\n",
        "data1.head()"
      ],
      "execution_count": 78,
      "outputs": [
        {
          "output_type": "execute_result",
          "data": {
            "text/html": [
              "<div>\n",
              "<style scoped>\n",
              "    .dataframe tbody tr th:only-of-type {\n",
              "        vertical-align: middle;\n",
              "    }\n",
              "\n",
              "    .dataframe tbody tr th {\n",
              "        vertical-align: top;\n",
              "    }\n",
              "\n",
              "    .dataframe thead th {\n",
              "        text-align: right;\n",
              "    }\n",
              "</style>\n",
              "<table border=\"1\" class=\"dataframe\">\n",
              "  <thead>\n",
              "    <tr style=\"text-align: right;\">\n",
              "      <th></th>\n",
              "      <th>Date</th>\n",
              "      <th>Close</th>\n",
              "      <th>perc_change1</th>\n",
              "    </tr>\n",
              "  </thead>\n",
              "  <tbody>\n",
              "    <tr>\n",
              "      <th>0</th>\n",
              "      <td>2020-07-16</td>\n",
              "      <td>1843.400024</td>\n",
              "      <td>NaN</td>\n",
              "    </tr>\n",
              "    <tr>\n",
              "      <th>1</th>\n",
              "      <td>2020-07-17</td>\n",
              "      <td>1911.699951</td>\n",
              "      <td>3.705106</td>\n",
              "    </tr>\n",
              "    <tr>\n",
              "      <th>2</th>\n",
              "      <td>2020-07-20</td>\n",
              "      <td>1919.900024</td>\n",
              "      <td>0.428941</td>\n",
              "    </tr>\n",
              "    <tr>\n",
              "      <th>3</th>\n",
              "      <td>2020-07-21</td>\n",
              "      <td>1971.550049</td>\n",
              "      <td>2.690246</td>\n",
              "    </tr>\n",
              "    <tr>\n",
              "      <th>4</th>\n",
              "      <td>2020-07-22</td>\n",
              "      <td>2004.000000</td>\n",
              "      <td>1.645911</td>\n",
              "    </tr>\n",
              "  </tbody>\n",
              "</table>\n",
              "</div>"
            ],
            "text/plain": [
              "         Date        Close  perc_change1\n",
              "0  2020-07-16  1843.400024           NaN\n",
              "1  2020-07-17  1911.699951      3.705106\n",
              "2  2020-07-20  1919.900024      0.428941\n",
              "3  2020-07-21  1971.550049      2.690246\n",
              "4  2020-07-22  2004.000000      1.645911"
            ]
          },
          "metadata": {},
          "execution_count": 78
        }
      ]
    },
    {
      "cell_type": "code",
      "metadata": {
        "id": "MuOks5ff59vE",
        "outputId": "a002b88b-6de3-4012-9640-5786a18c8ec7",
        "colab": {
          "base_uri": "https://localhost:8080/"
        }
      },
      "source": [
        "data2.columns"
      ],
      "execution_count": 84,
      "outputs": [
        {
          "output_type": "execute_result",
          "data": {
            "text/plain": [
              "Index(['Date', '1day_sentiment', '3day_sentiment', '7day_sentiment',\n",
              "       '15day_sentiment', 'perc_change1'],\n",
              "      dtype='object')"
            ]
          },
          "metadata": {},
          "execution_count": 84
        }
      ]
    },
    {
      "cell_type": "code",
      "metadata": {
        "id": "3Mu3oUYU41_f"
      },
      "source": [
        "data2=data.drop(columns=['Title'],axis=1)\n",
        "data2[\"perc_change1\"]=[np.nan for i in range(len(data))]\n",
        "label={0: 'Neutral',1:'Positive',2:'Negative'}\n",
        "data2['1day_sentiment']=[label[data2['1day_sentiment'][i]]for i in range(len(data2))]\n",
        "data2['3day_sentiment']=[label[data2['3day_sentiment'][i]]for i in range(len(data2))]\n",
        "data2['7day_sentiment']=[label[data2['7day_sentiment'][i]]for i in range(len(data2))]\n",
        "data2['15day_sentiment']=[label[data2['15day_sentiment'][i]]for i in range(len(data2))]"
      ],
      "execution_count": 85,
      "outputs": []
    },
    {
      "cell_type": "code",
      "metadata": {
        "colab": {
          "base_uri": "https://localhost:8080/"
        },
        "id": "EZ4CqN3OCqly",
        "outputId": "8609b0c4-692b-424e-998f-abeee4873bb8"
      },
      "source": [
        "for i in range(len(data2)):\n",
        "  for j in range(len(data1)):\n",
        "    if data['Date'][i]==data1['Date'][j]:\n",
        "      data2['perc_change1'][i]=data1['perc_change1'][j+1]\n",
        "  count=0\n",
        "  if type(data2['perc_change1'][i]) and pd.isna(data2['perc_change1'][i]):\n",
        "    for j in range(len(data1)):\n",
        "      if data2['Date'][i]>data1['Date'][j]:\n",
        "        count+=1\n",
        "    data2['perc_change1'][i]=data1['perc_change1'][count]\n",
        "\n",
        "data2['perc_change1'][0]=np.nan"
      ],
      "execution_count": 86,
      "outputs": [
        {
          "output_type": "stream",
          "text": [
            "/usr/local/lib/python3.7/dist-packages/ipykernel_launcher.py:4: SettingWithCopyWarning: \n",
            "A value is trying to be set on a copy of a slice from a DataFrame\n",
            "\n",
            "See the caveats in the documentation: https://pandas.pydata.org/pandas-docs/stable/user_guide/indexing.html#returning-a-view-versus-a-copy\n",
            "  after removing the cwd from sys.path.\n",
            "/usr/local/lib/python3.7/dist-packages/ipykernel_launcher.py:10: SettingWithCopyWarning: \n",
            "A value is trying to be set on a copy of a slice from a DataFrame\n",
            "\n",
            "See the caveats in the documentation: https://pandas.pydata.org/pandas-docs/stable/user_guide/indexing.html#returning-a-view-versus-a-copy\n",
            "  # Remove the CWD from sys.path while we load stuff.\n",
            "/usr/local/lib/python3.7/dist-packages/ipykernel_launcher.py:12: SettingWithCopyWarning: \n",
            "A value is trying to be set on a copy of a slice from a DataFrame\n",
            "\n",
            "See the caveats in the documentation: https://pandas.pydata.org/pandas-docs/stable/user_guide/indexing.html#returning-a-view-versus-a-copy\n",
            "  if sys.path[0] == '':\n"
          ],
          "name": "stderr"
        }
      ]
    },
    {
      "cell_type": "code",
      "metadata": {
        "id": "K9P8U9no-BTc"
      },
      "source": [
        "data2['Close']=[np.nan for i in range(len(data))]"
      ],
      "execution_count": 97,
      "outputs": []
    },
    {
      "cell_type": "code",
      "metadata": {
        "colab": {
          "base_uri": "https://localhost:8080/"
        },
        "id": "AW_xcnoThzxf",
        "outputId": "a322473d-f72f-4147-fcde-1a5825c048da"
      },
      "source": [
        "for i in range(len(data2)):\n",
        "  for j in range(len(data1)):\n",
        "    if data['Date'][i]==data1['Date'][j]:\n",
        "      data2['Close'][i]=data1['Close'][j+1]\n",
        "  count=0\n",
        "  if type(data2['Close'][i]) and pd.isna(data2['Close'][i]):\n",
        "    for j in range(len(data1)):\n",
        "      if data2['Date'][i]>data1['Date'][j]:\n",
        "        count+=1\n",
        "    data2['Close'][i]=data1['Close'][count]\n",
        "\n"
      ],
      "execution_count": 98,
      "outputs": [
        {
          "output_type": "stream",
          "text": [
            "/usr/local/lib/python3.7/dist-packages/ipykernel_launcher.py:4: SettingWithCopyWarning: \n",
            "A value is trying to be set on a copy of a slice from a DataFrame\n",
            "\n",
            "See the caveats in the documentation: https://pandas.pydata.org/pandas-docs/stable/user_guide/indexing.html#returning-a-view-versus-a-copy\n",
            "  after removing the cwd from sys.path.\n",
            "/usr/local/lib/python3.7/dist-packages/ipykernel_launcher.py:10: SettingWithCopyWarning: \n",
            "A value is trying to be set on a copy of a slice from a DataFrame\n",
            "\n",
            "See the caveats in the documentation: https://pandas.pydata.org/pandas-docs/stable/user_guide/indexing.html#returning-a-view-versus-a-copy\n",
            "  # Remove the CWD from sys.path while we load stuff.\n"
          ],
          "name": "stderr"
        }
      ]
    },
    {
      "cell_type": "code",
      "metadata": {
        "id": "ON2dgiO1-XI0",
        "outputId": "c2807187-3d43-420f-c99d-abe8e7ba7972",
        "colab": {
          "base_uri": "https://localhost:8080/",
          "height": 204
        }
      },
      "source": [
        "data2.head()"
      ],
      "execution_count": 99,
      "outputs": [
        {
          "output_type": "execute_result",
          "data": {
            "text/html": [
              "<div>\n",
              "<style scoped>\n",
              "    .dataframe tbody tr th:only-of-type {\n",
              "        vertical-align: middle;\n",
              "    }\n",
              "\n",
              "    .dataframe tbody tr th {\n",
              "        vertical-align: top;\n",
              "    }\n",
              "\n",
              "    .dataframe thead th {\n",
              "        text-align: right;\n",
              "    }\n",
              "</style>\n",
              "<table border=\"1\" class=\"dataframe\">\n",
              "  <thead>\n",
              "    <tr style=\"text-align: right;\">\n",
              "      <th></th>\n",
              "      <th>Date</th>\n",
              "      <th>1day_sentiment</th>\n",
              "      <th>3day_sentiment</th>\n",
              "      <th>7day_sentiment</th>\n",
              "      <th>15day_sentiment</th>\n",
              "      <th>perc_change1</th>\n",
              "      <th>Close</th>\n",
              "    </tr>\n",
              "  </thead>\n",
              "  <tbody>\n",
              "    <tr>\n",
              "      <th>0</th>\n",
              "      <td>2020-07-16</td>\n",
              "      <td>Negative</td>\n",
              "      <td>Negative</td>\n",
              "      <td>Negative</td>\n",
              "      <td>Negative</td>\n",
              "      <td>NaN</td>\n",
              "      <td>1911.699951</td>\n",
              "    </tr>\n",
              "    <tr>\n",
              "      <th>1</th>\n",
              "      <td>2020-07-17</td>\n",
              "      <td>Negative</td>\n",
              "      <td>Negative</td>\n",
              "      <td>Negative</td>\n",
              "      <td>Negative</td>\n",
              "      <td>0.428941</td>\n",
              "      <td>1919.900024</td>\n",
              "    </tr>\n",
              "    <tr>\n",
              "      <th>2</th>\n",
              "      <td>2020-07-20</td>\n",
              "      <td>Negative</td>\n",
              "      <td>Negative</td>\n",
              "      <td>Negative</td>\n",
              "      <td>Negative</td>\n",
              "      <td>2.690246</td>\n",
              "      <td>1971.550049</td>\n",
              "    </tr>\n",
              "    <tr>\n",
              "      <th>3</th>\n",
              "      <td>2020-07-21</td>\n",
              "      <td>Positive</td>\n",
              "      <td>Positive</td>\n",
              "      <td>Negative</td>\n",
              "      <td>Negative</td>\n",
              "      <td>1.645911</td>\n",
              "      <td>2004.000000</td>\n",
              "    </tr>\n",
              "    <tr>\n",
              "      <th>4</th>\n",
              "      <td>2020-07-22</td>\n",
              "      <td>Negative</td>\n",
              "      <td>Negative</td>\n",
              "      <td>Negative</td>\n",
              "      <td>Negative</td>\n",
              "      <td>2.684633</td>\n",
              "      <td>2057.800049</td>\n",
              "    </tr>\n",
              "  </tbody>\n",
              "</table>\n",
              "</div>"
            ],
            "text/plain": [
              "         Date 1day_sentiment  ... perc_change1        Close\n",
              "0  2020-07-16       Negative  ...          NaN  1911.699951\n",
              "1  2020-07-17       Negative  ...     0.428941  1919.900024\n",
              "2  2020-07-20       Negative  ...     2.690246  1971.550049\n",
              "3  2020-07-21       Positive  ...     1.645911  2004.000000\n",
              "4  2020-07-22       Negative  ...     2.684633  2057.800049\n",
              "\n",
              "[5 rows x 7 columns]"
            ]
          },
          "metadata": {},
          "execution_count": 99
        }
      ]
    },
    {
      "cell_type": "code",
      "metadata": {
        "id": "Z-jbAaa3IlS9"
      },
      "source": [
        ""
      ],
      "execution_count": 90,
      "outputs": []
    },
    {
      "cell_type": "code",
      "metadata": {
        "id": "st6vGwa-60L7",
        "outputId": "5db182ac-14d3-4a38-856b-a11e65b2ced0",
        "colab": {
          "base_uri": "https://localhost:8080/"
        }
      },
      "source": [
        "data2.columns"
      ],
      "execution_count": 89,
      "outputs": [
        {
          "output_type": "execute_result",
          "data": {
            "text/plain": [
              "Index(['Date', '1day_sentiment', '3day_sentiment', '7day_sentiment',\n",
              "       '15day_sentiment', 'perc_change1'],\n",
              "      dtype='object')"
            ]
          },
          "metadata": {},
          "execution_count": 89
        }
      ]
    },
    {
      "cell_type": "code",
      "metadata": {
        "colab": {
          "base_uri": "https://localhost:8080/",
          "height": 207
        },
        "id": "-oeZkAkNUdMR",
        "outputId": "890e5f01-8502-40a7-f125-f75118ceec78"
      },
      "source": [
        "data4=pd.DataFrame(columns=[\"Description\",\"Total Opportunities\",\"Profit(%)\",\"Loss(%)\",\"No Profit No Loss(%)\"])\n",
        "desc=[]\n",
        "total1=[]\n",
        "profit1=[]\n",
        "loss1=[]\n",
        "npnl1=[]\n",
        "col=['1day_sentiment', '3day_sentiment', '7day_sentiment','15day_sentiment']\n",
        "for j in col:\n",
        "  profit=0\n",
        "  loss=0\n",
        "  npnl=0\n",
        "  for i in range(len(data2)):\n",
        "      if data2[j][i]=='Negative' and  data2['perc_change1'][i]<0:\n",
        "        profit+=1\n",
        "      elif data2[j][i]=='Negative' and  data2['perc_change1'][i]>0:\n",
        "        loss+=1\n",
        "        \n",
        "      if data2[j][i]=='Positive' and  data2['perc_change1'][i]>0:\n",
        "        profit+=1\n",
        "      elif data2[j][i]=='Positive' and  data2['perc_change1'][i]<0:\n",
        "        loss+=1\n",
        "      if data2[j][i]=='Neutral':\n",
        "        npnl+=1\n",
        "  total= profit + loss +npnl\n",
        "  desc.append(j)\n",
        "  total1.append(total)\n",
        "  profit1.append(profit/total*100)\n",
        "  loss1.append(loss/total*100)\n",
        "  npnl1.append(npnl/total*100)\n",
        "\n",
        "data4[\"Description\"]=[\"Rolling 1 day-News Day Event\",\"Rolling 3 day-News Day Event\",\"Rolling 7 day-News Day Event \",\"Rolling 15 day-News Day Event\"]\n",
        "data4[\"Total Opportunities\"]=total\n",
        "data4['Profit(%)']=profit1\n",
        "data4['Loss(%)']=loss1\n",
        "data4['No Profit No Loss(%)']=npnl1\n",
        "print(\"Back Testing News Based Investment Oppurtunities\")\n",
        "print(\"Square off trade within  next trading day \")\n",
        "display(data4)"
      ],
      "execution_count": 105,
      "outputs": [
        {
          "output_type": "stream",
          "text": [
            "Back Testing News Based Investment Oppurtunities\n",
            "Square off trade within  next trading day \n"
          ],
          "name": "stdout"
        },
        {
          "output_type": "display_data",
          "data": {
            "text/html": [
              "<div>\n",
              "<style scoped>\n",
              "    .dataframe tbody tr th:only-of-type {\n",
              "        vertical-align: middle;\n",
              "    }\n",
              "\n",
              "    .dataframe tbody tr th {\n",
              "        vertical-align: top;\n",
              "    }\n",
              "\n",
              "    .dataframe thead th {\n",
              "        text-align: right;\n",
              "    }\n",
              "</style>\n",
              "<table border=\"1\" class=\"dataframe\">\n",
              "  <thead>\n",
              "    <tr style=\"text-align: right;\">\n",
              "      <th></th>\n",
              "      <th>Description</th>\n",
              "      <th>Total Opportunities</th>\n",
              "      <th>Profit(%)</th>\n",
              "      <th>Loss(%)</th>\n",
              "      <th>No Profit No Loss(%)</th>\n",
              "    </tr>\n",
              "  </thead>\n",
              "  <tbody>\n",
              "    <tr>\n",
              "      <th>0</th>\n",
              "      <td>Rolling 1 day-News Day Event</td>\n",
              "      <td>174</td>\n",
              "      <td>44.252874</td>\n",
              "      <td>35.057471</td>\n",
              "      <td>20.689655</td>\n",
              "    </tr>\n",
              "    <tr>\n",
              "      <th>1</th>\n",
              "      <td>Rolling 3 day-News Day Event</td>\n",
              "      <td>174</td>\n",
              "      <td>47.126437</td>\n",
              "      <td>43.678161</td>\n",
              "      <td>9.195402</td>\n",
              "    </tr>\n",
              "    <tr>\n",
              "      <th>2</th>\n",
              "      <td>Rolling 7 day-News Day Event</td>\n",
              "      <td>174</td>\n",
              "      <td>45.402299</td>\n",
              "      <td>53.448276</td>\n",
              "      <td>1.149425</td>\n",
              "    </tr>\n",
              "    <tr>\n",
              "      <th>3</th>\n",
              "      <td>Rolling 15 day-News Day Event</td>\n",
              "      <td>174</td>\n",
              "      <td>44.827586</td>\n",
              "      <td>55.172414</td>\n",
              "      <td>0.000000</td>\n",
              "    </tr>\n",
              "  </tbody>\n",
              "</table>\n",
              "</div>"
            ],
            "text/plain": [
              "                     Description  ...  No Profit No Loss(%)\n",
              "0   Rolling 1 day-News Day Event  ...             20.689655\n",
              "1   Rolling 3 day-News Day Event  ...              9.195402\n",
              "2  Rolling 7 day-News Day Event   ...              1.149425\n",
              "3  Rolling 15 day-News Day Event  ...              0.000000\n",
              "\n",
              "[4 rows x 5 columns]"
            ]
          },
          "metadata": {}
        }
      ]
    },
    {
      "cell_type": "code",
      "metadata": {
        "id": "L9KEwylPoXOG",
        "outputId": "5598d44f-c67c-48a5-bb1f-81d62d21786e",
        "colab": {
          "base_uri": "https://localhost:8080/",
          "height": 207
        }
      },
      "source": [
        "data_1=data.drop(columns=[\"Title\"],axis=1)\n",
        "data_f1=data_1.iloc[len(data_1)-1,]\n",
        "label={0.0: 'Neutral',1.0:'Positive',2.0:'Negative'}\n",
        "f_data=pd.DataFrame(columns=[\"Description\", \"Sentiment\"])\n",
        "f_data[\"Description\"]=[\"Rolling 1 day-News Day Event\",\"Rolling 3 day-News Day Event\",\"Rolling 7 day-News Day Event \",\"Rolling 15 day-News Day Event\"]\n",
        "f_data[\"Sentiment\"]=[label[data_f1[i]] for i in range(1,len(data_f1),1)]\n",
        "\n",
        "print(\"Current News Based Sentiment Report\")\n",
        "print(\"Last News Day Recoded : \",data_f1[0])\n",
        "del data_1,data_f1\n",
        "from IPython.display import display\n",
        "display(f_data)\n"
      ],
      "execution_count": 45,
      "outputs": [
        {
          "output_type": "stream",
          "text": [
            "Current News Based Sentiment Report\n",
            "Last News Day Recoded :  2021-08-16\n"
          ],
          "name": "stdout"
        },
        {
          "output_type": "display_data",
          "data": {
            "text/html": [
              "<div>\n",
              "<style scoped>\n",
              "    .dataframe tbody tr th:only-of-type {\n",
              "        vertical-align: middle;\n",
              "    }\n",
              "\n",
              "    .dataframe tbody tr th {\n",
              "        vertical-align: top;\n",
              "    }\n",
              "\n",
              "    .dataframe thead th {\n",
              "        text-align: right;\n",
              "    }\n",
              "</style>\n",
              "<table border=\"1\" class=\"dataframe\">\n",
              "  <thead>\n",
              "    <tr style=\"text-align: right;\">\n",
              "      <th></th>\n",
              "      <th>Description</th>\n",
              "      <th>Sentiment</th>\n",
              "    </tr>\n",
              "  </thead>\n",
              "  <tbody>\n",
              "    <tr>\n",
              "      <th>0</th>\n",
              "      <td>Rolling 1 day-News Day Event</td>\n",
              "      <td>Positive</td>\n",
              "    </tr>\n",
              "    <tr>\n",
              "      <th>1</th>\n",
              "      <td>Rolling 3 day-News Day Event</td>\n",
              "      <td>Positive</td>\n",
              "    </tr>\n",
              "    <tr>\n",
              "      <th>2</th>\n",
              "      <td>Rolling 7 day-News Day Event</td>\n",
              "      <td>Positive</td>\n",
              "    </tr>\n",
              "    <tr>\n",
              "      <th>3</th>\n",
              "      <td>Rolling 15 day-News Day Event</td>\n",
              "      <td>Positive</td>\n",
              "    </tr>\n",
              "  </tbody>\n",
              "</table>\n",
              "</div>"
            ],
            "text/plain": [
              "                     Description Sentiment\n",
              "0   Rolling 1 day-News Day Event  Positive\n",
              "1   Rolling 3 day-News Day Event  Positive\n",
              "2  Rolling 7 day-News Day Event   Positive\n",
              "3  Rolling 15 day-News Day Event  Positive"
            ]
          },
          "metadata": {}
        }
      ]
    }
  ]
}