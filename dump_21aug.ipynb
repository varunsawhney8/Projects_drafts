{
  "nbformat": 4,
  "nbformat_minor": 0,
  "metadata": {
    "colab": {
      "name": "Untitled8.ipynb",
      "provenance": [],
      "authorship_tag": "ABX9TyOge48Rfrzj4digaG5jkLWp",
      "include_colab_link": true
    },
    "kernelspec": {
      "name": "python3",
      "display_name": "Python 3"
    },
    "language_info": {
      "name": "python"
    }
  },
  "cells": [
    {
      "cell_type": "markdown",
      "metadata": {
        "id": "view-in-github",
        "colab_type": "text"
      },
      "source": [
        "<a href=\"https://colab.research.google.com/github/varunsawhney8/Projects/blob/main/dump_21aug.ipynb\" target=\"_parent\"><img src=\"https://colab.research.google.com/assets/colab-badge.svg\" alt=\"Open In Colab\"/></a>"
      ]
    },
    {
      "cell_type": "code",
      "metadata": {
        "id": "jUoijKqg3L-S"
      },
      "source": [
        "import pandas as pd\n",
        "sentiment=pd.DataFrame(columns=[\"Description\",\"Sentiment\"])\n",
        "sentiment['Description']=['1 day-News Day Event ','3 day-News Day Event ','7 day-News Day Event ','15 day-News Day Event ']\n",
        "label={0: 'Neutral',1:'Positive',2:'Negative'}\n",
        "sentiment['Sentiment']=[label[data['1d_S'][-1:]],label[data['3d_S'][-1:]],label[data['7d_S'][-1:]],label[data['15d_S'][-1:]]]"
      ],
      "execution_count": 15,
      "outputs": []
    },
    {
      "cell_type": "code",
      "metadata": {
        "id": "Dafkrtpe30ui"
      },
      "source": [
        "def backtesting(n):\n",
        "  backtesting=pd.DataFrame(columns=[\"Description\",\"Total No of Oppurtunities\",\"Profitable\",\"Loss\",\"No Profit No Loss\"])\n",
        "  backtesting['Description']=['Rolling 1 day-News Day Event ','Rolling 3 day-News Day Event ','Rolling 7 day-News Day Event ','Rolling 15 day-News Day Event '\n",
        "  \n",
        "  return backtesting"
      ],
      "execution_count": 12,
      "outputs": []
    },
    {
      "cell_type": "code",
      "metadata": {
        "id": "eu1RuxKE4aQh"
      },
      "source": [
        "back1=backtesting(1)"
      ],
      "execution_count": 13,
      "outputs": []
    },
    {
      "cell_type": "code",
      "metadata": {
        "colab": {
          "base_uri": "https://localhost:8080/",
          "height": 173
        },
        "id": "-FnmIIMT4f2f",
        "outputId": "620c9ad2-a4e2-49fb-bb58-bc7985a8cf2c"
      },
      "source": [
        "back1.head()"
      ],
      "execution_count": 14,
      "outputs": [
        {
          "output_type": "execute_result",
          "data": {
            "text/html": [
              "<div>\n",
              "<style scoped>\n",
              "    .dataframe tbody tr th:only-of-type {\n",
              "        vertical-align: middle;\n",
              "    }\n",
              "\n",
              "    .dataframe tbody tr th {\n",
              "        vertical-align: top;\n",
              "    }\n",
              "\n",
              "    .dataframe thead th {\n",
              "        text-align: right;\n",
              "    }\n",
              "</style>\n",
              "<table border=\"1\" class=\"dataframe\">\n",
              "  <thead>\n",
              "    <tr style=\"text-align: right;\">\n",
              "      <th></th>\n",
              "      <th>Description</th>\n",
              "      <th>Total No of Oppurtunities</th>\n",
              "      <th>Profitable</th>\n",
              "      <th>Loss</th>\n",
              "      <th>No Profit No Loss</th>\n",
              "    </tr>\n",
              "  </thead>\n",
              "  <tbody>\n",
              "    <tr>\n",
              "      <th>0</th>\n",
              "      <td>Rolling 1 day-News Day Event</td>\n",
              "      <td>NaN</td>\n",
              "      <td>NaN</td>\n",
              "      <td>NaN</td>\n",
              "      <td>NaN</td>\n",
              "    </tr>\n",
              "    <tr>\n",
              "      <th>1</th>\n",
              "      <td>Rolling 3 day-News Day Event</td>\n",
              "      <td>NaN</td>\n",
              "      <td>NaN</td>\n",
              "      <td>NaN</td>\n",
              "      <td>NaN</td>\n",
              "    </tr>\n",
              "    <tr>\n",
              "      <th>2</th>\n",
              "      <td>Rolling 7 day-News Day Event</td>\n",
              "      <td>NaN</td>\n",
              "      <td>NaN</td>\n",
              "      <td>NaN</td>\n",
              "      <td>NaN</td>\n",
              "    </tr>\n",
              "    <tr>\n",
              "      <th>3</th>\n",
              "      <td>Rolling 15 day-News Day Event</td>\n",
              "      <td>NaN</td>\n",
              "      <td>NaN</td>\n",
              "      <td>NaN</td>\n",
              "      <td>NaN</td>\n",
              "    </tr>\n",
              "  </tbody>\n",
              "</table>\n",
              "</div>"
            ],
            "text/plain": [
              "                      Description  ... No Profit No Loss\n",
              "0   Rolling 1 day-News Day Event   ...               NaN\n",
              "1   Rolling 3 day-News Day Event   ...               NaN\n",
              "2   Rolling 7 day-News Day Event   ...               NaN\n",
              "3  Rolling 15 day-News Day Event   ...               NaN\n",
              "\n",
              "[4 rows x 5 columns]"
            ]
          },
          "metadata": {},
          "execution_count": 14
        }
      ]
    },
    {
      "cell_type": "code",
      "metadata": {
        "id": "gUkhwvv27F24"
      },
      "source": [
        "label="
      ],
      "execution_count": 10,
      "outputs": []
    },
    {
      "cell_type": "code",
      "metadata": {
        "colab": {
          "base_uri": "https://localhost:8080/",
          "height": 35
        },
        "id": "TjqEysmP7Nzv",
        "outputId": "59ca6d37-b826-4d56-a652-2e84436f93d4"
      },
      "source": [
        "label[0]"
      ],
      "execution_count": 11,
      "outputs": [
        {
          "output_type": "execute_result",
          "data": {
            "application/vnd.google.colaboratory.intrinsic+json": {
              "type": "string"
            },
            "text/plain": [
              "'Neutral'"
            ]
          },
          "metadata": {},
          "execution_count": 11
        }
      ]
    },
    {
      "cell_type": "code",
      "metadata": {
        "id": "iC08dtzXyjp2"
      },
      "source": [
        "data2=pd.DataFrame(columns=[\"Date\",\"Label\",\"Label3\",\"Label7\",\"perc_change1\",\"Perc_change3\",\"Perc_change_7\"])"
      ],
      "execution_count": 23,
      "outputs": []
    },
    {
      "cell_type": "code",
      "metadata": {
        "id": "WT6rNJV4zA2l"
      },
      "source": [
        "import numpy as np\n",
        "data2=pd.DataFrame(columns=[\"Date\",\"Label\",\"Label3\",\"Label7\",\"perc_change1\",\"Perc_change3\",\"Perc_change_7\"])\n",
        "data2['Date']=[np.nan for i in range(1,50,1)]"
      ],
      "execution_count": 29,
      "outputs": []
    },
    {
      "cell_type": "code",
      "metadata": {
        "colab": {
          "base_uri": "https://localhost:8080/",
          "height": 204
        },
        "id": "CjQN6sRSzAUu",
        "outputId": "0c526ee6-4cf4-49d8-d76a-29c75ef1a91c"
      },
      "source": [
        "data2.head()"
      ],
      "execution_count": 30,
      "outputs": [
        {
          "output_type": "execute_result",
          "data": {
            "text/html": [
              "<div>\n",
              "<style scoped>\n",
              "    .dataframe tbody tr th:only-of-type {\n",
              "        vertical-align: middle;\n",
              "    }\n",
              "\n",
              "    .dataframe tbody tr th {\n",
              "        vertical-align: top;\n",
              "    }\n",
              "\n",
              "    .dataframe thead th {\n",
              "        text-align: right;\n",
              "    }\n",
              "</style>\n",
              "<table border=\"1\" class=\"dataframe\">\n",
              "  <thead>\n",
              "    <tr style=\"text-align: right;\">\n",
              "      <th></th>\n",
              "      <th>Date</th>\n",
              "      <th>Label</th>\n",
              "      <th>Label3</th>\n",
              "      <th>Label7</th>\n",
              "      <th>perc_change1</th>\n",
              "      <th>Perc_change3</th>\n",
              "      <th>Perc_change_7</th>\n",
              "    </tr>\n",
              "  </thead>\n",
              "  <tbody>\n",
              "    <tr>\n",
              "      <th>0</th>\n",
              "      <td>NaN</td>\n",
              "      <td>NaN</td>\n",
              "      <td>NaN</td>\n",
              "      <td>NaN</td>\n",
              "      <td>NaN</td>\n",
              "      <td>NaN</td>\n",
              "      <td>NaN</td>\n",
              "    </tr>\n",
              "    <tr>\n",
              "      <th>1</th>\n",
              "      <td>NaN</td>\n",
              "      <td>NaN</td>\n",
              "      <td>NaN</td>\n",
              "      <td>NaN</td>\n",
              "      <td>NaN</td>\n",
              "      <td>NaN</td>\n",
              "      <td>NaN</td>\n",
              "    </tr>\n",
              "    <tr>\n",
              "      <th>2</th>\n",
              "      <td>NaN</td>\n",
              "      <td>NaN</td>\n",
              "      <td>NaN</td>\n",
              "      <td>NaN</td>\n",
              "      <td>NaN</td>\n",
              "      <td>NaN</td>\n",
              "      <td>NaN</td>\n",
              "    </tr>\n",
              "    <tr>\n",
              "      <th>3</th>\n",
              "      <td>NaN</td>\n",
              "      <td>NaN</td>\n",
              "      <td>NaN</td>\n",
              "      <td>NaN</td>\n",
              "      <td>NaN</td>\n",
              "      <td>NaN</td>\n",
              "      <td>NaN</td>\n",
              "    </tr>\n",
              "    <tr>\n",
              "      <th>4</th>\n",
              "      <td>NaN</td>\n",
              "      <td>NaN</td>\n",
              "      <td>NaN</td>\n",
              "      <td>NaN</td>\n",
              "      <td>NaN</td>\n",
              "      <td>NaN</td>\n",
              "      <td>NaN</td>\n",
              "    </tr>\n",
              "  </tbody>\n",
              "</table>\n",
              "</div>"
            ],
            "text/plain": [
              "   Date Label Label3 Label7 perc_change1 Perc_change3 Perc_change_7\n",
              "0   NaN   NaN    NaN    NaN          NaN          NaN           NaN\n",
              "1   NaN   NaN    NaN    NaN          NaN          NaN           NaN\n",
              "2   NaN   NaN    NaN    NaN          NaN          NaN           NaN\n",
              "3   NaN   NaN    NaN    NaN          NaN          NaN           NaN\n",
              "4   NaN   NaN    NaN    NaN          NaN          NaN           NaN"
            ]
          },
          "metadata": {},
          "execution_count": 30
        }
      ]
    }
  ]
}