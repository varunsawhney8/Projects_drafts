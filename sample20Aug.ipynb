{
  "nbformat": 4,
  "nbformat_minor": 0,
  "metadata": {
    "colab": {
      "name": "Untitled7.ipynb",
      "provenance": [],
      "collapsed_sections": [],
      "authorship_tag": "ABX9TyMizAhUc8FnuW1esg9b322q",
      "include_colab_link": true
    },
    "kernelspec": {
      "name": "python3",
      "display_name": "Python 3"
    },
    "language_info": {
      "name": "python"
    }
  },
  "cells": [
    {
      "cell_type": "markdown",
      "metadata": {
        "id": "view-in-github",
        "colab_type": "text"
      },
      "source": [
        "<a href=\"https://colab.research.google.com/github/varunsawhney8/Projects/blob/main/sample20Aug.ipynb\" target=\"_parent\"><img src=\"https://colab.research.google.com/assets/colab-badge.svg\" alt=\"Open In Colab\"/></a>"
      ]
    },
    {
      "cell_type": "code",
      "metadata": {
        "colab": {
          "base_uri": "https://localhost:8080/"
        },
        "id": "TY87rt14CK4J",
        "outputId": "cd8e23c5-4649-4767-f4ef-3991d35987a9"
      },
      "source": [
        "import pandas as pd\n",
        "import numpy as np\n",
        "\n",
        "\n",
        "path='/content/Reliance_Final_Ndtv_data4.xlsx'\n",
        "data=pd.read_excel(path)\n",
        "\n",
        "\n",
        "data=data[::-1].reset_index()\n",
        "data.drop(columns=['index'],axis=True,inplace=True)\n",
        "\n",
        "path='/content/Reliance_Nse_data2.csv'\n",
        "data1=pd.read_csv(path)\n",
        "\n",
        "\n",
        "data['Date']=data['Date'].astype('str')\n",
        "\n",
        "data[\"Price\"]=[np.nan for i in range(data.shape[0])]\n",
        "\n",
        "\n",
        "\n",
        "\n",
        "for i in range(len(data['Date'])):\n",
        "    for j in range(len(data1['Date'])):\n",
        "        if data['Date'][i]==data1['Date'][j]:\n",
        "            data[\"Price\"][i]=data1[\"Close\"][j]\n",
        "        \n",
        "\n",
        "data[\"Price\"]=data[\"Price\"].fillna(method='bfill')\n",
        "\n",
        "data[\"Price\"][372:]=2174\n",
        "\n",
        "\n",
        "\n",
        "# =============================================================================\n",
        "# # Simple Moving Average\n",
        "# \n",
        "# data1['SMA_3'] = data1.iloc[:,1].rolling(window=3).mean().round()\n",
        "# \n",
        "# # Weighted Moving Average\n",
        "# \n",
        "# weights = np.arange(1,11)\n",
        "# wma10 = data1['Close'].rolling(10).apply(lambda prices: np.dot(prices, weights)/weights.sum(), raw=True)\n",
        "# \n",
        "# \n",
        "# =============================================================================\n",
        "# Exponential Moving Average\n",
        "\n",
        "#data['7day_ea'] = data['Price'].ewm(span=7).mean()\n",
        "\n",
        "data.columns\n",
        "data.drop(columns=['Media','Article','Keywords'],inplace=True,axis=1)\n"
      ],
      "execution_count": 29,
      "outputs": [
        {
          "output_type": "stream",
          "text": [
            "/usr/local/lib/python3.7/dist-packages/ipykernel_launcher.py:26: SettingWithCopyWarning: \n",
            "A value is trying to be set on a copy of a slice from a DataFrame\n",
            "\n",
            "See the caveats in the documentation: https://pandas.pydata.org/pandas-docs/stable/user_guide/indexing.html#returning-a-view-versus-a-copy\n",
            "/usr/local/lib/python3.7/dist-packages/ipykernel_launcher.py:31: SettingWithCopyWarning: \n",
            "A value is trying to be set on a copy of a slice from a DataFrame\n",
            "\n",
            "See the caveats in the documentation: https://pandas.pydata.org/pandas-docs/stable/user_guide/indexing.html#returning-a-view-versus-a-copy\n"
          ],
          "name": "stderr"
        }
      ]
    },
    {
      "cell_type": "code",
      "metadata": {
        "colab": {
          "base_uri": "https://localhost:8080/"
        },
        "id": "3tHXiUdCC--9",
        "outputId": "ed621af5-f25b-4d52-d7c7-bdccf3d38d0a"
      },
      "source": [
        "data.columns"
      ],
      "execution_count": 22,
      "outputs": [
        {
          "output_type": "execute_result",
          "data": {
            "text/plain": [
              "Index(['Date', 'Title', 'Price'], dtype='object')"
            ]
          },
          "metadata": {},
          "execution_count": 22
        }
      ]
    },
    {
      "cell_type": "code",
      "metadata": {
        "colab": {
          "base_uri": "https://localhost:8080/"
        },
        "id": "xRT8wmzMCRZq",
        "outputId": "731a54fe-fd80-4a5f-9ff7-e7d410a7da3a"
      },
      "source": [
        "!pip install transformers\n",
        "from transformers import pipeline\n",
        "classifier = pipeline('sentiment-analysis', model=\"ProsusAI/finbert\")\n",
        "list3=[]\n",
        "\n",
        "for i in range(len(data['Title'])):\n",
        "    a=(classifier(data['Title'][i]))\n",
        "    a=a[0]\n",
        "    a=list(a.values())[0]\n",
        "\n",
        "    if a=='positive':\n",
        "        a=1\n",
        "        list3.append(a)\n",
        "    elif a=='negative' :\n",
        "        a=2\n",
        "        list3.append(a)\n",
        "    else:\n",
        "        a=0\n",
        "        list3.append(a)\n",
        "\n",
        "data['finbert']=list3\n",
        "\n",
        "del list3\n"
      ],
      "execution_count": 30,
      "outputs": [
        {
          "output_type": "stream",
          "text": [
            "Requirement already satisfied: transformers in /usr/local/lib/python3.7/dist-packages (4.9.2)\n",
            "Requirement already satisfied: numpy>=1.17 in /usr/local/lib/python3.7/dist-packages (from transformers) (1.19.5)\n",
            "Requirement already satisfied: tqdm>=4.27 in /usr/local/lib/python3.7/dist-packages (from transformers) (4.62.0)\n",
            "Requirement already satisfied: filelock in /usr/local/lib/python3.7/dist-packages (from transformers) (3.0.12)\n",
            "Requirement already satisfied: huggingface-hub==0.0.12 in /usr/local/lib/python3.7/dist-packages (from transformers) (0.0.12)\n",
            "Requirement already satisfied: importlib-metadata in /usr/local/lib/python3.7/dist-packages (from transformers) (4.6.4)\n",
            "Requirement already satisfied: packaging in /usr/local/lib/python3.7/dist-packages (from transformers) (21.0)\n",
            "Requirement already satisfied: tokenizers<0.11,>=0.10.1 in /usr/local/lib/python3.7/dist-packages (from transformers) (0.10.3)\n",
            "Requirement already satisfied: sacremoses in /usr/local/lib/python3.7/dist-packages (from transformers) (0.0.45)\n",
            "Requirement already satisfied: regex!=2019.12.17 in /usr/local/lib/python3.7/dist-packages (from transformers) (2019.12.20)\n",
            "Requirement already satisfied: pyyaml>=5.1 in /usr/local/lib/python3.7/dist-packages (from transformers) (5.4.1)\n",
            "Requirement already satisfied: requests in /usr/local/lib/python3.7/dist-packages (from transformers) (2.23.0)\n",
            "Requirement already satisfied: typing-extensions in /usr/local/lib/python3.7/dist-packages (from huggingface-hub==0.0.12->transformers) (3.7.4.3)\n",
            "Requirement already satisfied: pyparsing>=2.0.2 in /usr/local/lib/python3.7/dist-packages (from packaging->transformers) (2.4.7)\n",
            "Requirement already satisfied: zipp>=0.5 in /usr/local/lib/python3.7/dist-packages (from importlib-metadata->transformers) (3.5.0)\n",
            "Requirement already satisfied: certifi>=2017.4.17 in /usr/local/lib/python3.7/dist-packages (from requests->transformers) (2021.5.30)\n",
            "Requirement already satisfied: urllib3!=1.25.0,!=1.25.1,<1.26,>=1.21.1 in /usr/local/lib/python3.7/dist-packages (from requests->transformers) (1.24.3)\n",
            "Requirement already satisfied: idna<3,>=2.5 in /usr/local/lib/python3.7/dist-packages (from requests->transformers) (2.10)\n",
            "Requirement already satisfied: chardet<4,>=3.0.2 in /usr/local/lib/python3.7/dist-packages (from requests->transformers) (3.0.4)\n",
            "Requirement already satisfied: six in /usr/local/lib/python3.7/dist-packages (from sacremoses->transformers) (1.15.0)\n",
            "Requirement already satisfied: click in /usr/local/lib/python3.7/dist-packages (from sacremoses->transformers) (7.1.2)\n",
            "Requirement already satisfied: joblib in /usr/local/lib/python3.7/dist-packages (from sacremoses->transformers) (1.0.1)\n"
          ],
          "name": "stdout"
        }
      ]
    },
    {
      "cell_type": "code",
      "metadata": {
        "colab": {
          "base_uri": "https://localhost:8080/",
          "height": 204
        },
        "id": "9FCEZXYCG7gd",
        "outputId": "48f73ff4-a25d-4ad4-a9c3-e3c8e8a35fe4"
      },
      "source": [
        "data.head()"
      ],
      "execution_count": 31,
      "outputs": [
        {
          "output_type": "execute_result",
          "data": {
            "text/html": [
              "<div>\n",
              "<style scoped>\n",
              "    .dataframe tbody tr th:only-of-type {\n",
              "        vertical-align: middle;\n",
              "    }\n",
              "\n",
              "    .dataframe tbody tr th {\n",
              "        vertical-align: top;\n",
              "    }\n",
              "\n",
              "    .dataframe thead th {\n",
              "        text-align: right;\n",
              "    }\n",
              "</style>\n",
              "<table border=\"1\" class=\"dataframe\">\n",
              "  <thead>\n",
              "    <tr style=\"text-align: right;\">\n",
              "      <th></th>\n",
              "      <th>Date</th>\n",
              "      <th>Title</th>\n",
              "      <th>Price</th>\n",
              "      <th>finbert</th>\n",
              "    </tr>\n",
              "  </thead>\n",
              "  <tbody>\n",
              "    <tr>\n",
              "      <th>0</th>\n",
              "      <td>2020-07-16</td>\n",
              "      <td>Reliance's Stake Sale Talks With Saudi Aramco ...</td>\n",
              "      <td>1843.400024</td>\n",
              "      <td>2</td>\n",
              "    </tr>\n",
              "    <tr>\n",
              "      <th>1</th>\n",
              "      <td>2020-07-17</td>\n",
              "      <td>Reliance To Shut Crude Refining Unit For Maint...</td>\n",
              "      <td>1911.699951</td>\n",
              "      <td>2</td>\n",
              "    </tr>\n",
              "    <tr>\n",
              "      <th>2</th>\n",
              "      <td>2020-07-20</td>\n",
              "      <td>Reliance-Google Smartphone Deal in India Threa...</td>\n",
              "      <td>1919.900024</td>\n",
              "      <td>2</td>\n",
              "    </tr>\n",
              "    <tr>\n",
              "      <th>3</th>\n",
              "      <td>2020-07-21</td>\n",
              "      <td>Netflix, Amazon, Facebook Stocks Draw In Amate...</td>\n",
              "      <td>1971.550049</td>\n",
              "      <td>1</td>\n",
              "    </tr>\n",
              "    <tr>\n",
              "      <th>4</th>\n",
              "      <td>2020-07-21</td>\n",
              "      <td>JioMart App for Android and iOS Launched: Here...</td>\n",
              "      <td>1971.550049</td>\n",
              "      <td>0</td>\n",
              "    </tr>\n",
              "  </tbody>\n",
              "</table>\n",
              "</div>"
            ],
            "text/plain": [
              "         Date  ... finbert\n",
              "0  2020-07-16  ...       2\n",
              "1  2020-07-17  ...       2\n",
              "2  2020-07-20  ...       2\n",
              "3  2020-07-21  ...       1\n",
              "4  2020-07-21  ...       0\n",
              "\n",
              "[5 rows x 4 columns]"
            ]
          },
          "metadata": {},
          "execution_count": 31
        }
      ]
    },
    {
      "cell_type": "code",
      "metadata": {
        "id": "AWBZdJ_uFvGD"
      },
      "source": [
        "aggregation_functions = {'Price': 'mean', 'Title': 'first', 'finbert': 'mean'}\n",
        "data = data.groupby(data['Date']).aggregate(aggregation_functions)"
      ],
      "execution_count": 40,
      "outputs": []
    },
    {
      "cell_type": "code",
      "metadata": {
        "id": "NiyKcxjzDTh9"
      },
      "source": [
        "#data.head()\n",
        "data['7day_sentiment'] = round(data['finbert'].ewm(span=7).mean())"
      ],
      "execution_count": 41,
      "outputs": []
    },
    {
      "cell_type": "code",
      "metadata": {
        "colab": {
          "base_uri": "https://localhost:8080/"
        },
        "id": "anipAyyyEJCp",
        "outputId": "924cfe52-1836-4db0-bfdc-664be8595f7b"
      },
      "source": [
        "data.columns"
      ],
      "execution_count": 42,
      "outputs": [
        {
          "output_type": "execute_result",
          "data": {
            "text/plain": [
              "Index(['Price', 'Title', 'finbert', '7day_sentiment'], dtype='object')"
            ]
          },
          "metadata": {},
          "execution_count": 42
        }
      ]
    },
    {
      "cell_type": "code",
      "metadata": {
        "id": "q0NfSIK7EixY"
      },
      "source": [
        "data['perc_change'] =data['Price'].pct_change(periods=1)*100"
      ],
      "execution_count": 43,
      "outputs": []
    },
    {
      "cell_type": "code",
      "metadata": {
        "colab": {
          "base_uri": "https://localhost:8080/",
          "height": 450
        },
        "id": "z089LSWwE89l",
        "outputId": "2ff66346-d52b-48b8-d707-8aad0a4f9411"
      },
      "source": [
        "data.head(175)"
      ],
      "execution_count": 45,
      "outputs": [
        {
          "output_type": "execute_result",
          "data": {
            "text/html": [
              "<div>\n",
              "<style scoped>\n",
              "    .dataframe tbody tr th:only-of-type {\n",
              "        vertical-align: middle;\n",
              "    }\n",
              "\n",
              "    .dataframe tbody tr th {\n",
              "        vertical-align: top;\n",
              "    }\n",
              "\n",
              "    .dataframe thead th {\n",
              "        text-align: right;\n",
              "    }\n",
              "</style>\n",
              "<table border=\"1\" class=\"dataframe\">\n",
              "  <thead>\n",
              "    <tr style=\"text-align: right;\">\n",
              "      <th></th>\n",
              "      <th>Price</th>\n",
              "      <th>Title</th>\n",
              "      <th>finbert</th>\n",
              "      <th>7day_sentiment</th>\n",
              "      <th>perc_change</th>\n",
              "    </tr>\n",
              "    <tr>\n",
              "      <th>Date</th>\n",
              "      <th></th>\n",
              "      <th></th>\n",
              "      <th></th>\n",
              "      <th></th>\n",
              "      <th></th>\n",
              "    </tr>\n",
              "  </thead>\n",
              "  <tbody>\n",
              "    <tr>\n",
              "      <th>2020-07-16</th>\n",
              "      <td>1843.400024</td>\n",
              "      <td>Reliance's Stake Sale Talks With Saudi Aramco ...</td>\n",
              "      <td>2.000000</td>\n",
              "      <td>2.0</td>\n",
              "      <td>NaN</td>\n",
              "    </tr>\n",
              "    <tr>\n",
              "      <th>2020-07-17</th>\n",
              "      <td>1911.699951</td>\n",
              "      <td>Reliance To Shut Crude Refining Unit For Maint...</td>\n",
              "      <td>2.000000</td>\n",
              "      <td>2.0</td>\n",
              "      <td>3.705106</td>\n",
              "    </tr>\n",
              "    <tr>\n",
              "      <th>2020-07-20</th>\n",
              "      <td>1919.900024</td>\n",
              "      <td>Reliance-Google Smartphone Deal in India Threa...</td>\n",
              "      <td>2.000000</td>\n",
              "      <td>2.0</td>\n",
              "      <td>0.428941</td>\n",
              "    </tr>\n",
              "    <tr>\n",
              "      <th>2020-07-21</th>\n",
              "      <td>1971.550049</td>\n",
              "      <td>Netflix, Amazon, Facebook Stocks Draw In Amate...</td>\n",
              "      <td>0.500000</td>\n",
              "      <td>1.0</td>\n",
              "      <td>2.690246</td>\n",
              "    </tr>\n",
              "    <tr>\n",
              "      <th>2020-07-22</th>\n",
              "      <td>2004.000000</td>\n",
              "      <td>Reliance Industries Postpones June Quarter Res...</td>\n",
              "      <td>1.000000</td>\n",
              "      <td>1.0</td>\n",
              "      <td>1.645911</td>\n",
              "    </tr>\n",
              "    <tr>\n",
              "      <th>...</th>\n",
              "      <td>...</td>\n",
              "      <td>...</td>\n",
              "      <td>...</td>\n",
              "      <td>...</td>\n",
              "      <td>...</td>\n",
              "    </tr>\n",
              "    <tr>\n",
              "      <th>2021-08-06</th>\n",
              "      <td>2089.050049</td>\n",
              "      <td>In Huge Reliance vs Amazon Clash, Supreme Cour...</td>\n",
              "      <td>1.000000</td>\n",
              "      <td>1.0</td>\n",
              "      <td>-0.698750</td>\n",
              "    </tr>\n",
              "    <tr>\n",
              "      <th>2021-08-08</th>\n",
              "      <td>2088.050049</td>\n",
              "      <td>Bankers In A Huddle As Court Rulings Threaten ...</td>\n",
              "      <td>2.000000</td>\n",
              "      <td>1.0</td>\n",
              "      <td>-0.047869</td>\n",
              "    </tr>\n",
              "    <tr>\n",
              "      <th>2021-08-10</th>\n",
              "      <td>2088.050049</td>\n",
              "      <td>Nifty Seen Opening Marginally Lower; Reliance ...</td>\n",
              "      <td>1.000000</td>\n",
              "      <td>1.0</td>\n",
              "      <td>0.000000</td>\n",
              "    </tr>\n",
              "    <tr>\n",
              "      <th>2021-08-11</th>\n",
              "      <td>2117.300049</td>\n",
              "      <td>Sensex, Nifty End Flat; Metal Shares Outperform</td>\n",
              "      <td>2.000000</td>\n",
              "      <td>1.0</td>\n",
              "      <td>1.400828</td>\n",
              "    </tr>\n",
              "    <tr>\n",
              "      <th>2021-08-16</th>\n",
              "      <td>2174.000000</td>\n",
              "      <td>Sensex Gains Over 100 Points; Tata Steel, Reli...</td>\n",
              "      <td>0.666667</td>\n",
              "      <td>1.0</td>\n",
              "      <td>2.677937</td>\n",
              "    </tr>\n",
              "  </tbody>\n",
              "</table>\n",
              "<p>175 rows × 5 columns</p>\n",
              "</div>"
            ],
            "text/plain": [
              "                  Price  ... perc_change\n",
              "Date                     ...            \n",
              "2020-07-16  1843.400024  ...         NaN\n",
              "2020-07-17  1911.699951  ...    3.705106\n",
              "2020-07-20  1919.900024  ...    0.428941\n",
              "2020-07-21  1971.550049  ...    2.690246\n",
              "2020-07-22  2004.000000  ...    1.645911\n",
              "...                 ...  ...         ...\n",
              "2021-08-06  2089.050049  ...   -0.698750\n",
              "2021-08-08  2088.050049  ...   -0.047869\n",
              "2021-08-10  2088.050049  ...    0.000000\n",
              "2021-08-11  2117.300049  ...    1.400828\n",
              "2021-08-16  2174.000000  ...    2.677937\n",
              "\n",
              "[175 rows x 5 columns]"
            ]
          },
          "metadata": {},
          "execution_count": 45
        }
      ]
    },
    {
      "cell_type": "markdown",
      "metadata": {
        "id": "tekVAFZhCQJ4"
      },
      "source": [
        ""
      ]
    }
  ]
}